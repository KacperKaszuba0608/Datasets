{
  "cells": [
    {
      "cell_type": "markdown",
      "metadata": {
        "id": "view-in-github",
        "colab_type": "text"
      },
      "source": [
        "<a href=\"https://colab.research.google.com/github/KacperKaszuba0608/Projects/blob/main/Exploring_eBay_Car_Sales_Data.ipynb\" target=\"_parent\"><img src=\"https://colab.research.google.com/assets/colab-badge.svg\" alt=\"Open In Colab\"/></a>"
      ]
    },
    {
      "cell_type": "markdown",
      "metadata": {
        "collapsed": true,
        "id": "79PYToTTiCTe"
      },
      "source": [
        "# Guided Project: Exploring eBay Car Sales Data"
      ]
    },
    {
      "cell_type": "markdown",
      "metadata": {
        "id": "ZsPmBu3tiCTf"
      },
      "source": [
        "In this project we focused on exploring eBay Car Sales Data from Kaggle where the original dataset isn't availble now, but you can find it on [data.word](https://data.world/data-society/used-cars-data). Dataquest team sampled 50000 rows and change some values. They did it because we tried clean missing or understood values and then explore them. Below you have description of columns:\n",
        "\n",
        "* `dateCrawled` - when this ad was first crawled. All field-values are taken from this date\n",
        "* `name` - name of the car\n",
        "* `seller` - private or dealer\n",
        "* `offerType` - the tipe of listing\n",
        "* `price` - the price on the ad to sell the car\n",
        "* `abtest` - whether the listing is included in an A/B test\n",
        "* `vehicleType`\n",
        "* `yearOfRegistration` - at which year the car was first registered\n",
        "* `gearbox` - the transmisson type\n",
        "* `powerPS` - power of the car in PS\n",
        "* `model` - the car model name\n",
        "* `kilometer` - how many kilometers the car has driven\n",
        "* `monthOfRegistration` - at which month the car was first registered\n",
        "* `fuelType`\n",
        "* `brand`\n",
        "* `notRepairedDamage` - if the car has a damage which is not repaired yet\n",
        "* `dateCreated` - the date for which the ad at ebay was created\n",
        "* `nrOfPictures` - number of pictures in the ad\n",
        "* `postalCode` - the postal code for the location of the vehicle\n",
        "* `lastSeen` - when the crawler saw this ad last online"
      ]
    },
    {
      "cell_type": "markdown",
      "metadata": {
        "id": "XX5p4UssiCTg"
      },
      "source": [
        "## Importing libraries and dataset"
      ]
    },
    {
      "cell_type": "code",
      "execution_count": null,
      "metadata": {
        "id": "eRKSa_jPiCTg"
      },
      "outputs": [],
      "source": [
        "import pandas as pd\n",
        "import numpy as np\n",
        "\n",
        "cars = pd.read_csv('https://query.data.world/s/b7vnijn6k5r4awstrt4xkouqwff3mi', encoding = 'Latin-1')"
      ]
    },
    {
      "cell_type": "code",
      "execution_count": null,
      "metadata": {
        "colab": {
          "base_uri": "https://localhost:8080/"
        },
        "id": "dwownkm7iCTh",
        "outputId": "9629e548-f134-4fea-a664-9bb363be9275"
      },
      "outputs": [
        {
          "output_type": "stream",
          "name": "stdout",
          "text": [
            "<class 'pandas.core.frame.DataFrame'>\n",
            "RangeIndex: 371528 entries, 0 to 371527\n",
            "Data columns (total 20 columns):\n",
            " #   Column               Non-Null Count   Dtype \n",
            "---  ------               --------------   ----- \n",
            " 0   dateCrawled          371528 non-null  object\n",
            " 1   name                 371528 non-null  object\n",
            " 2   seller               371528 non-null  object\n",
            " 3   offerType            371528 non-null  object\n",
            " 4   price                371528 non-null  int64 \n",
            " 5   abtest               371528 non-null  object\n",
            " 6   vehicleType          333659 non-null  object\n",
            " 7   yearOfRegistration   371528 non-null  int64 \n",
            " 8   gearbox              351319 non-null  object\n",
            " 9   powerPS              371528 non-null  int64 \n",
            " 10  model                351044 non-null  object\n",
            " 11  kilometer            371528 non-null  int64 \n",
            " 12  monthOfRegistration  371528 non-null  int64 \n",
            " 13  fuelType             338142 non-null  object\n",
            " 14  brand                371528 non-null  object\n",
            " 15  notRepairedDamage    299468 non-null  object\n",
            " 16  dateCreated          371528 non-null  object\n",
            " 17  nrOfPictures         371528 non-null  int64 \n",
            " 18  postalCode           371528 non-null  int64 \n",
            " 19  lastSeen             371528 non-null  object\n",
            "dtypes: int64(7), object(13)\n",
            "memory usage: 56.7+ MB\n"
          ]
        }
      ],
      "source": [
        "cars.info()"
      ]
    },
    {
      "cell_type": "code",
      "execution_count": null,
      "metadata": {
        "id": "x8qG_7S5iCTi",
        "outputId": "a29d0147-c9e1-443c-b3e6-ad41713cf039",
        "colab": {
          "base_uri": "https://localhost:8080/",
          "height": 397
        }
      },
      "outputs": [
        {
          "output_type": "execute_result",
          "data": {
            "text/plain": [
              "           dateCrawled                            name  seller offerType  \\\n",
              "0  2016-03-24 11:52:17                      Golf_3_1.6  privat   Angebot   \n",
              "1  2016-03-24 10:58:45            A5_Sportback_2.7_Tdi  privat   Angebot   \n",
              "2  2016-03-14 12:52:21  Jeep_Grand_Cherokee_\"Overland\"  privat   Angebot   \n",
              "3  2016-03-17 16:54:04              GOLF_4_1_4__3TÜRER  privat   Angebot   \n",
              "4  2016-03-31 17:25:20  Skoda_Fabia_1.4_TDI_PD_Classic  privat   Angebot   \n",
              "\n",
              "   price abtest vehicleType  yearOfRegistration    gearbox  powerPS  model  \\\n",
              "0    480   test         NaN                1993    manuell        0   golf   \n",
              "1  18300   test       coupe                2011    manuell      190    NaN   \n",
              "2   9800   test         suv                2004  automatik      163  grand   \n",
              "3   1500   test  kleinwagen                2001    manuell       75   golf   \n",
              "4   3600   test  kleinwagen                2008    manuell       69  fabia   \n",
              "\n",
              "   kilometer  monthOfRegistration fuelType       brand notRepairedDamage  \\\n",
              "0     150000                    0   benzin  volkswagen               NaN   \n",
              "1     125000                    5   diesel        audi                ja   \n",
              "2     125000                    8   diesel        jeep               NaN   \n",
              "3     150000                    6   benzin  volkswagen              nein   \n",
              "4      90000                    7   diesel       skoda              nein   \n",
              "\n",
              "           dateCreated  nrOfPictures  postalCode             lastSeen  \n",
              "0  2016-03-24 00:00:00             0       70435  2016-04-07 03:16:57  \n",
              "1  2016-03-24 00:00:00             0       66954  2016-04-07 01:46:50  \n",
              "2  2016-03-14 00:00:00             0       90480  2016-04-05 12:47:46  \n",
              "3  2016-03-17 00:00:00             0       91074  2016-03-17 17:40:17  \n",
              "4  2016-03-31 00:00:00             0       60437  2016-04-06 10:17:21  "
            ],
            "text/html": [
              "\n",
              "  <div id=\"df-19eaf7f0-1313-4b5e-90c3-fac74db30049\">\n",
              "    <div class=\"colab-df-container\">\n",
              "      <div>\n",
              "<style scoped>\n",
              "    .dataframe tbody tr th:only-of-type {\n",
              "        vertical-align: middle;\n",
              "    }\n",
              "\n",
              "    .dataframe tbody tr th {\n",
              "        vertical-align: top;\n",
              "    }\n",
              "\n",
              "    .dataframe thead th {\n",
              "        text-align: right;\n",
              "    }\n",
              "</style>\n",
              "<table border=\"1\" class=\"dataframe\">\n",
              "  <thead>\n",
              "    <tr style=\"text-align: right;\">\n",
              "      <th></th>\n",
              "      <th>dateCrawled</th>\n",
              "      <th>name</th>\n",
              "      <th>seller</th>\n",
              "      <th>offerType</th>\n",
              "      <th>price</th>\n",
              "      <th>abtest</th>\n",
              "      <th>vehicleType</th>\n",
              "      <th>yearOfRegistration</th>\n",
              "      <th>gearbox</th>\n",
              "      <th>powerPS</th>\n",
              "      <th>model</th>\n",
              "      <th>kilometer</th>\n",
              "      <th>monthOfRegistration</th>\n",
              "      <th>fuelType</th>\n",
              "      <th>brand</th>\n",
              "      <th>notRepairedDamage</th>\n",
              "      <th>dateCreated</th>\n",
              "      <th>nrOfPictures</th>\n",
              "      <th>postalCode</th>\n",
              "      <th>lastSeen</th>\n",
              "    </tr>\n",
              "  </thead>\n",
              "  <tbody>\n",
              "    <tr>\n",
              "      <th>0</th>\n",
              "      <td>2016-03-24 11:52:17</td>\n",
              "      <td>Golf_3_1.6</td>\n",
              "      <td>privat</td>\n",
              "      <td>Angebot</td>\n",
              "      <td>480</td>\n",
              "      <td>test</td>\n",
              "      <td>NaN</td>\n",
              "      <td>1993</td>\n",
              "      <td>manuell</td>\n",
              "      <td>0</td>\n",
              "      <td>golf</td>\n",
              "      <td>150000</td>\n",
              "      <td>0</td>\n",
              "      <td>benzin</td>\n",
              "      <td>volkswagen</td>\n",
              "      <td>NaN</td>\n",
              "      <td>2016-03-24 00:00:00</td>\n",
              "      <td>0</td>\n",
              "      <td>70435</td>\n",
              "      <td>2016-04-07 03:16:57</td>\n",
              "    </tr>\n",
              "    <tr>\n",
              "      <th>1</th>\n",
              "      <td>2016-03-24 10:58:45</td>\n",
              "      <td>A5_Sportback_2.7_Tdi</td>\n",
              "      <td>privat</td>\n",
              "      <td>Angebot</td>\n",
              "      <td>18300</td>\n",
              "      <td>test</td>\n",
              "      <td>coupe</td>\n",
              "      <td>2011</td>\n",
              "      <td>manuell</td>\n",
              "      <td>190</td>\n",
              "      <td>NaN</td>\n",
              "      <td>125000</td>\n",
              "      <td>5</td>\n",
              "      <td>diesel</td>\n",
              "      <td>audi</td>\n",
              "      <td>ja</td>\n",
              "      <td>2016-03-24 00:00:00</td>\n",
              "      <td>0</td>\n",
              "      <td>66954</td>\n",
              "      <td>2016-04-07 01:46:50</td>\n",
              "    </tr>\n",
              "    <tr>\n",
              "      <th>2</th>\n",
              "      <td>2016-03-14 12:52:21</td>\n",
              "      <td>Jeep_Grand_Cherokee_\"Overland\"</td>\n",
              "      <td>privat</td>\n",
              "      <td>Angebot</td>\n",
              "      <td>9800</td>\n",
              "      <td>test</td>\n",
              "      <td>suv</td>\n",
              "      <td>2004</td>\n",
              "      <td>automatik</td>\n",
              "      <td>163</td>\n",
              "      <td>grand</td>\n",
              "      <td>125000</td>\n",
              "      <td>8</td>\n",
              "      <td>diesel</td>\n",
              "      <td>jeep</td>\n",
              "      <td>NaN</td>\n",
              "      <td>2016-03-14 00:00:00</td>\n",
              "      <td>0</td>\n",
              "      <td>90480</td>\n",
              "      <td>2016-04-05 12:47:46</td>\n",
              "    </tr>\n",
              "    <tr>\n",
              "      <th>3</th>\n",
              "      <td>2016-03-17 16:54:04</td>\n",
              "      <td>GOLF_4_1_4__3TÜRER</td>\n",
              "      <td>privat</td>\n",
              "      <td>Angebot</td>\n",
              "      <td>1500</td>\n",
              "      <td>test</td>\n",
              "      <td>kleinwagen</td>\n",
              "      <td>2001</td>\n",
              "      <td>manuell</td>\n",
              "      <td>75</td>\n",
              "      <td>golf</td>\n",
              "      <td>150000</td>\n",
              "      <td>6</td>\n",
              "      <td>benzin</td>\n",
              "      <td>volkswagen</td>\n",
              "      <td>nein</td>\n",
              "      <td>2016-03-17 00:00:00</td>\n",
              "      <td>0</td>\n",
              "      <td>91074</td>\n",
              "      <td>2016-03-17 17:40:17</td>\n",
              "    </tr>\n",
              "    <tr>\n",
              "      <th>4</th>\n",
              "      <td>2016-03-31 17:25:20</td>\n",
              "      <td>Skoda_Fabia_1.4_TDI_PD_Classic</td>\n",
              "      <td>privat</td>\n",
              "      <td>Angebot</td>\n",
              "      <td>3600</td>\n",
              "      <td>test</td>\n",
              "      <td>kleinwagen</td>\n",
              "      <td>2008</td>\n",
              "      <td>manuell</td>\n",
              "      <td>69</td>\n",
              "      <td>fabia</td>\n",
              "      <td>90000</td>\n",
              "      <td>7</td>\n",
              "      <td>diesel</td>\n",
              "      <td>skoda</td>\n",
              "      <td>nein</td>\n",
              "      <td>2016-03-31 00:00:00</td>\n",
              "      <td>0</td>\n",
              "      <td>60437</td>\n",
              "      <td>2016-04-06 10:17:21</td>\n",
              "    </tr>\n",
              "  </tbody>\n",
              "</table>\n",
              "</div>\n",
              "      <button class=\"colab-df-convert\" onclick=\"convertToInteractive('df-19eaf7f0-1313-4b5e-90c3-fac74db30049')\"\n",
              "              title=\"Convert this dataframe to an interactive table.\"\n",
              "              style=\"display:none;\">\n",
              "        \n",
              "  <svg xmlns=\"http://www.w3.org/2000/svg\" height=\"24px\"viewBox=\"0 0 24 24\"\n",
              "       width=\"24px\">\n",
              "    <path d=\"M0 0h24v24H0V0z\" fill=\"none\"/>\n",
              "    <path d=\"M18.56 5.44l.94 2.06.94-2.06 2.06-.94-2.06-.94-.94-2.06-.94 2.06-2.06.94zm-11 1L8.5 8.5l.94-2.06 2.06-.94-2.06-.94L8.5 2.5l-.94 2.06-2.06.94zm10 10l.94 2.06.94-2.06 2.06-.94-2.06-.94-.94-2.06-.94 2.06-2.06.94z\"/><path d=\"M17.41 7.96l-1.37-1.37c-.4-.4-.92-.59-1.43-.59-.52 0-1.04.2-1.43.59L10.3 9.45l-7.72 7.72c-.78.78-.78 2.05 0 2.83L4 21.41c.39.39.9.59 1.41.59.51 0 1.02-.2 1.41-.59l7.78-7.78 2.81-2.81c.8-.78.8-2.07 0-2.86zM5.41 20L4 18.59l7.72-7.72 1.47 1.35L5.41 20z\"/>\n",
              "  </svg>\n",
              "      </button>\n",
              "      \n",
              "  <style>\n",
              "    .colab-df-container {\n",
              "      display:flex;\n",
              "      flex-wrap:wrap;\n",
              "      gap: 12px;\n",
              "    }\n",
              "\n",
              "    .colab-df-convert {\n",
              "      background-color: #E8F0FE;\n",
              "      border: none;\n",
              "      border-radius: 50%;\n",
              "      cursor: pointer;\n",
              "      display: none;\n",
              "      fill: #1967D2;\n",
              "      height: 32px;\n",
              "      padding: 0 0 0 0;\n",
              "      width: 32px;\n",
              "    }\n",
              "\n",
              "    .colab-df-convert:hover {\n",
              "      background-color: #E2EBFA;\n",
              "      box-shadow: 0px 1px 2px rgba(60, 64, 67, 0.3), 0px 1px 3px 1px rgba(60, 64, 67, 0.15);\n",
              "      fill: #174EA6;\n",
              "    }\n",
              "\n",
              "    [theme=dark] .colab-df-convert {\n",
              "      background-color: #3B4455;\n",
              "      fill: #D2E3FC;\n",
              "    }\n",
              "\n",
              "    [theme=dark] .colab-df-convert:hover {\n",
              "      background-color: #434B5C;\n",
              "      box-shadow: 0px 1px 3px 1px rgba(0, 0, 0, 0.15);\n",
              "      filter: drop-shadow(0px 1px 2px rgba(0, 0, 0, 0.3));\n",
              "      fill: #FFFFFF;\n",
              "    }\n",
              "  </style>\n",
              "\n",
              "      <script>\n",
              "        const buttonEl =\n",
              "          document.querySelector('#df-19eaf7f0-1313-4b5e-90c3-fac74db30049 button.colab-df-convert');\n",
              "        buttonEl.style.display =\n",
              "          google.colab.kernel.accessAllowed ? 'block' : 'none';\n",
              "\n",
              "        async function convertToInteractive(key) {\n",
              "          const element = document.querySelector('#df-19eaf7f0-1313-4b5e-90c3-fac74db30049');\n",
              "          const dataTable =\n",
              "            await google.colab.kernel.invokeFunction('convertToInteractive',\n",
              "                                                     [key], {});\n",
              "          if (!dataTable) return;\n",
              "\n",
              "          const docLinkHtml = 'Like what you see? Visit the ' +\n",
              "            '<a target=\"_blank\" href=https://colab.research.google.com/notebooks/data_table.ipynb>data table notebook</a>'\n",
              "            + ' to learn more about interactive tables.';\n",
              "          element.innerHTML = '';\n",
              "          dataTable['output_type'] = 'display_data';\n",
              "          await google.colab.output.renderOutput(dataTable, element);\n",
              "          const docLink = document.createElement('div');\n",
              "          docLink.innerHTML = docLinkHtml;\n",
              "          element.appendChild(docLink);\n",
              "        }\n",
              "      </script>\n",
              "    </div>\n",
              "  </div>\n",
              "  "
            ]
          },
          "metadata": {},
          "execution_count": 18
        }
      ],
      "source": [
        "cars.head()"
      ]
    },
    {
      "cell_type": "markdown",
      "metadata": {
        "id": "LxuwvtPliCTi"
      },
      "source": [
        "As we see above the dataset has 50000 rows and 20 columns. Most of them are `object` type and only 5 columns have `int64` type. 5 columns have null values, so we had to clean it and some of column names are no in the same type. That's we changed them below."
      ]
    },
    {
      "cell_type": "markdown",
      "metadata": {
        "id": "ZLn6k-AviCTi"
      },
      "source": [
        "## Cleaning Column Names"
      ]
    },
    {
      "cell_type": "code",
      "execution_count": null,
      "metadata": {
        "id": "-sJVSTIqiCTi",
        "outputId": "0f2a25fd-8441-4e0e-c854-5631242dc5e5",
        "colab": {
          "base_uri": "https://localhost:8080/",
          "height": 363
        }
      },
      "outputs": [
        {
          "output_type": "error",
          "ename": "ValueError",
          "evalue": "ignored",
          "traceback": [
            "\u001b[0;31m---------------------------------------------------------------------------\u001b[0m",
            "\u001b[0;31mValueError\u001b[0m                                Traceback (most recent call last)",
            "\u001b[0;32m<ipython-input-8-a93be1483daf>\u001b[0m in \u001b[0;36m<module>\u001b[0;34m\u001b[0m\n\u001b[1;32m      3\u001b[0m        \u001b[0;34m'odometer'\u001b[0m\u001b[0;34m,\u001b[0m \u001b[0;34m'registration_month'\u001b[0m\u001b[0;34m,\u001b[0m \u001b[0;34m'fuel_type'\u001b[0m\u001b[0;34m,\u001b[0m \u001b[0;34m'brand'\u001b[0m\u001b[0;34m,\u001b[0m\u001b[0;34m\u001b[0m\u001b[0;34m\u001b[0m\u001b[0m\n\u001b[1;32m      4\u001b[0m        \u001b[0;34m'unrepaired_damage'\u001b[0m\u001b[0;34m,\u001b[0m \u001b[0;34m'ad_created'\u001b[0m\u001b[0;34m,\u001b[0m \u001b[0;34m'pictures_num'\u001b[0m\u001b[0;34m,\u001b[0m \u001b[0;34m'postal_code'\u001b[0m\u001b[0;34m,\u001b[0m\u001b[0;34m\u001b[0m\u001b[0;34m\u001b[0m\u001b[0m\n\u001b[0;32m----> 5\u001b[0;31m        'last_seen']\n\u001b[0m\u001b[1;32m      6\u001b[0m \u001b[0mcars\u001b[0m\u001b[0;34m.\u001b[0m\u001b[0mhead\u001b[0m\u001b[0;34m(\u001b[0m\u001b[0;34m)\u001b[0m\u001b[0;34m\u001b[0m\u001b[0;34m\u001b[0m\u001b[0m\n",
            "\u001b[0;32m/usr/local/lib/python3.7/dist-packages/pandas/core/generic.py\u001b[0m in \u001b[0;36m__setattr__\u001b[0;34m(self, name, value)\u001b[0m\n\u001b[1;32m   5498\u001b[0m         \u001b[0;32mtry\u001b[0m\u001b[0;34m:\u001b[0m\u001b[0;34m\u001b[0m\u001b[0;34m\u001b[0m\u001b[0m\n\u001b[1;32m   5499\u001b[0m             \u001b[0mobject\u001b[0m\u001b[0;34m.\u001b[0m\u001b[0m__getattribute__\u001b[0m\u001b[0;34m(\u001b[0m\u001b[0mself\u001b[0m\u001b[0;34m,\u001b[0m \u001b[0mname\u001b[0m\u001b[0;34m)\u001b[0m\u001b[0;34m\u001b[0m\u001b[0;34m\u001b[0m\u001b[0m\n\u001b[0;32m-> 5500\u001b[0;31m             \u001b[0;32mreturn\u001b[0m \u001b[0mobject\u001b[0m\u001b[0;34m.\u001b[0m\u001b[0m__setattr__\u001b[0m\u001b[0;34m(\u001b[0m\u001b[0mself\u001b[0m\u001b[0;34m,\u001b[0m \u001b[0mname\u001b[0m\u001b[0;34m,\u001b[0m \u001b[0mvalue\u001b[0m\u001b[0;34m)\u001b[0m\u001b[0;34m\u001b[0m\u001b[0;34m\u001b[0m\u001b[0m\n\u001b[0m\u001b[1;32m   5501\u001b[0m         \u001b[0;32mexcept\u001b[0m \u001b[0mAttributeError\u001b[0m\u001b[0;34m:\u001b[0m\u001b[0;34m\u001b[0m\u001b[0;34m\u001b[0m\u001b[0m\n\u001b[1;32m   5502\u001b[0m             \u001b[0;32mpass\u001b[0m\u001b[0;34m\u001b[0m\u001b[0;34m\u001b[0m\u001b[0m\n",
            "\u001b[0;32m/usr/local/lib/python3.7/dist-packages/pandas/_libs/properties.pyx\u001b[0m in \u001b[0;36mpandas._libs.properties.AxisProperty.__set__\u001b[0;34m()\u001b[0m\n",
            "\u001b[0;32m/usr/local/lib/python3.7/dist-packages/pandas/core/generic.py\u001b[0m in \u001b[0;36m_set_axis\u001b[0;34m(self, axis, labels)\u001b[0m\n\u001b[1;32m    764\u001b[0m     \u001b[0;32mdef\u001b[0m \u001b[0m_set_axis\u001b[0m\u001b[0;34m(\u001b[0m\u001b[0mself\u001b[0m\u001b[0;34m,\u001b[0m \u001b[0maxis\u001b[0m\u001b[0;34m:\u001b[0m \u001b[0mint\u001b[0m\u001b[0;34m,\u001b[0m \u001b[0mlabels\u001b[0m\u001b[0;34m:\u001b[0m \u001b[0mIndex\u001b[0m\u001b[0;34m)\u001b[0m \u001b[0;34m->\u001b[0m \u001b[0;32mNone\u001b[0m\u001b[0;34m:\u001b[0m\u001b[0;34m\u001b[0m\u001b[0;34m\u001b[0m\u001b[0m\n\u001b[1;32m    765\u001b[0m         \u001b[0mlabels\u001b[0m \u001b[0;34m=\u001b[0m \u001b[0mensure_index\u001b[0m\u001b[0;34m(\u001b[0m\u001b[0mlabels\u001b[0m\u001b[0;34m)\u001b[0m\u001b[0;34m\u001b[0m\u001b[0;34m\u001b[0m\u001b[0m\n\u001b[0;32m--> 766\u001b[0;31m         \u001b[0mself\u001b[0m\u001b[0;34m.\u001b[0m\u001b[0m_mgr\u001b[0m\u001b[0;34m.\u001b[0m\u001b[0mset_axis\u001b[0m\u001b[0;34m(\u001b[0m\u001b[0maxis\u001b[0m\u001b[0;34m,\u001b[0m \u001b[0mlabels\u001b[0m\u001b[0;34m)\u001b[0m\u001b[0;34m\u001b[0m\u001b[0;34m\u001b[0m\u001b[0m\n\u001b[0m\u001b[1;32m    767\u001b[0m         \u001b[0mself\u001b[0m\u001b[0;34m.\u001b[0m\u001b[0m_clear_item_cache\u001b[0m\u001b[0;34m(\u001b[0m\u001b[0;34m)\u001b[0m\u001b[0;34m\u001b[0m\u001b[0;34m\u001b[0m\u001b[0m\n\u001b[1;32m    768\u001b[0m \u001b[0;34m\u001b[0m\u001b[0m\n",
            "\u001b[0;32m/usr/local/lib/python3.7/dist-packages/pandas/core/internals/managers.py\u001b[0m in \u001b[0;36mset_axis\u001b[0;34m(self, axis, new_labels)\u001b[0m\n\u001b[1;32m    214\u001b[0m     \u001b[0;32mdef\u001b[0m \u001b[0mset_axis\u001b[0m\u001b[0;34m(\u001b[0m\u001b[0mself\u001b[0m\u001b[0;34m,\u001b[0m \u001b[0maxis\u001b[0m\u001b[0;34m:\u001b[0m \u001b[0mint\u001b[0m\u001b[0;34m,\u001b[0m \u001b[0mnew_labels\u001b[0m\u001b[0;34m:\u001b[0m \u001b[0mIndex\u001b[0m\u001b[0;34m)\u001b[0m \u001b[0;34m->\u001b[0m \u001b[0;32mNone\u001b[0m\u001b[0;34m:\u001b[0m\u001b[0;34m\u001b[0m\u001b[0;34m\u001b[0m\u001b[0m\n\u001b[1;32m    215\u001b[0m         \u001b[0;31m# Caller is responsible for ensuring we have an Index object.\u001b[0m\u001b[0;34m\u001b[0m\u001b[0;34m\u001b[0m\u001b[0;34m\u001b[0m\u001b[0m\n\u001b[0;32m--> 216\u001b[0;31m         \u001b[0mself\u001b[0m\u001b[0;34m.\u001b[0m\u001b[0m_validate_set_axis\u001b[0m\u001b[0;34m(\u001b[0m\u001b[0maxis\u001b[0m\u001b[0;34m,\u001b[0m \u001b[0mnew_labels\u001b[0m\u001b[0;34m)\u001b[0m\u001b[0;34m\u001b[0m\u001b[0;34m\u001b[0m\u001b[0m\n\u001b[0m\u001b[1;32m    217\u001b[0m         \u001b[0mself\u001b[0m\u001b[0;34m.\u001b[0m\u001b[0maxes\u001b[0m\u001b[0;34m[\u001b[0m\u001b[0maxis\u001b[0m\u001b[0;34m]\u001b[0m \u001b[0;34m=\u001b[0m \u001b[0mnew_labels\u001b[0m\u001b[0;34m\u001b[0m\u001b[0;34m\u001b[0m\u001b[0m\n\u001b[1;32m    218\u001b[0m \u001b[0;34m\u001b[0m\u001b[0m\n",
            "\u001b[0;32m/usr/local/lib/python3.7/dist-packages/pandas/core/internals/base.py\u001b[0m in \u001b[0;36m_validate_set_axis\u001b[0;34m(self, axis, new_labels)\u001b[0m\n\u001b[1;32m     56\u001b[0m         \u001b[0;32melif\u001b[0m \u001b[0mnew_len\u001b[0m \u001b[0;34m!=\u001b[0m \u001b[0mold_len\u001b[0m\u001b[0;34m:\u001b[0m\u001b[0;34m\u001b[0m\u001b[0;34m\u001b[0m\u001b[0m\n\u001b[1;32m     57\u001b[0m             raise ValueError(\n\u001b[0;32m---> 58\u001b[0;31m                 \u001b[0;34mf\"Length mismatch: Expected axis has {old_len} elements, new \"\u001b[0m\u001b[0;34m\u001b[0m\u001b[0;34m\u001b[0m\u001b[0m\n\u001b[0m\u001b[1;32m     59\u001b[0m                 \u001b[0;34mf\"values have {new_len} elements\"\u001b[0m\u001b[0;34m\u001b[0m\u001b[0;34m\u001b[0m\u001b[0m\n\u001b[1;32m     60\u001b[0m             )\n",
            "\u001b[0;31mValueError\u001b[0m: Length mismatch: Expected axis has 785 elements, new values have 20 elements"
          ]
        }
      ],
      "source": [
        "cars.columns = ['crawled_date', 'name', 'seller', 'offer_type', 'price', 'abtest',\n",
        "       'vehicle_type', 'registration_year', 'gearbox', 'power_ps', 'model',\n",
        "       'odometer', 'registration_month', 'fuel_type', 'brand',\n",
        "       'unrepaired_damage', 'ad_created', 'pictures_num', 'postal_code',\n",
        "       'last_seen']\n",
        "cars.head()"
      ]
    },
    {
      "cell_type": "markdown",
      "metadata": {
        "id": "FTbo3viOiCTj"
      },
      "source": [
        "Now, column names are more simple and understood. We created list of new column names and asigned it to `cars.columns` function from pandas."
      ]
    },
    {
      "cell_type": "markdown",
      "metadata": {
        "id": "XXHkufdhiCTj"
      },
      "source": [
        "## Exploration and Cleaning"
      ]
    },
    {
      "cell_type": "code",
      "execution_count": null,
      "metadata": {
        "id": "hiMGmQXgiCTj",
        "outputId": "152c5108-b91e-46d5-b5b2-f79ffbdf3f7c"
      },
      "outputs": [
        {
          "data": {
            "text/html": [
              "<div>\n",
              "<style scoped>\n",
              "    .dataframe tbody tr th:only-of-type {\n",
              "        vertical-align: middle;\n",
              "    }\n",
              "\n",
              "    .dataframe tbody tr th {\n",
              "        vertical-align: top;\n",
              "    }\n",
              "\n",
              "    .dataframe thead th {\n",
              "        text-align: right;\n",
              "    }\n",
              "</style>\n",
              "<table border=\"1\" class=\"dataframe\">\n",
              "  <thead>\n",
              "    <tr style=\"text-align: right;\">\n",
              "      <th></th>\n",
              "      <th>crawled_date</th>\n",
              "      <th>name</th>\n",
              "      <th>seller</th>\n",
              "      <th>offer_type</th>\n",
              "      <th>price</th>\n",
              "      <th>abtest</th>\n",
              "      <th>vehicle_type</th>\n",
              "      <th>registration_year</th>\n",
              "      <th>gearbox</th>\n",
              "      <th>power_ps</th>\n",
              "      <th>model</th>\n",
              "      <th>odometer</th>\n",
              "      <th>registration_month</th>\n",
              "      <th>fuel_type</th>\n",
              "      <th>brand</th>\n",
              "      <th>unrepaired_damage</th>\n",
              "      <th>ad_created</th>\n",
              "      <th>pictures_num</th>\n",
              "      <th>postal_code</th>\n",
              "      <th>last_seen</th>\n",
              "    </tr>\n",
              "  </thead>\n",
              "  <tbody>\n",
              "    <tr>\n",
              "      <th>count</th>\n",
              "      <td>50000</td>\n",
              "      <td>50000</td>\n",
              "      <td>50000</td>\n",
              "      <td>50000</td>\n",
              "      <td>50000</td>\n",
              "      <td>50000</td>\n",
              "      <td>44905</td>\n",
              "      <td>50000.000000</td>\n",
              "      <td>47320</td>\n",
              "      <td>50000.000000</td>\n",
              "      <td>47242</td>\n",
              "      <td>50000</td>\n",
              "      <td>50000.000000</td>\n",
              "      <td>45518</td>\n",
              "      <td>50000</td>\n",
              "      <td>40171</td>\n",
              "      <td>50000</td>\n",
              "      <td>50000.0</td>\n",
              "      <td>50000.000000</td>\n",
              "      <td>50000</td>\n",
              "    </tr>\n",
              "    <tr>\n",
              "      <th>unique</th>\n",
              "      <td>48213</td>\n",
              "      <td>38754</td>\n",
              "      <td>2</td>\n",
              "      <td>2</td>\n",
              "      <td>2357</td>\n",
              "      <td>2</td>\n",
              "      <td>8</td>\n",
              "      <td>NaN</td>\n",
              "      <td>2</td>\n",
              "      <td>NaN</td>\n",
              "      <td>245</td>\n",
              "      <td>13</td>\n",
              "      <td>NaN</td>\n",
              "      <td>7</td>\n",
              "      <td>40</td>\n",
              "      <td>2</td>\n",
              "      <td>76</td>\n",
              "      <td>NaN</td>\n",
              "      <td>NaN</td>\n",
              "      <td>39481</td>\n",
              "    </tr>\n",
              "    <tr>\n",
              "      <th>top</th>\n",
              "      <td>2016-03-21 20:37:19</td>\n",
              "      <td>Ford_Fiesta</td>\n",
              "      <td>privat</td>\n",
              "      <td>Angebot</td>\n",
              "      <td>$0</td>\n",
              "      <td>test</td>\n",
              "      <td>limousine</td>\n",
              "      <td>NaN</td>\n",
              "      <td>manuell</td>\n",
              "      <td>NaN</td>\n",
              "      <td>golf</td>\n",
              "      <td>150,000km</td>\n",
              "      <td>NaN</td>\n",
              "      <td>benzin</td>\n",
              "      <td>volkswagen</td>\n",
              "      <td>nein</td>\n",
              "      <td>2016-04-03 00:00:00</td>\n",
              "      <td>NaN</td>\n",
              "      <td>NaN</td>\n",
              "      <td>2016-04-07 06:17:27</td>\n",
              "    </tr>\n",
              "    <tr>\n",
              "      <th>freq</th>\n",
              "      <td>3</td>\n",
              "      <td>78</td>\n",
              "      <td>49999</td>\n",
              "      <td>49999</td>\n",
              "      <td>1421</td>\n",
              "      <td>25756</td>\n",
              "      <td>12859</td>\n",
              "      <td>NaN</td>\n",
              "      <td>36993</td>\n",
              "      <td>NaN</td>\n",
              "      <td>4024</td>\n",
              "      <td>32424</td>\n",
              "      <td>NaN</td>\n",
              "      <td>30107</td>\n",
              "      <td>10687</td>\n",
              "      <td>35232</td>\n",
              "      <td>1946</td>\n",
              "      <td>NaN</td>\n",
              "      <td>NaN</td>\n",
              "      <td>8</td>\n",
              "    </tr>\n",
              "    <tr>\n",
              "      <th>mean</th>\n",
              "      <td>NaN</td>\n",
              "      <td>NaN</td>\n",
              "      <td>NaN</td>\n",
              "      <td>NaN</td>\n",
              "      <td>NaN</td>\n",
              "      <td>NaN</td>\n",
              "      <td>NaN</td>\n",
              "      <td>2005.073280</td>\n",
              "      <td>NaN</td>\n",
              "      <td>116.355920</td>\n",
              "      <td>NaN</td>\n",
              "      <td>NaN</td>\n",
              "      <td>5.723360</td>\n",
              "      <td>NaN</td>\n",
              "      <td>NaN</td>\n",
              "      <td>NaN</td>\n",
              "      <td>NaN</td>\n",
              "      <td>0.0</td>\n",
              "      <td>50813.627300</td>\n",
              "      <td>NaN</td>\n",
              "    </tr>\n",
              "    <tr>\n",
              "      <th>std</th>\n",
              "      <td>NaN</td>\n",
              "      <td>NaN</td>\n",
              "      <td>NaN</td>\n",
              "      <td>NaN</td>\n",
              "      <td>NaN</td>\n",
              "      <td>NaN</td>\n",
              "      <td>NaN</td>\n",
              "      <td>105.712813</td>\n",
              "      <td>NaN</td>\n",
              "      <td>209.216627</td>\n",
              "      <td>NaN</td>\n",
              "      <td>NaN</td>\n",
              "      <td>3.711984</td>\n",
              "      <td>NaN</td>\n",
              "      <td>NaN</td>\n",
              "      <td>NaN</td>\n",
              "      <td>NaN</td>\n",
              "      <td>0.0</td>\n",
              "      <td>25779.747957</td>\n",
              "      <td>NaN</td>\n",
              "    </tr>\n",
              "    <tr>\n",
              "      <th>min</th>\n",
              "      <td>NaN</td>\n",
              "      <td>NaN</td>\n",
              "      <td>NaN</td>\n",
              "      <td>NaN</td>\n",
              "      <td>NaN</td>\n",
              "      <td>NaN</td>\n",
              "      <td>NaN</td>\n",
              "      <td>1000.000000</td>\n",
              "      <td>NaN</td>\n",
              "      <td>0.000000</td>\n",
              "      <td>NaN</td>\n",
              "      <td>NaN</td>\n",
              "      <td>0.000000</td>\n",
              "      <td>NaN</td>\n",
              "      <td>NaN</td>\n",
              "      <td>NaN</td>\n",
              "      <td>NaN</td>\n",
              "      <td>0.0</td>\n",
              "      <td>1067.000000</td>\n",
              "      <td>NaN</td>\n",
              "    </tr>\n",
              "    <tr>\n",
              "      <th>25%</th>\n",
              "      <td>NaN</td>\n",
              "      <td>NaN</td>\n",
              "      <td>NaN</td>\n",
              "      <td>NaN</td>\n",
              "      <td>NaN</td>\n",
              "      <td>NaN</td>\n",
              "      <td>NaN</td>\n",
              "      <td>1999.000000</td>\n",
              "      <td>NaN</td>\n",
              "      <td>70.000000</td>\n",
              "      <td>NaN</td>\n",
              "      <td>NaN</td>\n",
              "      <td>3.000000</td>\n",
              "      <td>NaN</td>\n",
              "      <td>NaN</td>\n",
              "      <td>NaN</td>\n",
              "      <td>NaN</td>\n",
              "      <td>0.0</td>\n",
              "      <td>30451.000000</td>\n",
              "      <td>NaN</td>\n",
              "    </tr>\n",
              "    <tr>\n",
              "      <th>50%</th>\n",
              "      <td>NaN</td>\n",
              "      <td>NaN</td>\n",
              "      <td>NaN</td>\n",
              "      <td>NaN</td>\n",
              "      <td>NaN</td>\n",
              "      <td>NaN</td>\n",
              "      <td>NaN</td>\n",
              "      <td>2003.000000</td>\n",
              "      <td>NaN</td>\n",
              "      <td>105.000000</td>\n",
              "      <td>NaN</td>\n",
              "      <td>NaN</td>\n",
              "      <td>6.000000</td>\n",
              "      <td>NaN</td>\n",
              "      <td>NaN</td>\n",
              "      <td>NaN</td>\n",
              "      <td>NaN</td>\n",
              "      <td>0.0</td>\n",
              "      <td>49577.000000</td>\n",
              "      <td>NaN</td>\n",
              "    </tr>\n",
              "    <tr>\n",
              "      <th>75%</th>\n",
              "      <td>NaN</td>\n",
              "      <td>NaN</td>\n",
              "      <td>NaN</td>\n",
              "      <td>NaN</td>\n",
              "      <td>NaN</td>\n",
              "      <td>NaN</td>\n",
              "      <td>NaN</td>\n",
              "      <td>2008.000000</td>\n",
              "      <td>NaN</td>\n",
              "      <td>150.000000</td>\n",
              "      <td>NaN</td>\n",
              "      <td>NaN</td>\n",
              "      <td>9.000000</td>\n",
              "      <td>NaN</td>\n",
              "      <td>NaN</td>\n",
              "      <td>NaN</td>\n",
              "      <td>NaN</td>\n",
              "      <td>0.0</td>\n",
              "      <td>71540.000000</td>\n",
              "      <td>NaN</td>\n",
              "    </tr>\n",
              "    <tr>\n",
              "      <th>max</th>\n",
              "      <td>NaN</td>\n",
              "      <td>NaN</td>\n",
              "      <td>NaN</td>\n",
              "      <td>NaN</td>\n",
              "      <td>NaN</td>\n",
              "      <td>NaN</td>\n",
              "      <td>NaN</td>\n",
              "      <td>9999.000000</td>\n",
              "      <td>NaN</td>\n",
              "      <td>17700.000000</td>\n",
              "      <td>NaN</td>\n",
              "      <td>NaN</td>\n",
              "      <td>12.000000</td>\n",
              "      <td>NaN</td>\n",
              "      <td>NaN</td>\n",
              "      <td>NaN</td>\n",
              "      <td>NaN</td>\n",
              "      <td>0.0</td>\n",
              "      <td>99998.000000</td>\n",
              "      <td>NaN</td>\n",
              "    </tr>\n",
              "  </tbody>\n",
              "</table>\n",
              "</div>"
            ],
            "text/plain": [
              "               crawled_date         name  seller offer_type  price abtest  \\\n",
              "count                 50000        50000   50000      50000  50000  50000   \n",
              "unique                48213        38754       2          2   2357      2   \n",
              "top     2016-03-21 20:37:19  Ford_Fiesta  privat    Angebot     $0   test   \n",
              "freq                      3           78   49999      49999   1421  25756   \n",
              "mean                    NaN          NaN     NaN        NaN    NaN    NaN   \n",
              "std                     NaN          NaN     NaN        NaN    NaN    NaN   \n",
              "min                     NaN          NaN     NaN        NaN    NaN    NaN   \n",
              "25%                     NaN          NaN     NaN        NaN    NaN    NaN   \n",
              "50%                     NaN          NaN     NaN        NaN    NaN    NaN   \n",
              "75%                     NaN          NaN     NaN        NaN    NaN    NaN   \n",
              "max                     NaN          NaN     NaN        NaN    NaN    NaN   \n",
              "\n",
              "       vehicle_type  registration_year  gearbox      power_ps  model  \\\n",
              "count         44905       50000.000000    47320  50000.000000  47242   \n",
              "unique            8                NaN        2           NaN    245   \n",
              "top       limousine                NaN  manuell           NaN   golf   \n",
              "freq          12859                NaN    36993           NaN   4024   \n",
              "mean            NaN        2005.073280      NaN    116.355920    NaN   \n",
              "std             NaN         105.712813      NaN    209.216627    NaN   \n",
              "min             NaN        1000.000000      NaN      0.000000    NaN   \n",
              "25%             NaN        1999.000000      NaN     70.000000    NaN   \n",
              "50%             NaN        2003.000000      NaN    105.000000    NaN   \n",
              "75%             NaN        2008.000000      NaN    150.000000    NaN   \n",
              "max             NaN        9999.000000      NaN  17700.000000    NaN   \n",
              "\n",
              "         odometer  registration_month fuel_type       brand unrepaired_damage  \\\n",
              "count       50000        50000.000000     45518       50000             40171   \n",
              "unique         13                 NaN         7          40                 2   \n",
              "top     150,000km                 NaN    benzin  volkswagen              nein   \n",
              "freq        32424                 NaN     30107       10687             35232   \n",
              "mean          NaN            5.723360       NaN         NaN               NaN   \n",
              "std           NaN            3.711984       NaN         NaN               NaN   \n",
              "min           NaN            0.000000       NaN         NaN               NaN   \n",
              "25%           NaN            3.000000       NaN         NaN               NaN   \n",
              "50%           NaN            6.000000       NaN         NaN               NaN   \n",
              "75%           NaN            9.000000       NaN         NaN               NaN   \n",
              "max           NaN           12.000000       NaN         NaN               NaN   \n",
              "\n",
              "                 ad_created  pictures_num   postal_code            last_seen  \n",
              "count                 50000       50000.0  50000.000000                50000  \n",
              "unique                   76           NaN           NaN                39481  \n",
              "top     2016-04-03 00:00:00           NaN           NaN  2016-04-07 06:17:27  \n",
              "freq                   1946           NaN           NaN                    8  \n",
              "mean                    NaN           0.0  50813.627300                  NaN  \n",
              "std                     NaN           0.0  25779.747957                  NaN  \n",
              "min                     NaN           0.0   1067.000000                  NaN  \n",
              "25%                     NaN           0.0  30451.000000                  NaN  \n",
              "50%                     NaN           0.0  49577.000000                  NaN  \n",
              "75%                     NaN           0.0  71540.000000                  NaN  \n",
              "max                     NaN           0.0  99998.000000                  NaN  "
            ]
          },
          "execution_count": 5,
          "metadata": {},
          "output_type": "execute_result"
        }
      ],
      "source": [
        "cars.describe(include = 'all')"
      ]
    },
    {
      "cell_type": "markdown",
      "metadata": {
        "id": "_db5GJwziCTj"
      },
      "source": [
        "Description of columns tels us that 2 columns: `odometer` and `price` have combination of string and number. That's why we had to found a pattern and cleaned it. Column `registration_year` has a strange maximum value equal 9999. It's probably wrong value because 9999 year is a future. Column `power_ps` has unbelievable maximum value qual 177700 ps. None car has power like this one. Column `registration_month` has minimum value 0.00, month 0 doesn't exist so it's misstake too. We colud remove columns which every value were the same. It happened in columns: `seller`, `offer_type` and `pictures_num`. They told us nothing so we could remove it. What we did at first."
      ]
    },
    {
      "cell_type": "code",
      "execution_count": null,
      "metadata": {
        "id": "6amlafkjiCTj",
        "outputId": "ef707805-dc7f-4d71-df1d-3033a7be6ab8"
      },
      "outputs": [
        {
          "data": {
            "text/plain": [
              "(50000, 17)"
            ]
          },
          "execution_count": 6,
          "metadata": {},
          "output_type": "execute_result"
        }
      ],
      "source": [
        "cars = cars.drop(['seller', 'offer_type', 'pictures_num'], axis = 1)\n",
        "cars.shape"
      ]
    },
    {
      "cell_type": "code",
      "execution_count": null,
      "metadata": {
        "id": "j8ZH5mq3iCTk"
      },
      "outputs": [],
      "source": [
        "cars['price'] = cars['price'].str.replace('$', '').str.replace(',', '')\n",
        "cars['price'] = cars['price'].astype(int)"
      ]
    },
    {
      "cell_type": "code",
      "execution_count": null,
      "metadata": {
        "id": "XA8I95bEiCTk"
      },
      "outputs": [],
      "source": [
        "cars['odometer'] = cars['odometer'].str.replace('km', '').str.replace(',', '')\n",
        "cars['odometer'] = cars['odometer'].astype(int)"
      ]
    },
    {
      "cell_type": "code",
      "execution_count": null,
      "metadata": {
        "id": "ezvHuXgtiCTk"
      },
      "outputs": [],
      "source": [
        "cars.rename({'odometer' : 'odometer_km', 'price' : 'price_dol'}, \n",
        "            inplace = True, axis = 1)"
      ]
    },
    {
      "cell_type": "markdown",
      "metadata": {
        "id": "eoq-lUG_iCTk"
      },
      "source": [
        "## Exploring and cleaning prices"
      ]
    },
    {
      "cell_type": "code",
      "execution_count": null,
      "metadata": {
        "id": "vVF4zsuliCTk",
        "outputId": "d6d3b68b-ffa5-4d13-f5a1-2f3355bfbbf9"
      },
      "outputs": [
        {
          "data": {
            "text/plain": [
              "count    5.000000e+04\n",
              "mean     9.840044e+03\n",
              "std      4.811044e+05\n",
              "min      0.000000e+00\n",
              "25%      1.100000e+03\n",
              "50%      2.950000e+03\n",
              "75%      7.200000e+03\n",
              "max      1.000000e+08\n",
              "Name: price_dol, dtype: float64"
            ]
          },
          "execution_count": 10,
          "metadata": {},
          "output_type": "execute_result"
        }
      ],
      "source": [
        "cars['price_dol'].describe()"
      ]
    },
    {
      "cell_type": "code",
      "execution_count": null,
      "metadata": {
        "id": "BrhojsCViCTk",
        "outputId": "55010bcc-091a-4289-9ee8-ca86c6e57be3"
      },
      "outputs": [
        {
          "data": {
            "text/plain": [
              "99999999    1\n",
              "27322222    1\n",
              "12345678    3\n",
              "11111111    2\n",
              "10000000    1\n",
              "3890000     1\n",
              "1300000     1\n",
              "1234566     1\n",
              "999999      2\n",
              "999990      1\n",
              "350000      1\n",
              "345000      1\n",
              "299000      1\n",
              "295000      1\n",
              "265000      1\n",
              "259000      1\n",
              "250000      1\n",
              "220000      1\n",
              "198000      1\n",
              "197000      1\n",
              "Name: price_dol, dtype: int64"
            ]
          },
          "execution_count": 11,
          "metadata": {},
          "output_type": "execute_result"
        }
      ],
      "source": [
        "cars['price_dol'].value_counts().sort_index(ascending = False).head(20)"
      ]
    },
    {
      "cell_type": "code",
      "execution_count": null,
      "metadata": {
        "id": "wwX8Bl5QiCTl",
        "outputId": "c93f8c0a-9402-4422-845b-48901c5ab264"
      },
      "outputs": [
        {
          "data": {
            "text/plain": [
              "0     1421\n",
              "1      156\n",
              "2        3\n",
              "3        1\n",
              "5        2\n",
              "8        1\n",
              "9        1\n",
              "10       7\n",
              "11       2\n",
              "12       3\n",
              "13       2\n",
              "14       1\n",
              "15       2\n",
              "17       3\n",
              "18       1\n",
              "20       4\n",
              "25       5\n",
              "29       1\n",
              "30       7\n",
              "35       1\n",
              "Name: price_dol, dtype: int64"
            ]
          },
          "execution_count": 12,
          "metadata": {},
          "output_type": "execute_result"
        }
      ],
      "source": [
        "cars['price_dol'].value_counts().sort_index(ascending = True).head(20)"
      ]
    },
    {
      "cell_type": "markdown",
      "metadata": {
        "id": "vX2_Df92iCTl"
      },
      "source": [
        "As we see above we have cars which cost 0\\\\$ and cars which cost 999990$ and more. That's why we chose cars' prices between 1\\\\$ and 350001\\\\$. We did it below."
      ]
    },
    {
      "cell_type": "code",
      "execution_count": null,
      "metadata": {
        "id": "SzdN4qwpiCTl",
        "outputId": "f2837a7a-7a5f-4ae7-d7ec-8c879860d173"
      },
      "outputs": [
        {
          "data": {
            "text/plain": [
              "count     48565.000000\n",
              "mean       5888.935591\n",
              "std        9059.854754\n",
              "min           1.000000\n",
              "25%        1200.000000\n",
              "50%        3000.000000\n",
              "75%        7490.000000\n",
              "max      350000.000000\n",
              "Name: price_dol, dtype: float64"
            ]
          },
          "execution_count": 13,
          "metadata": {},
          "output_type": "execute_result"
        }
      ],
      "source": [
        "cars = cars[cars['price_dol'].between(1, 350001)]\n",
        "cars['price_dol'].describe()"
      ]
    },
    {
      "cell_type": "markdown",
      "metadata": {
        "id": "w_g66x6CiCTl"
      },
      "source": [
        "## Exploring and cleaning odometer_km"
      ]
    },
    {
      "cell_type": "code",
      "execution_count": null,
      "metadata": {
        "id": "ltf0RUjIiCTl",
        "outputId": "0c0b5e26-b373-48e4-cfa7-c4e58036ee9d"
      },
      "outputs": [
        {
          "data": {
            "text/plain": [
              "count     48565.000000\n",
              "mean     125770.101925\n",
              "std       39788.636804\n",
              "min        5000.000000\n",
              "25%      125000.000000\n",
              "50%      150000.000000\n",
              "75%      150000.000000\n",
              "max      150000.000000\n",
              "Name: odometer_km, dtype: float64"
            ]
          },
          "execution_count": 14,
          "metadata": {},
          "output_type": "execute_result"
        }
      ],
      "source": [
        "cars['odometer_km'].describe()"
      ]
    },
    {
      "cell_type": "markdown",
      "metadata": {
        "id": "B4x1kwKkiCTl"
      },
      "source": [
        "As we see odometer column is rounded and we decided that nothing in it is mistake and we didn't have to change anything."
      ]
    },
    {
      "cell_type": "markdown",
      "metadata": {
        "id": "5dYZkgciiCTm"
      },
      "source": [
        "## Exploring and cleaning registration_year and month"
      ]
    },
    {
      "cell_type": "code",
      "execution_count": null,
      "metadata": {
        "id": "uMpaAW8piCTm",
        "outputId": "1ab56e5c-c960-465f-ca3c-95a334bc440b"
      },
      "outputs": [
        {
          "data": {
            "text/plain": [
              "count    48565.000000\n",
              "mean      2004.755421\n",
              "std         88.643887\n",
              "min       1000.000000\n",
              "25%       1999.000000\n",
              "50%       2004.000000\n",
              "75%       2008.000000\n",
              "max       9999.000000\n",
              "Name: registration_year, dtype: float64"
            ]
          },
          "execution_count": 15,
          "metadata": {},
          "output_type": "execute_result"
        }
      ],
      "source": [
        "cars['registration_year'].describe()"
      ]
    },
    {
      "cell_type": "markdown",
      "metadata": {
        "id": "IfyJStatiCTm"
      },
      "source": [
        "Above, maximum years is 9999 and it's imposible. Minimum value is 1000 and it historically imposible too. That's we had to find registration year between 1886 (date of creation first car) and now (2022)."
      ]
    },
    {
      "cell_type": "code",
      "execution_count": null,
      "metadata": {
        "id": "GBD7O7MhiCTm"
      },
      "outputs": [],
      "source": [
        "cars = cars[cars['registration_year'].between(1886, 2022)]"
      ]
    },
    {
      "cell_type": "code",
      "execution_count": null,
      "metadata": {
        "id": "mbhe-w0DiCTm",
        "outputId": "12204efe-59bf-42a0-dfa1-2b3e6ba0f875"
      },
      "outputs": [
        {
          "data": {
            "text/plain": [
              "count    48545.000000\n",
              "mean      2003.461510\n",
              "std          7.566196\n",
              "min       1910.000000\n",
              "25%       1999.000000\n",
              "50%       2004.000000\n",
              "75%       2008.000000\n",
              "max       2019.000000\n",
              "Name: registration_year, dtype: float64"
            ]
          },
          "execution_count": 17,
          "metadata": {},
          "output_type": "execute_result"
        }
      ],
      "source": [
        "cars['registration_year'].describe()"
      ]
    },
    {
      "cell_type": "code",
      "execution_count": null,
      "metadata": {
        "id": "msNun9BeiCTm",
        "outputId": "ac7259bf-ed00-4128-a25b-f7bac400cf86"
      },
      "outputs": [
        {
          "data": {
            "text/plain": [
              "count    48545.000000\n",
              "mean         5.783603\n",
              "std          3.684938\n",
              "min          0.000000\n",
              "25%          3.000000\n",
              "50%          6.000000\n",
              "75%          9.000000\n",
              "max         12.000000\n",
              "Name: registration_month, dtype: float64"
            ]
          },
          "execution_count": 18,
          "metadata": {},
          "output_type": "execute_result"
        }
      ],
      "source": [
        "cars['registration_month'].describe()"
      ]
    },
    {
      "cell_type": "code",
      "execution_count": null,
      "metadata": {
        "id": "UQojetnBiCTm",
        "outputId": "578572ef-b9bb-448d-f6f8-fafc49b4ec65"
      },
      "outputs": [
        {
          "data": {
            "text/plain": [
              "0    4468\n",
              "Name: registration_month, dtype: int64"
            ]
          },
          "execution_count": 19,
          "metadata": {},
          "output_type": "execute_result"
        }
      ],
      "source": [
        "cars.loc[cars['registration_month'] == 0, 'registration_month'].value_counts()"
      ]
    },
    {
      "cell_type": "markdown",
      "metadata": {
        "id": "yKUbqxRgiCTn"
      },
      "source": [
        "`registration_month` column has one mistake. It has values equal 0. All know that months numbers are 1 to 12, so we had to drop rows with 0. There were 4468 of these values."
      ]
    },
    {
      "cell_type": "code",
      "execution_count": null,
      "metadata": {
        "scrolled": true,
        "id": "T9D39TJyiCTn"
      },
      "outputs": [],
      "source": [
        "cars = cars[cars['registration_month'].between(1,12)]"
      ]
    },
    {
      "cell_type": "code",
      "execution_count": null,
      "metadata": {
        "scrolled": true,
        "id": "btdBP4ZjiCTn",
        "outputId": "7c70834f-2532-441d-b932-0913c27141db"
      },
      "outputs": [
        {
          "data": {
            "text/plain": [
              "count    44077.000000\n",
              "mean         6.369875\n",
              "std          3.349729\n",
              "min          1.000000\n",
              "25%          3.000000\n",
              "50%          6.000000\n",
              "75%          9.000000\n",
              "max         12.000000\n",
              "Name: registration_month, dtype: float64"
            ]
          },
          "execution_count": 21,
          "metadata": {},
          "output_type": "execute_result"
        }
      ],
      "source": [
        "cars['registration_month'].describe()"
      ]
    },
    {
      "cell_type": "code",
      "execution_count": null,
      "metadata": {
        "id": "OQ8xVjjgiCTn",
        "outputId": "205afa42-b986-471d-f523-4477281197c9"
      },
      "outputs": [
        {
          "data": {
            "text/plain": [
              "2005    2698\n",
              "1999    2614\n",
              "2000    2594\n",
              "2004    2587\n",
              "2006    2576\n",
              "2003    2538\n",
              "2001    2416\n",
              "2002    2323\n",
              "2007    2194\n",
              "2008    2138\n",
              "1998    2077\n",
              "2009    2034\n",
              "1997    1703\n",
              "2011    1595\n",
              "2010    1562\n",
              "Name: registration_year, dtype: int64"
            ]
          },
          "execution_count": 22,
          "metadata": {},
          "output_type": "execute_result"
        }
      ],
      "source": [
        "(cars['registration_year'].value_counts()\n",
        "                          .sort_values(ascending = False)\n",
        "                          .head(15))"
      ]
    },
    {
      "cell_type": "markdown",
      "metadata": {
        "id": "rAVFEOyniCTn"
      },
      "source": [
        "The most cars registrated 20 years ago"
      ]
    },
    {
      "cell_type": "markdown",
      "metadata": {
        "id": "DtQl3NQeiCTn"
      },
      "source": [
        "## Exploring and cleaning power_ps"
      ]
    },
    {
      "cell_type": "code",
      "execution_count": null,
      "metadata": {
        "id": "ZEx2dvOziCTn",
        "outputId": "e1b4a17a-bb24-4756-916d-1ccc50352fb2"
      },
      "outputs": [
        {
          "data": {
            "text/plain": [
              "count    44077.000000\n",
              "mean       121.987045\n",
              "std        207.906287\n",
              "min          0.000000\n",
              "25%         75.000000\n",
              "50%        110.000000\n",
              "75%        150.000000\n",
              "max      17700.000000\n",
              "Name: power_ps, dtype: float64"
            ]
          },
          "execution_count": 23,
          "metadata": {},
          "output_type": "execute_result"
        }
      ],
      "source": [
        "cars['power_ps'].describe()"
      ]
    },
    {
      "cell_type": "markdown",
      "metadata": {
        "id": "f16gWGqZiCTn"
      },
      "source": [
        "The fastest car in the world has 1600ps, so this to upper limit of ps value, that why every value over it has to be remove. The car can't have power qual 0, so we had to check it too."
      ]
    },
    {
      "cell_type": "code",
      "execution_count": null,
      "metadata": {
        "id": "-G0ZCjgLiCTo",
        "outputId": "7fc9fcd6-2888-4169-d568-a4e325060a20"
      },
      "outputs": [
        {
          "data": {
            "text/plain": [
              "0     3266\n",
              "1        5\n",
              "2        1\n",
              "3        2\n",
              "4        3\n",
              "5       10\n",
              "6        3\n",
              "8        2\n",
              "10       2\n",
              "11       4\n",
              "14       1\n",
              "15       3\n",
              "18       4\n",
              "19       1\n",
              "20       2\n",
              "21       1\n",
              "23       3\n",
              "24       1\n",
              "25       1\n",
              "26      23\n",
              "Name: power_ps, dtype: int64"
            ]
          },
          "execution_count": 24,
          "metadata": {},
          "output_type": "execute_result"
        }
      ],
      "source": [
        "cars['power_ps'].value_counts().sort_index().head(20)"
      ]
    },
    {
      "cell_type": "code",
      "execution_count": null,
      "metadata": {
        "id": "T_9nryo_iCTo",
        "outputId": "c364b1f5-ac97-450e-aa19-0e380fa92e6c"
      },
      "outputs": [
        {
          "data": {
            "text/plain": [
              "28"
            ]
          },
          "execution_count": 25,
          "metadata": {},
          "output_type": "execute_result"
        }
      ],
      "source": [
        "cars.loc[cars['power_ps'] > 1600, 'power_ps'].value_counts().sum()"
      ]
    },
    {
      "cell_type": "code",
      "execution_count": null,
      "metadata": {
        "id": "by408KIPiCTo"
      },
      "outputs": [],
      "source": [
        "cars = cars[cars['power_ps'].between(1, 1601)]"
      ]
    },
    {
      "cell_type": "code",
      "execution_count": null,
      "metadata": {
        "id": "4n-m8rVTiCTo",
        "outputId": "67091fb6-94c5-43f0-e705-6a64c564e8e4"
      },
      "outputs": [
        {
          "data": {
            "text/plain": [
              "count    40783.000000\n",
              "mean       127.790182\n",
              "std         67.077762\n",
              "min          1.000000\n",
              "25%         80.000000\n",
              "50%        116.000000\n",
              "75%        150.000000\n",
              "max       1405.000000\n",
              "Name: power_ps, dtype: float64"
            ]
          },
          "execution_count": 27,
          "metadata": {},
          "output_type": "execute_result"
        }
      ],
      "source": [
        "cars['power_ps'].describe()"
      ]
    },
    {
      "cell_type": "code",
      "execution_count": null,
      "metadata": {
        "scrolled": true,
        "id": "Ouo7g11CiCTo",
        "outputId": "0d1a1d8b-af62-448f-9226-465933669c8f"
      },
      "outputs": [
        {
          "data": {
            "text/plain": [
              "75     2785\n",
              "60     1937\n",
              "150    1833\n",
              "140    1790\n",
              "101    1586\n",
              "116    1537\n",
              "90     1535\n",
              "170    1404\n",
              "105    1339\n",
              "136     868\n",
              "Name: power_ps, dtype: int64"
            ]
          },
          "execution_count": 28,
          "metadata": {},
          "output_type": "execute_result"
        }
      ],
      "source": [
        "cars['power_ps'].value_counts().sort_values(ascending = False).head(10)"
      ]
    },
    {
      "cell_type": "markdown",
      "metadata": {
        "id": "m4VfqdFgiCTo"
      },
      "source": [
        "The most cars have power between 60 and 150 ps."
      ]
    },
    {
      "cell_type": "markdown",
      "metadata": {
        "id": "nGcAv7A0iCTo"
      },
      "source": [
        "## Exploring the date columns"
      ]
    },
    {
      "cell_type": "code",
      "execution_count": null,
      "metadata": {
        "id": "YETYmkiWiCTo",
        "outputId": "44df22f6-50dd-4348-f16e-393b7f9ffc9c"
      },
      "outputs": [
        {
          "data": {
            "text/html": [
              "<div>\n",
              "<style scoped>\n",
              "    .dataframe tbody tr th:only-of-type {\n",
              "        vertical-align: middle;\n",
              "    }\n",
              "\n",
              "    .dataframe tbody tr th {\n",
              "        vertical-align: top;\n",
              "    }\n",
              "\n",
              "    .dataframe thead th {\n",
              "        text-align: right;\n",
              "    }\n",
              "</style>\n",
              "<table border=\"1\" class=\"dataframe\">\n",
              "  <thead>\n",
              "    <tr style=\"text-align: right;\">\n",
              "      <th></th>\n",
              "      <th>crawled_date</th>\n",
              "      <th>ad_created</th>\n",
              "      <th>last_seen</th>\n",
              "    </tr>\n",
              "  </thead>\n",
              "  <tbody>\n",
              "    <tr>\n",
              "      <th>0</th>\n",
              "      <td>2016-03-26 17:47:46</td>\n",
              "      <td>2016-03-26 00:00:00</td>\n",
              "      <td>2016-04-06 06:45:54</td>\n",
              "    </tr>\n",
              "    <tr>\n",
              "      <th>1</th>\n",
              "      <td>2016-04-04 13:38:56</td>\n",
              "      <td>2016-04-04 00:00:00</td>\n",
              "      <td>2016-04-06 14:45:08</td>\n",
              "    </tr>\n",
              "    <tr>\n",
              "      <th>2</th>\n",
              "      <td>2016-03-26 18:57:24</td>\n",
              "      <td>2016-03-26 00:00:00</td>\n",
              "      <td>2016-04-06 20:15:37</td>\n",
              "    </tr>\n",
              "    <tr>\n",
              "      <th>3</th>\n",
              "      <td>2016-03-12 16:58:10</td>\n",
              "      <td>2016-03-12 00:00:00</td>\n",
              "      <td>2016-03-15 03:16:28</td>\n",
              "    </tr>\n",
              "    <tr>\n",
              "      <th>5</th>\n",
              "      <td>2016-03-21 13:47:45</td>\n",
              "      <td>2016-03-21 00:00:00</td>\n",
              "      <td>2016-04-06 09:45:21</td>\n",
              "    </tr>\n",
              "  </tbody>\n",
              "</table>\n",
              "</div>"
            ],
            "text/plain": [
              "          crawled_date           ad_created            last_seen\n",
              "0  2016-03-26 17:47:46  2016-03-26 00:00:00  2016-04-06 06:45:54\n",
              "1  2016-04-04 13:38:56  2016-04-04 00:00:00  2016-04-06 14:45:08\n",
              "2  2016-03-26 18:57:24  2016-03-26 00:00:00  2016-04-06 20:15:37\n",
              "3  2016-03-12 16:58:10  2016-03-12 00:00:00  2016-03-15 03:16:28\n",
              "5  2016-03-21 13:47:45  2016-03-21 00:00:00  2016-04-06 09:45:21"
            ]
          },
          "execution_count": 29,
          "metadata": {},
          "output_type": "execute_result"
        }
      ],
      "source": [
        "cars[['crawled_date','ad_created','last_seen']][0:5]"
      ]
    },
    {
      "cell_type": "code",
      "execution_count": null,
      "metadata": {
        "id": "aOvqCs4NiCTp",
        "outputId": "ea622a8b-99cc-4e98-c1c4-e8df7d31d194"
      },
      "outputs": [
        {
          "data": {
            "text/plain": [
              "2016-03-05    0.025403\n",
              "2016-03-06    0.014295\n",
              "2016-03-07    0.036241\n",
              "2016-03-08    0.032906\n",
              "2016-03-09    0.032317\n",
              "2016-03-10    0.032366\n",
              "2016-03-11    0.032489\n",
              "2016-03-12    0.037270\n",
              "2016-03-13    0.015570\n",
              "2016-03-14    0.036854\n",
              "2016-03-15    0.034009\n",
              "2016-03-16    0.029301\n",
              "2016-03-17    0.031214\n",
              "2016-03-18    0.012922\n",
              "2016-03-19    0.034451\n",
              "2016-03-20    0.038398\n",
              "2016-03-21    0.037270\n",
              "2016-03-22    0.032881\n",
              "2016-03-23    0.031631\n",
              "2016-03-24    0.029179\n",
              "2016-03-25    0.031459\n",
              "2016-03-26    0.032587\n",
              "2016-03-27    0.030920\n",
              "2016-03-28    0.035309\n",
              "2016-03-29    0.033372\n",
              "2016-03-30    0.033298\n",
              "2016-03-31    0.032170\n",
              "2016-04-01    0.034279\n",
              "2016-04-02    0.035603\n",
              "2016-04-03    0.039158\n",
              "2016-04-04    0.036976\n",
              "2016-04-05    0.013290\n",
              "2016-04-06    0.003188\n",
              "2016-04-07    0.001422\n",
              "Name: crawled_date, dtype: float64"
            ]
          },
          "execution_count": 30,
          "metadata": {},
          "output_type": "execute_result"
        }
      ],
      "source": [
        "(cars['crawled_date'].str[:10]\n",
        "                     .value_counts(normalize = True, dropna = False)\n",
        "                     .sort_index())"
      ]
    },
    {
      "cell_type": "code",
      "execution_count": null,
      "metadata": {
        "id": "913un8iqiCTp",
        "outputId": "a9a9a913-6e8f-4e37-afe8-7f84569caf5e"
      },
      "outputs": [
        {
          "data": {
            "text/plain": [
              "2016-03-05    0.001030\n",
              "2016-03-06    0.003899\n",
              "2016-03-07    0.005051\n",
              "2016-03-08    0.006792\n",
              "2016-03-09    0.009220\n",
              "2016-03-10    0.010274\n",
              "2016-03-11    0.011868\n",
              "2016-03-12    0.023466\n",
              "2016-03-13    0.008459\n",
              "2016-03-14    0.012407\n",
              "2016-03-15    0.015497\n",
              "2016-03-16    0.015913\n",
              "2016-03-17    0.027119\n",
              "2016-03-18    0.007233\n",
              "2016-03-19    0.015644\n",
              "2016-03-20    0.020254\n",
              "2016-03-21    0.019959\n",
              "2016-03-22    0.020817\n",
              "2016-03-23    0.018292\n",
              "2016-03-24    0.019273\n",
              "2016-03-25    0.018856\n",
              "2016-03-26    0.016330\n",
              "2016-03-27    0.014884\n",
              "2016-03-28    0.020474\n",
              "2016-03-29    0.021921\n",
              "2016-03-30    0.024667\n",
              "2016-03-31    0.023294\n",
              "2016-04-01    0.023269\n",
              "2016-04-02    0.025231\n",
              "2016-04-03    0.024839\n",
              "2016-04-04    0.023809\n",
              "2016-04-05    0.128264\n",
              "2016-04-06    0.227055\n",
              "2016-04-07    0.134639\n",
              "Name: last_seen, dtype: float64"
            ]
          },
          "execution_count": 31,
          "metadata": {},
          "output_type": "execute_result"
        }
      ],
      "source": [
        "(cars['last_seen'].str[:10]\n",
        "                     .value_counts(normalize = True, dropna = False)\n",
        "                     .sort_index())"
      ]
    },
    {
      "cell_type": "markdown",
      "metadata": {
        "id": "D7u1RZfjiCTp"
      },
      "source": [
        "As we see above, columns `crawled_date` and `last_seen` are percentages similar. The ads were crawled day by day for two months (March and April). Three last rows in `last_seen` column are diferent and disturb the rest of distribution. This values are higher than earlier but it's not because of sale many car, but probably bacause ending the crawled."
      ]
    },
    {
      "cell_type": "code",
      "execution_count": null,
      "metadata": {
        "id": "Y4ga3esiiCTp",
        "outputId": "fce003dc-a3f8-415a-98fc-eb85b1c95aa7"
      },
      "outputs": [
        {
          "data": {
            "text/plain": [
              "2015-08-10    0.000025\n",
              "2015-09-09    0.000025\n",
              "2015-11-10    0.000025\n",
              "2015-12-05    0.000025\n",
              "2015-12-30    0.000025\n",
              "                ...   \n",
              "2016-04-03    0.039355\n",
              "2016-04-04    0.037369\n",
              "2016-04-05    0.011990\n",
              "2016-04-06    0.003286\n",
              "2016-04-07    0.001251\n",
              "Name: ad_created, Length: 74, dtype: float64"
            ]
          },
          "execution_count": 32,
          "metadata": {},
          "output_type": "execute_result"
        }
      ],
      "source": [
        "(cars['ad_created'].str[:10]\n",
        "                     .value_counts(normalize = True, dropna = False)\n",
        "                     .sort_index())"
      ]
    },
    {
      "cell_type": "markdown",
      "metadata": {
        "id": "ficdkc1OiCTp"
      },
      "source": [
        "The most ads were created in two months (March and April) and that months tally with `crawled_date` and `last_seen` columns. But in `ad_created` column we saw records which had ads created 9 month earlier than first record in `crawled_date` column."
      ]
    },
    {
      "cell_type": "markdown",
      "metadata": {
        "id": "T_030C9aiCTp"
      },
      "source": [
        "## Exploring Price by brand"
      ]
    },
    {
      "cell_type": "markdown",
      "metadata": {
        "id": "UfrtzG1hiCTp"
      },
      "source": [
        "We chose top 20 brands and explore mean price of car."
      ]
    },
    {
      "cell_type": "code",
      "execution_count": null,
      "metadata": {
        "id": "9zQZ3A6liCTq"
      },
      "outputs": [],
      "source": [
        "def means_by_brand(dataset, brand_column, mean_column):\n",
        "    '''\n",
        "    dataset - variable with data (dataframe)\n",
        "    brand_column - name of column with brands (string)\n",
        "    mean_column - name of column witch we want calcuate mean (string)\n",
        "    '''\n",
        "    mean_by_brands = {}\n",
        "    \n",
        "    brands = dataset[brand_column].value_counts(normalize = True).head(20).index\n",
        "    \n",
        "    for brand in brands:\n",
        "        one_brand = dataset[dataset[brand_column] == brand]\n",
        "        mean_value = one_brand[mean_column].mean()\n",
        "        mean_by_brands[brand] = int(mean_value)\n",
        "        \n",
        "    return mean_by_brands"
      ]
    },
    {
      "cell_type": "code",
      "execution_count": null,
      "metadata": {
        "id": "sZ_vcYQ8iCTq",
        "outputId": "d4be9bc7-495c-4d8b-8f24-e79fa2b7c3c3"
      },
      "outputs": [
        {
          "data": {
            "text/plain": [
              "{'volkswagen': 5887,\n",
              " 'bmw': 8793,\n",
              " 'opel': 3272,\n",
              " 'mercedes_benz': 9083,\n",
              " 'audi': 9958,\n",
              " 'ford': 4062,\n",
              " 'renault': 2705,\n",
              " 'peugeot': 3318,\n",
              " 'fiat': 3035,\n",
              " 'seat': 4722,\n",
              " 'skoda': 6748,\n",
              " 'nissan': 5201,\n",
              " 'mazda': 4513,\n",
              " 'smart': 3775,\n",
              " 'citroen': 3973,\n",
              " 'toyota': 5366,\n",
              " 'hyundai': 5753,\n",
              " 'mini': 10719,\n",
              " 'volvo': 5191,\n",
              " 'honda': 4410}"
            ]
          },
          "execution_count": 34,
          "metadata": {},
          "output_type": "execute_result"
        }
      ],
      "source": [
        "mean_price = means_by_brand(cars, 'brand', 'price_dol')\n",
        "mean_price"
      ]
    },
    {
      "cell_type": "markdown",
      "metadata": {
        "id": "SY9YKjaeiCTq"
      },
      "source": [
        "Top 5 most expensive cars are:\n",
        "1. mini\n",
        "2. audi\n",
        "3. mercedes_benz\n",
        "4. bmw\n",
        "5. skoda\n",
        "\n",
        "So we can conclude that:\n",
        "* Audi, mercedes and bwm are expensive and luxury cars. \n",
        "* Opel and ford are chipper cars but still good.\n",
        "* Skoda and volkswagen are the best option for both fiancial status. \n",
        "\n",
        "We deduct some brands in conclusion because some of them has low value of percentage of the total values."
      ]
    },
    {
      "cell_type": "markdown",
      "metadata": {
        "id": "jmHE1ofFiCTq"
      },
      "source": [
        "## Storing Aggregate Data in a DataFrame"
      ]
    },
    {
      "cell_type": "markdown",
      "metadata": {
        "id": "sJoZ5mVkiCTq"
      },
      "source": [
        "Below we created new data frame which store aggraagate data about mean price and mean mileage for top 20 brands."
      ]
    },
    {
      "cell_type": "code",
      "execution_count": null,
      "metadata": {
        "id": "_R7Eenv2iCTq"
      },
      "outputs": [],
      "source": [
        "mileage = means_by_brand(cars, 'brand', 'odometer_km')"
      ]
    },
    {
      "cell_type": "code",
      "execution_count": null,
      "metadata": {
        "id": "2Wb9a4HqiCTq"
      },
      "outputs": [],
      "source": [
        "brand_info = pd.DataFrame(pd.Series(mean_price), \n",
        "                          columns=['mean_price'])\n",
        "brand_info['mileage'] = pd.Series(mileage)"
      ]
    },
    {
      "cell_type": "code",
      "execution_count": null,
      "metadata": {
        "id": "MO4xyWs9iCTq",
        "outputId": "b4faf243-e919-4e26-d718-9c07f885d896"
      },
      "outputs": [
        {
          "data": {
            "text/html": [
              "<div>\n",
              "<style scoped>\n",
              "    .dataframe tbody tr th:only-of-type {\n",
              "        vertical-align: middle;\n",
              "    }\n",
              "\n",
              "    .dataframe tbody tr th {\n",
              "        vertical-align: top;\n",
              "    }\n",
              "\n",
              "    .dataframe thead th {\n",
              "        text-align: right;\n",
              "    }\n",
              "</style>\n",
              "<table border=\"1\" class=\"dataframe\">\n",
              "  <thead>\n",
              "    <tr style=\"text-align: right;\">\n",
              "      <th></th>\n",
              "      <th>mean_price</th>\n",
              "      <th>mileage</th>\n",
              "    </tr>\n",
              "  </thead>\n",
              "  <tbody>\n",
              "    <tr>\n",
              "      <th>volkswagen</th>\n",
              "      <td>5887</td>\n",
              "      <td>127832</td>\n",
              "    </tr>\n",
              "    <tr>\n",
              "      <th>bmw</th>\n",
              "      <td>8793</td>\n",
              "      <td>132327</td>\n",
              "    </tr>\n",
              "    <tr>\n",
              "      <th>opel</th>\n",
              "      <td>3272</td>\n",
              "      <td>128519</td>\n",
              "    </tr>\n",
              "    <tr>\n",
              "      <th>mercedes_benz</th>\n",
              "      <td>9083</td>\n",
              "      <td>130502</td>\n",
              "    </tr>\n",
              "    <tr>\n",
              "      <th>audi</th>\n",
              "      <td>9958</td>\n",
              "      <td>128279</td>\n",
              "    </tr>\n",
              "    <tr>\n",
              "      <th>ford</th>\n",
              "      <td>4062</td>\n",
              "      <td>123761</td>\n",
              "    </tr>\n",
              "    <tr>\n",
              "      <th>renault</th>\n",
              "      <td>2705</td>\n",
              "      <td>126797</td>\n",
              "    </tr>\n",
              "    <tr>\n",
              "      <th>peugeot</th>\n",
              "      <td>3318</td>\n",
              "      <td>125756</td>\n",
              "    </tr>\n",
              "    <tr>\n",
              "      <th>fiat</th>\n",
              "      <td>3035</td>\n",
              "      <td>116380</td>\n",
              "    </tr>\n",
              "    <tr>\n",
              "      <th>seat</th>\n",
              "      <td>4722</td>\n",
              "      <td>120427</td>\n",
              "    </tr>\n",
              "    <tr>\n",
              "      <th>skoda</th>\n",
              "      <td>6748</td>\n",
              "      <td>109505</td>\n",
              "    </tr>\n",
              "    <tr>\n",
              "      <th>nissan</th>\n",
              "      <td>5201</td>\n",
              "      <td>116473</td>\n",
              "    </tr>\n",
              "    <tr>\n",
              "      <th>mazda</th>\n",
              "      <td>4513</td>\n",
              "      <td>123180</td>\n",
              "    </tr>\n",
              "    <tr>\n",
              "      <th>smart</th>\n",
              "      <td>3775</td>\n",
              "      <td>98273</td>\n",
              "    </tr>\n",
              "    <tr>\n",
              "      <th>citroen</th>\n",
              "      <td>3973</td>\n",
              "      <td>118419</td>\n",
              "    </tr>\n",
              "    <tr>\n",
              "      <th>toyota</th>\n",
              "      <td>5366</td>\n",
              "      <td>115018</td>\n",
              "    </tr>\n",
              "    <tr>\n",
              "      <th>hyundai</th>\n",
              "      <td>5753</td>\n",
              "      <td>104539</td>\n",
              "    </tr>\n",
              "    <tr>\n",
              "      <th>mini</th>\n",
              "      <td>10719</td>\n",
              "      <td>88524</td>\n",
              "    </tr>\n",
              "    <tr>\n",
              "      <th>volvo</th>\n",
              "      <td>5191</td>\n",
              "      <td>138363</td>\n",
              "    </tr>\n",
              "    <tr>\n",
              "      <th>honda</th>\n",
              "      <td>4410</td>\n",
              "      <td>122286</td>\n",
              "    </tr>\n",
              "  </tbody>\n",
              "</table>\n",
              "</div>"
            ],
            "text/plain": [
              "               mean_price  mileage\n",
              "volkswagen           5887   127832\n",
              "bmw                  8793   132327\n",
              "opel                 3272   128519\n",
              "mercedes_benz        9083   130502\n",
              "audi                 9958   128279\n",
              "ford                 4062   123761\n",
              "renault              2705   126797\n",
              "peugeot              3318   125756\n",
              "fiat                 3035   116380\n",
              "seat                 4722   120427\n",
              "skoda                6748   109505\n",
              "nissan               5201   116473\n",
              "mazda                4513   123180\n",
              "smart                3775    98273\n",
              "citroen              3973   118419\n",
              "toyota               5366   115018\n",
              "hyundai              5753   104539\n",
              "mini                10719    88524\n",
              "volvo                5191   138363\n",
              "honda                4410   122286"
            ]
          },
          "execution_count": 37,
          "metadata": {},
          "output_type": "execute_result"
        }
      ],
      "source": [
        "brand_info"
      ]
    },
    {
      "cell_type": "markdown",
      "metadata": {
        "id": "uPpPuDL5iCTr"
      },
      "source": [
        "As we see above, all cars have similar mileage what confirm our earlier conclusion. And at the end of this project we can say that opel and ford are cheap cars with same mileage like 'luxury' cars (mean bmw, audi and mercedes_benz). Namely skoda and volkswagen are for both clients with high standrads and low. We can ad that skoda has lower mileage than volkswagen but volkswagen is cheaper. So, something for something."
      ]
    },
    {
      "cell_type": "markdown",
      "metadata": {
        "id": "b6AWd9EUiCTr"
      },
      "source": [
        "## Translating german words to english eqivalent"
      ]
    },
    {
      "cell_type": "code",
      "execution_count": null,
      "metadata": {
        "id": "9kWYXf7DiCTr",
        "outputId": "185c640e-ef18-4a9d-9766-23427804d501"
      },
      "outputs": [
        {
          "data": {
            "text/html": [
              "<div>\n",
              "<style scoped>\n",
              "    .dataframe tbody tr th:only-of-type {\n",
              "        vertical-align: middle;\n",
              "    }\n",
              "\n",
              "    .dataframe tbody tr th {\n",
              "        vertical-align: top;\n",
              "    }\n",
              "\n",
              "    .dataframe thead th {\n",
              "        text-align: right;\n",
              "    }\n",
              "</style>\n",
              "<table border=\"1\" class=\"dataframe\">\n",
              "  <thead>\n",
              "    <tr style=\"text-align: right;\">\n",
              "      <th></th>\n",
              "      <th>vehicle_type</th>\n",
              "      <th>gearbox</th>\n",
              "      <th>model</th>\n",
              "      <th>fuel_type</th>\n",
              "      <th>unrepaired_damage</th>\n",
              "    </tr>\n",
              "  </thead>\n",
              "  <tbody>\n",
              "    <tr>\n",
              "      <th>0</th>\n",
              "      <td>bus</td>\n",
              "      <td>manuell</td>\n",
              "      <td>andere</td>\n",
              "      <td>lpg</td>\n",
              "      <td>nein</td>\n",
              "    </tr>\n",
              "    <tr>\n",
              "      <th>1</th>\n",
              "      <td>limousine</td>\n",
              "      <td>automatik</td>\n",
              "      <td>7er</td>\n",
              "      <td>benzin</td>\n",
              "      <td>nein</td>\n",
              "    </tr>\n",
              "    <tr>\n",
              "      <th>2</th>\n",
              "      <td>limousine</td>\n",
              "      <td>manuell</td>\n",
              "      <td>golf</td>\n",
              "      <td>benzin</td>\n",
              "      <td>nein</td>\n",
              "    </tr>\n",
              "    <tr>\n",
              "      <th>3</th>\n",
              "      <td>kleinwagen</td>\n",
              "      <td>automatik</td>\n",
              "      <td>fortwo</td>\n",
              "      <td>benzin</td>\n",
              "      <td>nein</td>\n",
              "    </tr>\n",
              "    <tr>\n",
              "      <th>5</th>\n",
              "      <td>bus</td>\n",
              "      <td>automatik</td>\n",
              "      <td>voyager</td>\n",
              "      <td>diesel</td>\n",
              "      <td>NaN</td>\n",
              "    </tr>\n",
              "    <tr>\n",
              "      <th>6</th>\n",
              "      <td>limousine</td>\n",
              "      <td>manuell</td>\n",
              "      <td>golf</td>\n",
              "      <td>benzin</td>\n",
              "      <td>NaN</td>\n",
              "    </tr>\n",
              "    <tr>\n",
              "      <th>7</th>\n",
              "      <td>limousine</td>\n",
              "      <td>manuell</td>\n",
              "      <td>golf</td>\n",
              "      <td>diesel</td>\n",
              "      <td>nein</td>\n",
              "    </tr>\n",
              "    <tr>\n",
              "      <th>9</th>\n",
              "      <td>bus</td>\n",
              "      <td>manuell</td>\n",
              "      <td>megane</td>\n",
              "      <td>benzin</td>\n",
              "      <td>nein</td>\n",
              "    </tr>\n",
              "    <tr>\n",
              "      <th>10</th>\n",
              "      <td>NaN</td>\n",
              "      <td>manuell</td>\n",
              "      <td>NaN</td>\n",
              "      <td>benzin</td>\n",
              "      <td>nein</td>\n",
              "    </tr>\n",
              "    <tr>\n",
              "      <th>12</th>\n",
              "      <td>kleinwagen</td>\n",
              "      <td>automatik</td>\n",
              "      <td>fortwo</td>\n",
              "      <td>benzin</td>\n",
              "      <td>nein</td>\n",
              "    </tr>\n",
              "  </tbody>\n",
              "</table>\n",
              "</div>"
            ],
            "text/plain": [
              "   vehicle_type    gearbox    model fuel_type unrepaired_damage\n",
              "0           bus    manuell   andere       lpg              nein\n",
              "1     limousine  automatik      7er    benzin              nein\n",
              "2     limousine    manuell     golf    benzin              nein\n",
              "3    kleinwagen  automatik   fortwo    benzin              nein\n",
              "5           bus  automatik  voyager    diesel               NaN\n",
              "6     limousine    manuell     golf    benzin               NaN\n",
              "7     limousine    manuell     golf    diesel              nein\n",
              "9           bus    manuell   megane    benzin              nein\n",
              "10          NaN    manuell      NaN    benzin              nein\n",
              "12   kleinwagen  automatik   fortwo    benzin              nein"
            ]
          },
          "execution_count": 38,
          "metadata": {},
          "output_type": "execute_result"
        }
      ],
      "source": [
        "cars[['vehicle_type', 'gearbox', \n",
        "      'model', 'fuel_type', 'unrepaired_damage']].head(10)"
      ]
    },
    {
      "cell_type": "markdown",
      "metadata": {
        "id": "7vBoXlFaiCTr"
      },
      "source": [
        "As we see, columns above shows strings in german. Our chalange were translating this words to english eqivalent. We did it below."
      ]
    },
    {
      "cell_type": "markdown",
      "metadata": {
        "id": "HZFLdvfOiCTr"
      },
      "source": [
        "### Vehicle_type\n",
        "\n",
        "In this column we had to change only two german words:\n",
        "* kleinwagen to small cars\n",
        "* andere to other"
      ]
    },
    {
      "cell_type": "code",
      "execution_count": null,
      "metadata": {
        "id": "KndvGQkViCTr",
        "outputId": "b74a0855-226c-4b1c-84a2-ac774b53a609"
      },
      "outputs": [
        {
          "data": {
            "text/plain": [
              "array(['bus', 'limousine', 'kleinwagen', nan, 'coupe', 'kombi', 'suv',\n",
              "       'cabrio', 'andere'], dtype=object)"
            ]
          },
          "execution_count": 39,
          "metadata": {},
          "output_type": "execute_result"
        }
      ],
      "source": [
        "cars['vehicle_type'].unique()"
      ]
    },
    {
      "cell_type": "code",
      "execution_count": null,
      "metadata": {
        "id": "Bxg9kJYhiCTr"
      },
      "outputs": [],
      "source": [
        "cars.loc[cars['vehicle_type'] == 'kleinwagen', 'vehicle_type'] = 'small car'\n",
        "cars.loc[cars['vehicle_type'] == 'andere', 'vehicle_type'] = 'other'"
      ]
    },
    {
      "cell_type": "code",
      "execution_count": null,
      "metadata": {
        "id": "vO6RM47niCTr",
        "outputId": "96005ec9-0c1f-4e1a-b6ab-956398c35174"
      },
      "outputs": [
        {
          "data": {
            "text/plain": [
              "array(['bus', 'limousine', 'small car', nan, 'coupe', 'kombi', 'suv',\n",
              "       'cabrio', 'other'], dtype=object)"
            ]
          },
          "execution_count": 41,
          "metadata": {},
          "output_type": "execute_result"
        }
      ],
      "source": [
        "cars['vehicle_type'].unique()"
      ]
    },
    {
      "cell_type": "markdown",
      "metadata": {
        "id": "J6TYzSFCiCTs"
      },
      "source": [
        "### Gearbox\n",
        "\n",
        "Here, we had to change all words to english:\n",
        "* manuell to manual\n",
        "* automatik to automatic"
      ]
    },
    {
      "cell_type": "code",
      "execution_count": null,
      "metadata": {
        "id": "leCSsSDNiCTs",
        "outputId": "cb24a9cb-859a-4168-9cd0-2f63ed88a45c"
      },
      "outputs": [
        {
          "data": {
            "text/plain": [
              "array(['manuell', 'automatik', nan], dtype=object)"
            ]
          },
          "execution_count": 42,
          "metadata": {},
          "output_type": "execute_result"
        }
      ],
      "source": [
        "cars['gearbox'].unique()"
      ]
    },
    {
      "cell_type": "code",
      "execution_count": null,
      "metadata": {
        "id": "9KfgSXe7iCTs"
      },
      "outputs": [],
      "source": [
        "cars.loc[cars['gearbox'] == 'manuell', 'gearbox'] = 'manual'\n",
        "cars.loc[cars['gearbox'] == 'automatik', 'gearbox'] = 'automatic'"
      ]
    },
    {
      "cell_type": "code",
      "execution_count": null,
      "metadata": {
        "id": "QvDQAk2tiCTs",
        "outputId": "555e800a-898f-4751-defe-ee37bc7f8d68"
      },
      "outputs": [
        {
          "data": {
            "text/plain": [
              "array(['manual', 'automatic', nan], dtype=object)"
            ]
          },
          "execution_count": 44,
          "metadata": {},
          "output_type": "execute_result"
        }
      ],
      "source": [
        "cars['gearbox'].unique()"
      ]
    },
    {
      "cell_type": "markdown",
      "metadata": {
        "id": "GXX8RXbLiCTs"
      },
      "source": [
        "### Car model\n",
        "\n",
        "In this column german words are \"andere\" which we had to change to \"other\". Of course dataset has more german words but changing them will be difficult and very monotonous."
      ]
    },
    {
      "cell_type": "code",
      "execution_count": null,
      "metadata": {
        "id": "mQ5oOTNfiCTs"
      },
      "outputs": [],
      "source": [
        "cars.loc[cars['model'] == 'andere', 'model'] = 'other'"
      ]
    },
    {
      "cell_type": "markdown",
      "metadata": {
        "id": "Rp6qqIoqiCTs"
      },
      "source": [
        "### Fuel type\n",
        "\n",
        "Here, we had the same situation like above and we just change 'andere' word."
      ]
    },
    {
      "cell_type": "code",
      "execution_count": null,
      "metadata": {
        "id": "zPGxIOWuiCTs",
        "outputId": "8f6ce50d-99e1-454d-e221-44373be7ccac"
      },
      "outputs": [
        {
          "data": {
            "text/plain": [
              "array(['lpg', 'benzin', 'diesel', nan, 'cng', 'hybrid', 'elektro',\n",
              "       'andere'], dtype=object)"
            ]
          },
          "execution_count": 46,
          "metadata": {},
          "output_type": "execute_result"
        }
      ],
      "source": [
        "cars['fuel_type'].unique()"
      ]
    },
    {
      "cell_type": "code",
      "execution_count": null,
      "metadata": {
        "id": "5wocPAlfiCTs"
      },
      "outputs": [],
      "source": [
        "cars.loc[cars['fuel_type'] == 'andere', 'fuel_type'] = 'other'"
      ]
    },
    {
      "cell_type": "code",
      "execution_count": null,
      "metadata": {
        "id": "kEsD0RbliCTt",
        "outputId": "d954dc3c-4b54-41ac-d829-be4d891f1be7"
      },
      "outputs": [
        {
          "data": {
            "text/plain": [
              "array(['lpg', 'benzin', 'diesel', nan, 'cng', 'hybrid', 'elektro',\n",
              "       'other'], dtype=object)"
            ]
          },
          "execution_count": 48,
          "metadata": {},
          "output_type": "execute_result"
        }
      ],
      "source": [
        "cars['fuel_type'].unique()"
      ]
    },
    {
      "cell_type": "markdown",
      "metadata": {
        "id": "KjYc4Y6KiCTt"
      },
      "source": [
        "### Unrepaired damage\n",
        "\n",
        "This column has two german words (\"nein\", \"ja\"). We changed it to english \"no\" and \"yes\"."
      ]
    },
    {
      "cell_type": "code",
      "execution_count": null,
      "metadata": {
        "id": "tNAsvtDdiCTt",
        "outputId": "e8dfecc9-cb73-4711-f91b-3047b95b11f0"
      },
      "outputs": [
        {
          "data": {
            "text/plain": [
              "array(['nein', nan, 'ja'], dtype=object)"
            ]
          },
          "execution_count": 49,
          "metadata": {},
          "output_type": "execute_result"
        }
      ],
      "source": [
        "cars['unrepaired_damage'].unique()"
      ]
    },
    {
      "cell_type": "code",
      "execution_count": null,
      "metadata": {
        "id": "iUcjQ67TiCTt"
      },
      "outputs": [],
      "source": [
        "cars.loc[cars['unrepaired_damage'] == 'ja', 'unrepaired_damage'] = 'yes'\n",
        "cars.loc[cars['unrepaired_damage'] == 'nein', 'unrepaired_damage'] = 'no'"
      ]
    },
    {
      "cell_type": "code",
      "execution_count": null,
      "metadata": {
        "id": "59kMPMZZiCTt",
        "outputId": "36b38e2c-5745-4629-86c3-fbbfb0df8b04"
      },
      "outputs": [
        {
          "data": {
            "text/plain": [
              "array(['no', nan, 'yes'], dtype=object)"
            ]
          },
          "execution_count": 51,
          "metadata": {},
          "output_type": "execute_result"
        }
      ],
      "source": [
        "cars['unrepaired_damage'].unique()"
      ]
    },
    {
      "cell_type": "markdown",
      "metadata": {
        "id": "rqVBZTjUiCTt"
      },
      "source": [
        "## How much cheaper are cars with damage than their non-damaged counterparts?"
      ]
    },
    {
      "cell_type": "code",
      "execution_count": null,
      "metadata": {
        "id": "diz-5uxMiCTt",
        "outputId": "bbf0b54f-a1f5-4dfc-9694-19e53399a2e3"
      },
      "outputs": [
        {
          "name": "stdout",
          "output_type": "stream",
          "text": [
            "Damged cars cost 2461.3647$\n",
            "Non-damaged cars cost 7367.1156$\n"
          ]
        }
      ],
      "source": [
        "damaged_cars_price = round(cars.loc[cars['unrepaired_damage'] == 'yes',\n",
        "                              'price_dol'].mean(), 4)\n",
        "non_damaged_cars_price = round(cars.loc[cars['unrepaired_damage'] == 'no',\n",
        "                              'price_dol'].mean(), 4)\n",
        "\n",
        "print(f'Damged cars cost {damaged_cars_price}$\\nNon-damaged cars cost {non_damaged_cars_price}$')"
      ]
    },
    {
      "cell_type": "markdown",
      "metadata": {
        "id": "f-8dfFQtiCTt"
      },
      "source": [
        "Based on average of prices, concluding is non-damaged cars are expensive 3 times more"
      ]
    }
  ],
  "metadata": {
    "kernelspec": {
      "display_name": "Python 3",
      "language": "python",
      "name": "python3"
    },
    "language_info": {
      "codemirror_mode": {
        "name": "ipython",
        "version": 3
      },
      "file_extension": ".py",
      "mimetype": "text/x-python",
      "name": "python",
      "nbconvert_exporter": "python",
      "pygments_lexer": "ipython3",
      "version": "3.8.2"
    },
    "colab": {
      "provenance": [],
      "toc_visible": true,
      "include_colab_link": true
    }
  },
  "nbformat": 4,
  "nbformat_minor": 0
}