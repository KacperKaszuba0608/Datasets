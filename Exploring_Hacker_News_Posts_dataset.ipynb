{
  "cells": [
    {
      "cell_type": "markdown",
      "metadata": {
        "id": "view-in-github",
        "colab_type": "text"
      },
      "source": [
        "<a href=\"https://colab.research.google.com/github/KacperKaszuba0608/Projects/blob/main/Exploring_Hacker_News_Posts_dataset.ipynb\" target=\"_parent\"><img src=\"https://colab.research.google.com/assets/colab-badge.svg\" alt=\"Open In Colab\"/></a>"
      ]
    },
    {
      "cell_type": "markdown",
      "metadata": {
        "collapsed": true,
        "id": "ZM3eoEhGconh"
      },
      "source": [
        "# Exploring Hacker News Posts"
      ]
    },
    {
      "cell_type": "markdown",
      "metadata": {
        "id": "c05pugyOconj"
      },
      "source": [
        "In this project I worked with Hacker News Posts dataset. Dataset is about post which had been written on Hacker News site and I focused on post withe titles begin with \"Ask HN\" or \"Show HN\", because this posts are to Hacker News community. If you need read more about dataset follow this [link](https://www.kaggle.com/datasets/hacker-news/hacker-news-posts). Below are desriptions of the columns:\n",
        "* `id` -  the unique identifier from Hacker News for the post\n",
        "* `title` - the title of the post\n",
        "* `url` - the URL that the posts links to, if the post has a URL\n",
        "* `num_points` - the number of points the post acquired, calculated as the total number of upvotes minus the total number of downvotes\n",
        "* `num_coments` - the number of comments on the post\n",
        "* `author` - the username of the person who submitted the post\n",
        "* `creared_at` - the date and time of the post's submisson"
      ]
    },
    {
      "cell_type": "markdown",
      "metadata": {
        "id": "A8ZGAETQconj"
      },
      "source": [
        "## Importing the libraries and reading the dataset"
      ]
    },
    {
      "cell_type": "code",
      "source": [
        "import os\n",
        "os.environ['KAGGLE_USERNAME'] = \"kacperkaszuba\"\n",
        "os.environ['KAGGLE_KEY'] = \"b5523d8cc418c800dccfc85aaa76c0e1\"\n",
        "\n",
        "from kaggle.api.kaggle_api_extended import KaggleApi\n",
        "api = KaggleApi()\n",
        "api.authenticate()\n",
        "\n",
        "api.dataset_download_files('hacker-news/hacker-news-posts', path=\".\", unzip = True)"
      ],
      "metadata": {
        "id": "Hpy5NIURm96w"
      },
      "execution_count": null,
      "outputs": []
    },
    {
      "cell_type": "code",
      "execution_count": null,
      "metadata": {
        "colab": {
          "base_uri": "https://localhost:8080/"
        },
        "id": "nxgepnZpconj",
        "outputId": "8f272f23-d89d-4c5e-b185-86b24ec9e1e5"
      },
      "outputs": [
        {
          "output_type": "stream",
          "name": "stdout",
          "text": [
            "['id', 'title', 'url', 'num_points', 'num_comments', 'author', 'created_at']\n",
            "[['12579008', 'You have two days to comment if you want stem cells to be classified as your own', 'http://www.regulations.gov/document?D=FDA-2015-D-3719-0018', '1', '0', 'altstar', '9/26/2016 3:26'], ['12579005', 'SQLAR  the SQLite Archiver', 'https://www.sqlite.org/sqlar/doc/trunk/README.md', '1', '0', 'blacksqr', '9/26/2016 3:24'], ['12578997', 'What if we just printed a flatscreen television on the side of our boxes?', 'https://medium.com/vanmoof/our-secrets-out-f21c1f03fdc8#.ietxmez43', '1', '0', 'pavel_lishin', '9/26/2016 3:19'], ['12578989', 'algorithmic music', 'http://cacm.acm.org/magazines/2011/7/109891-algorithmic-composition/fulltext', '1', '0', 'poindontcare', '9/26/2016 3:16'], ['12578979', 'How the Data Vault Enables the Next-Gen Data Warehouse and Data Lake', 'https://www.talend.com/blog/2016/05/12/talend-and-Â\\x93the-data-vaultÂ\\x94', '1', '0', 'markgainor1', '9/26/2016 3:14']]\n"
          ]
        }
      ],
      "source": [
        "from csv import reader\n",
        "import datetime as dt\n",
        "\n",
        "file = open('HN_posts_year_to_Sep_26_2016.csv')\n",
        "hn = reader(file) #hn = hacker news\n",
        "hn = list(hn)\n",
        "\n",
        "headers = hn[0]\n",
        "hn = hn[1:]\n",
        "\n",
        "print(headers)\n",
        "print(hn[:5])"
      ]
    },
    {
      "cell_type": "markdown",
      "metadata": {
        "id": "1U77q7oqconl"
      },
      "source": [
        "## Extracting Ask HN and Show HN Posts\n",
        "\n",
        "Like I said in introduction I want to extract post which start with \"Ask HN\" or \"Show HN\". Code below helping me with this."
      ]
    },
    {
      "cell_type": "code",
      "execution_count": null,
      "metadata": {
        "id": "_muj1iCwconl"
      },
      "outputs": [],
      "source": [
        "def extract_posts(dataset, index_of_title):\n",
        "    ask_posts = []\n",
        "    show_posts = []\n",
        "    other_posts = []\n",
        "    \n",
        "    for row in dataset:\n",
        "        title = row[index_of_title]\n",
        "        title = title.lower()\n",
        "        \n",
        "        if title.startswith(\"ask hn\"):\n",
        "            ask_posts.append(row)\n",
        "        elif title.startswith(\"show hn\"):\n",
        "            show_posts.append(row)\n",
        "        else:\n",
        "            other_posts.append(row)\n",
        "            \n",
        "    return ask_posts, show_posts, other_posts"
      ]
    },
    {
      "cell_type": "code",
      "execution_count": null,
      "metadata": {
        "colab": {
          "base_uri": "https://localhost:8080/"
        },
        "id": "cuSilzAoconl",
        "outputId": "73133719-b3db-49c9-853f-ab029e4b6c13"
      },
      "outputs": [
        {
          "output_type": "stream",
          "name": "stdout",
          "text": [
            "9139\n",
            "10158\n",
            "273822\n"
          ]
        }
      ],
      "source": [
        "ask_posts, show_posts, other_posts = extract_posts(hn, 1)\n",
        "\n",
        "print(len(ask_posts))\n",
        "print(len(show_posts))\n",
        "print(len(other_posts))"
      ]
    },
    {
      "cell_type": "markdown",
      "metadata": {
        "id": "6Rha5B7Fconl"
      },
      "source": [
        "As we see above in dataset is more others post (17194) than about ask or show something (appropriately 1744 and 1162)."
      ]
    },
    {
      "cell_type": "markdown",
      "metadata": {
        "id": "tdGYdVnqconm"
      },
      "source": [
        "## Calculating the Average Number of Comments for Ask HN and Show HN Posts"
      ]
    },
    {
      "cell_type": "code",
      "execution_count": null,
      "metadata": {
        "id": "pbBLbtyAconm"
      },
      "outputs": [],
      "source": [
        "def average_of_comments(dataset, index_of_column):\n",
        "    total_comments = 0\n",
        "    \n",
        "    for row in dataset:\n",
        "        number_of_comments = int(row[index_of_column])\n",
        "        total_comments += number_of_comments\n",
        "    \n",
        "    avg_comments = round(total_comments / len(dataset), 4)\n",
        "    \n",
        "    return avg_comments"
      ]
    },
    {
      "cell_type": "code",
      "execution_count": null,
      "metadata": {
        "colab": {
          "base_uri": "https://localhost:8080/"
        },
        "id": "6yzm55vVconm",
        "outputId": "41dafd1a-ca2f-4376-ba09-8daa04dfff04"
      },
      "outputs": [
        {
          "output_type": "stream",
          "name": "stdout",
          "text": [
            " Average of ask posts comments: 10.3935\n",
            " Average of show posts comments: 4.8861\n"
          ]
        }
      ],
      "source": [
        "avg_ask_comments = average_of_comments(ask_posts, 4)\n",
        "print(f' Average of ask posts comments: {avg_ask_comments}')\n",
        "\n",
        "avg_show_comments = average_of_comments(show_posts, 4)\n",
        "print(f' Average of show posts comments: {avg_show_comments}')"
      ]
    },
    {
      "cell_type": "markdown",
      "metadata": {
        "id": "MtIM0X72conm"
      },
      "source": [
        "The average of comments tells us that ask posts are commented more often than show posts. It is on average 4 more comments."
      ]
    },
    {
      "cell_type": "markdown",
      "metadata": {
        "id": "3wSXGPn9conm"
      },
      "source": [
        "## Ask Posts"
      ]
    },
    {
      "cell_type": "markdown",
      "metadata": {
        "id": "H9EmgNFcconm"
      },
      "source": [
        "### Finding the Number of Ask Posts and Comments by Hour Created"
      ]
    },
    {
      "cell_type": "code",
      "execution_count": null,
      "metadata": {
        "id": "hq90x68pconn"
      },
      "outputs": [],
      "source": [
        "def number_of_posts_and_comments_by_hour(dataset, \n",
        "                                         index_of_date_col,\n",
        "                                         index_of_comment_col):\n",
        "    result_list = []\n",
        "    \n",
        "    for row in dataset:\n",
        "        date = row[index_of_date_col]\n",
        "        comments = int(row[index_of_comment_col])\n",
        "        result_list.append([date, comments])\n",
        "        \n",
        "    counts_by_hour = {}\n",
        "    comments_by_hour = {}\n",
        "    \n",
        "    for row in result_list:\n",
        "        date = dt.datetime.strptime(row[0], \"%m/%d/%Y %H:%M\")\n",
        "        hour = date.strftime(\"%H\")\n",
        "        if hour not in counts_by_hour:\n",
        "            counts_by_hour[hour] = 1\n",
        "            comments_by_hour[hour] = row[1]\n",
        "        else:\n",
        "            counts_by_hour[hour] += 1\n",
        "            comments_by_hour[hour] += row[1]\n",
        "            \n",
        "    return comments_by_hour, counts_by_hour"
      ]
    },
    {
      "cell_type": "code",
      "execution_count": null,
      "metadata": {
        "id": "k8WX5HPcconn"
      },
      "outputs": [],
      "source": [
        "comments_by_hour, counts_by_hour = number_of_posts_and_comments_by_hour(ask_posts, 6, 4)"
      ]
    },
    {
      "cell_type": "markdown",
      "metadata": {
        "id": "s3NOlQvjconn"
      },
      "source": [
        "### Calculating the Average Number of Comments for Ask HN Posts by Hour"
      ]
    },
    {
      "cell_type": "code",
      "execution_count": null,
      "metadata": {
        "id": "dpvxV4uBconn"
      },
      "outputs": [],
      "source": [
        "def average_in_lists(comment_dict, count_dict):\n",
        "    result = []\n",
        "    \n",
        "    for hour in count_dict:\n",
        "        result.append([round(comment_dict[hour] / count_dict[hour], 4), hour])\n",
        "        \n",
        "    return result"
      ]
    },
    {
      "cell_type": "code",
      "execution_count": null,
      "metadata": {
        "id": "8-R0QgVwconn"
      },
      "outputs": [],
      "source": [
        "avg_by_hour = average_in_lists(comments_by_hour, counts_by_hour)"
      ]
    },
    {
      "cell_type": "markdown",
      "metadata": {
        "id": "LDLVOF_ycono"
      },
      "source": [
        "### Sorting and Printing Values from a List of Lists"
      ]
    },
    {
      "cell_type": "code",
      "execution_count": null,
      "metadata": {
        "id": "_Ss0LHLbcono"
      },
      "outputs": [],
      "source": [
        "def top5(list_of_avg):\n",
        "    \n",
        "    sorted_results = sorted(list_of_avg, reverse = True)\n",
        "\n",
        "    print(\"Top 5 Hours for Ask Posts Comments:\")\n",
        "\n",
        "    counter = 1\n",
        "\n",
        "    for hour in sorted_results[:5]:\n",
        "        date = dt.datetime.strptime(hour[1], \"%H\").strftime(\"%H:%M\")\n",
        "        avg = hour[0]\n",
        "        print(f'{counter}. {date} - {avg} average comments per post')\n",
        "        counter += 1"
      ]
    },
    {
      "cell_type": "code",
      "execution_count": null,
      "metadata": {
        "colab": {
          "base_uri": "https://localhost:8080/"
        },
        "id": "b1mHtyBgcono",
        "outputId": "68b7be04-9844-4db1-fb8a-a345babc424c"
      },
      "outputs": [
        {
          "output_type": "stream",
          "name": "stdout",
          "text": [
            "Top 5 Hours for Ask Posts Comments:\n",
            "1. 15:00 - 28.6765 average comments per post\n",
            "2. 13:00 - 16.3176 average comments per post\n",
            "3. 12:00 - 12.3801 average comments per post\n",
            "4. 02:00 - 11.1375 average comments per post\n",
            "5. 10:00 - 10.6844 average comments per post\n"
          ]
        }
      ],
      "source": [
        "top5(avg_by_hour)"
      ]
    },
    {
      "cell_type": "markdown",
      "metadata": {
        "id": "M60k3GrYcono"
      },
      "source": [
        "As we see above 15:00 (3:00 pm) hour is the best commented hour in whole time (38.5948). Second is 2:00 (2:00 am) and very near on the third place is 20:00 (8:00 pm). 4th and 5th place is almost the same and it is 16:00 (4:00 pm) and 21:00 (9:00 pm)."
      ]
    },
    {
      "cell_type": "markdown",
      "metadata": {
        "id": "-6AaqXGpcono"
      },
      "source": [
        "## Show posts"
      ]
    },
    {
      "cell_type": "markdown",
      "metadata": {
        "id": "3ldIVt9Lcono"
      },
      "source": [
        "### Finding the Number of Ask Posts and Comments by Hour Created"
      ]
    },
    {
      "cell_type": "code",
      "execution_count": null,
      "metadata": {
        "id": "7eX0dQdYconp"
      },
      "outputs": [],
      "source": [
        "comments_by_hour, counts_by_hour = number_of_posts_and_comments_by_hour(show_posts, 6, 4)"
      ]
    },
    {
      "cell_type": "markdown",
      "metadata": {
        "id": "5FvdleN_conp"
      },
      "source": [
        "### Calculating the Average Number of Comments for Ask HN Posts by Hour"
      ]
    },
    {
      "cell_type": "code",
      "execution_count": null,
      "metadata": {
        "id": "YMGj70f3conp"
      },
      "outputs": [],
      "source": [
        "avg_by_hour = average_in_lists(comments_by_hour, counts_by_hour)"
      ]
    },
    {
      "cell_type": "markdown",
      "metadata": {
        "id": "EOs5JZAVconp"
      },
      "source": [
        "### Sorting and Printing Values from a List of Lists"
      ]
    },
    {
      "cell_type": "code",
      "execution_count": null,
      "metadata": {
        "colab": {
          "base_uri": "https://localhost:8080/"
        },
        "id": "DaAdW_ATconp",
        "outputId": "54c4cd83-22dc-4671-9ac1-6a7b30e3c19d"
      },
      "outputs": [
        {
          "output_type": "stream",
          "name": "stdout",
          "text": [
            "Top 5 Hours for Ask Posts Comments:\n",
            "1. 12:00 - 6.9942 average comments per post\n",
            "2. 07:00 - 6.6822 average comments per post\n",
            "3. 11:00 - 6.0025 average comments per post\n",
            "4. 08:00 - 5.6044 average comments per post\n",
            "5. 14:00 - 5.5158 average comments per post\n"
          ]
        }
      ],
      "source": [
        "top5(avg_by_hour)"
      ]
    },
    {
      "cell_type": "markdown",
      "metadata": {
        "id": "F1OT6dLKconp"
      },
      "source": [
        "We can't unequivocally stated which hour are the best to write post about show something but the best time to wrtite about this is definitely evening."
      ]
    },
    {
      "cell_type": "markdown",
      "metadata": {
        "id": "QYA9Jfk2conp"
      },
      "source": [
        "## Conclusion"
      ]
    },
    {
      "cell_type": "markdown",
      "metadata": {
        "id": "bY4nbM_9conp"
      },
      "source": [
        "To conclusion, the most commented posts are ask posts. They have average 4 more comments than show posts. If we look deeper, we can state that the best time to write post about asking something is afternoon (15:00 and 16:00) and evening (20:00 and 21:00). If you want ask about something after midnight you should choose 2:00 hour."
      ]
    }
  ],
  "metadata": {
    "kernelspec": {
      "display_name": "Python 3",
      "language": "python",
      "name": "python3"
    },
    "language_info": {
      "codemirror_mode": {
        "name": "ipython",
        "version": 3
      },
      "file_extension": ".py",
      "mimetype": "text/x-python",
      "name": "python",
      "nbconvert_exporter": "python",
      "pygments_lexer": "ipython3",
      "version": "3.8.2"
    },
    "colab": {
      "provenance": [],
      "include_colab_link": true
    }
  },
  "nbformat": 4,
  "nbformat_minor": 0
}