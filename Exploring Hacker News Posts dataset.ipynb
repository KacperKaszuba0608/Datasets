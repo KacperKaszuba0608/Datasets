{
 "cells": [
  {
   "cell_type": "markdown",
   "metadata": {
    "collapsed": true
   },
   "source": [
    "# Exploring Hacker News Posts"
   ]
  },
  {
   "cell_type": "markdown",
   "metadata": {},
   "source": [
    "In this project I worked with Hacker News Posts dataset. Dataset is about post which had been written on Hacker News site and I focused on post withe titles begin with \"Ask HN\" or \"Show HN\", because this posts are to Hacker News community. If you need read more about dataset follow this [link](https://www.kaggle.com/datasets/hacker-news/hacker-news-posts). Below are desriptions of the columns:\n",
    "* `id` -  the unique identifier from Hacker News for the post\n",
    "* `title` - the title of the post\n",
    "* `url` - the URL that the posts links to, if the post has a URL\n",
    "* `num_points` - the number of points the post acquired, calculated as the total number of upvotes minus the total number of downvotes\n",
    "* `num_coments` - the number of comments on the post\n",
    "* `author` - the username of the person who submitted the post\n",
    "* `creared_at` - the date and time of the post's submisson"
   ]
  },
  {
   "cell_type": "markdown",
   "metadata": {},
   "source": [
    "## Importing the libraries and reading the dataset"
   ]
  },
  {
   "cell_type": "code",
   "execution_count": 1,
   "metadata": {},
   "outputs": [
    {
     "name": "stdout",
     "output_type": "stream",
     "text": [
      "['id', 'title', 'url', 'num_points', 'num_comments', 'author', 'created_at']\n",
      "[['12224879', 'Interactive Dynamic Video', 'http://www.interactivedynamicvideo.com/', '386', '52', 'ne0phyte', '8/4/2016 11:52'], ['10975351', 'How to Use Open Source and Shut the Fuck Up at the Same Time', 'http://hueniverse.com/2016/01/26/how-to-use-open-source-and-shut-the-fuck-up-at-the-same-time/', '39', '10', 'josep2', '1/26/2016 19:30'], ['11964716', \"Florida DJs May Face Felony for April Fools' Water Joke\", 'http://www.thewire.com/entertainment/2013/04/florida-djs-april-fools-water-joke/63798/', '2', '1', 'vezycash', '6/23/2016 22:20'], ['11919867', 'Technology ventures: From Idea to Enterprise', 'https://www.amazon.com/Technology-Ventures-Enterprise-Thomas-Byers/dp/0073523429', '3', '1', 'hswarna', '6/17/2016 0:01'], ['10301696', 'Note by Note: The Making of Steinway L1037 (2007)', 'http://www.nytimes.com/2007/11/07/movies/07stein.html?_r=0', '8', '2', 'walterbell', '9/30/2015 4:12']]\n"
     ]
    }
   ],
   "source": [
    "from csv import reader\n",
    "import datetime as dt\n",
    "\n",
    "file = open('hacker_news.csv')\n",
    "hn = reader(file) #hn = hacker news\n",
    "hn = list(hn)\n",
    "\n",
    "headers = hn[0]\n",
    "hn = hn[1:]\n",
    "\n",
    "print(headers)\n",
    "print(hn[:5])"
   ]
  },
  {
   "cell_type": "markdown",
   "metadata": {},
   "source": [
    "## Extracting Ask HN and Show HN Posts\n",
    "\n",
    "Like I said in introduction I want to extract post which start with \"Ask HN\" or \"Show HN\". Code below helping me with this."
   ]
  },
  {
   "cell_type": "code",
   "execution_count": 2,
   "metadata": {},
   "outputs": [],
   "source": [
    "def extract_posts(dataset, index_of_title):\n",
    "    ask_posts = []\n",
    "    show_posts = []\n",
    "    other_posts = []\n",
    "    \n",
    "    for row in dataset:\n",
    "        title = row[index_of_title]\n",
    "        title = title.lower()\n",
    "        \n",
    "        if title.startswith(\"ask hn\"):\n",
    "            ask_posts.append(row)\n",
    "        elif title.startswith(\"show hn\"):\n",
    "            show_posts.append(row)\n",
    "        else:\n",
    "            other_posts.append(row)\n",
    "            \n",
    "    return ask_posts, show_posts, other_posts"
   ]
  },
  {
   "cell_type": "code",
   "execution_count": 3,
   "metadata": {},
   "outputs": [
    {
     "name": "stdout",
     "output_type": "stream",
     "text": [
      "1744\n",
      "1162\n",
      "17194\n"
     ]
    }
   ],
   "source": [
    "ask_posts, show_posts, other_posts = extract_posts(hn, 1)\n",
    "\n",
    "print(len(ask_posts))\n",
    "print(len(show_posts))\n",
    "print(len(other_posts))"
   ]
  },
  {
   "cell_type": "markdown",
   "metadata": {},
   "source": [
    "As we see above in dataset is more others post (17194) than about ask or show something (appropriately 1744 and 1162)."
   ]
  },
  {
   "cell_type": "markdown",
   "metadata": {},
   "source": [
    "## Calculating the Average Number of Comments for Ask HN and Show HN Posts"
   ]
  },
  {
   "cell_type": "code",
   "execution_count": 4,
   "metadata": {},
   "outputs": [],
   "source": [
    "def average_of_comments(dataset, index_of_column):\n",
    "    total_comments = 0\n",
    "    \n",
    "    for row in dataset:\n",
    "        number_of_comments = int(row[index_of_column])\n",
    "        total_comments += number_of_comments\n",
    "    \n",
    "    avg_comments = round(total_comments / len(dataset), 4)\n",
    "    \n",
    "    return avg_comments"
   ]
  },
  {
   "cell_type": "code",
   "execution_count": 5,
   "metadata": {},
   "outputs": [
    {
     "name": "stdout",
     "output_type": "stream",
     "text": [
      " Average of ask posts comments: 14.0384\n",
      " Average of show posts comments: 10.3167\n"
     ]
    }
   ],
   "source": [
    "avg_ask_comments = average_of_comments(ask_posts, 4)\n",
    "print(f' Average of ask posts comments: {avg_ask_comments}')\n",
    "\n",
    "avg_show_comments = average_of_comments(show_posts, 4)\n",
    "print(f' Average of show posts comments: {avg_show_comments}')"
   ]
  },
  {
   "cell_type": "markdown",
   "metadata": {},
   "source": [
    "The average of comments tells us that ask posts are commented more often than show posts. It is on average 4 more comments."
   ]
  },
  {
   "cell_type": "markdown",
   "metadata": {},
   "source": [
    "## Ask Posts"
   ]
  },
  {
   "cell_type": "markdown",
   "metadata": {},
   "source": [
    "### Finding the Number of Ask Posts and Comments by Hour Created"
   ]
  },
  {
   "cell_type": "code",
   "execution_count": 6,
   "metadata": {},
   "outputs": [],
   "source": [
    "def number_of_posts_and_comments_by_hour(dataset, \n",
    "                                         index_of_date_col,\n",
    "                                         index_of_comment_col):\n",
    "    result_list = []\n",
    "    \n",
    "    for row in dataset:\n",
    "        date = row[index_of_date_col]\n",
    "        comments = int(row[index_of_comment_col])\n",
    "        result_list.append([date, comments])\n",
    "        \n",
    "    counts_by_hour = {}\n",
    "    comments_by_hour = {}\n",
    "    \n",
    "    for row in result_list:\n",
    "        date = dt.datetime.strptime(row[0], \"%m/%d/%Y %H:%M\")\n",
    "        hour = date.strftime(\"%H\")\n",
    "        if hour not in counts_by_hour:\n",
    "            counts_by_hour[hour] = 1\n",
    "            comments_by_hour[hour] = row[1]\n",
    "        else:\n",
    "            counts_by_hour[hour] += 1\n",
    "            comments_by_hour[hour] += row[1]\n",
    "            \n",
    "    return comments_by_hour, counts_by_hour"
   ]
  },
  {
   "cell_type": "code",
   "execution_count": 7,
   "metadata": {},
   "outputs": [],
   "source": [
    "comments_by_hour, counts_by_hour = number_of_posts_and_comments_by_hour(ask_posts, 6, 4)"
   ]
  },
  {
   "cell_type": "markdown",
   "metadata": {},
   "source": [
    "### Calculating the Average Number of Comments for Ask HN Posts by Hour"
   ]
  },
  {
   "cell_type": "code",
   "execution_count": 8,
   "metadata": {},
   "outputs": [],
   "source": [
    "def average_in_lists(comment_dict, count_dict):\n",
    "    result = []\n",
    "    \n",
    "    for hour in count_dict:\n",
    "        result.append([round(comment_dict[hour] / count_dict[hour], 4), hour])\n",
    "        \n",
    "    return result"
   ]
  },
  {
   "cell_type": "code",
   "execution_count": 9,
   "metadata": {},
   "outputs": [],
   "source": [
    "avg_by_hour = average_in_lists(comments_by_hour, counts_by_hour)"
   ]
  },
  {
   "cell_type": "markdown",
   "metadata": {},
   "source": [
    "### Sorting and Printing Values from a List of Lists"
   ]
  },
  {
   "cell_type": "code",
   "execution_count": 10,
   "metadata": {},
   "outputs": [],
   "source": [
    "def top5(list_of_avg):\n",
    "    \n",
    "    sorted_results = sorted(list_of_avg, reverse = True)\n",
    "\n",
    "    print(\"Top 5 Hours for Ask Posts Comments:\")\n",
    "\n",
    "    counter = 1\n",
    "\n",
    "    for hour in sorted_results[:5]:\n",
    "        date = dt.datetime.strptime(hour[1], \"%H\").strftime(\"%H:%M\")\n",
    "        avg = hour[0]\n",
    "        print(f'{counter}. {date} - {avg} average comments per post')\n",
    "        counter += 1"
   ]
  },
  {
   "cell_type": "code",
   "execution_count": 11,
   "metadata": {},
   "outputs": [
    {
     "name": "stdout",
     "output_type": "stream",
     "text": [
      "Top 5 Hours for Ask Posts Comments:\n",
      "1. 15:00 - 38.5948 average comments per post\n",
      "2. 02:00 - 23.8103 average comments per post\n",
      "3. 20:00 - 21.525 average comments per post\n",
      "4. 16:00 - 16.7963 average comments per post\n",
      "5. 21:00 - 16.0092 average comments per post\n"
     ]
    }
   ],
   "source": [
    "top5(avg_by_hour)"
   ]
  },
  {
   "cell_type": "markdown",
   "metadata": {},
   "source": [
    "As we see above 15:00 (3:00 pm) hour is the best commented hour in whole time (38.5948). Second is 2:00 (2:00 am) and very near on the third place is 20:00 (8:00 pm). 4th and 5th place is almost the same and it is 16:00 (4:00 pm) and 21:00 (9:00 pm)."
   ]
  },
  {
   "cell_type": "markdown",
   "metadata": {},
   "source": [
    "## Show posts"
   ]
  },
  {
   "cell_type": "markdown",
   "metadata": {},
   "source": [
    "### Finding the Number of Ask Posts and Comments by Hour Created"
   ]
  },
  {
   "cell_type": "code",
   "execution_count": 12,
   "metadata": {},
   "outputs": [],
   "source": [
    "comments_by_hour, counts_by_hour = number_of_posts_and_comments_by_hour(show_posts, 6, 4)"
   ]
  },
  {
   "cell_type": "markdown",
   "metadata": {},
   "source": [
    "### Calculating the Average Number of Comments for Ask HN Posts by Hour"
   ]
  },
  {
   "cell_type": "code",
   "execution_count": 13,
   "metadata": {},
   "outputs": [],
   "source": [
    "avg_by_hour = average_in_lists(comments_by_hour, counts_by_hour)"
   ]
  },
  {
   "cell_type": "markdown",
   "metadata": {},
   "source": [
    "### Sorting and Printing Values from a List of Lists"
   ]
  },
  {
   "cell_type": "code",
   "execution_count": 15,
   "metadata": {},
   "outputs": [
    {
     "name": "stdout",
     "output_type": "stream",
     "text": [
      "Top 5 Hours for Ask Posts Comments:\n",
      "1. 18:00 - 15.7705 average comments per post\n",
      "2. 00:00 - 15.7097 average comments per post\n",
      "3. 14:00 - 13.4419 average comments per post\n",
      "4. 23:00 - 12.4167 average comments per post\n",
      "5. 22:00 - 12.3913 average comments per post\n"
     ]
    }
   ],
   "source": [
    "top5(avg_by_hour)"
   ]
  },
  {
   "cell_type": "markdown",
   "metadata": {},
   "source": [
    "We can't unequivocally stated which hour are the best to write post about show something but the best time to wrtite about this is definitely evening."
   ]
  },
  {
   "cell_type": "markdown",
   "metadata": {},
   "source": [
    "## Conclusion"
   ]
  },
  {
   "cell_type": "markdown",
   "metadata": {},
   "source": [
    "To conclusion, the most commented posts are ask posts. They have average 4 more comments than show posts. If we look deeper, we can state that the best time to write post about asking something is afternoon (15:00 and 16:00) and evening (20:00 and 21:00). If you want ask about something after midnight you should choose 2:00 hour."
   ]
  }
 ],
 "metadata": {
  "kernelspec": {
   "display_name": "Python 3",
   "language": "python",
   "name": "python3"
  },
  "language_info": {
   "codemirror_mode": {
    "name": "ipython",
    "version": 3
   },
   "file_extension": ".py",
   "mimetype": "text/x-python",
   "name": "python",
   "nbconvert_exporter": "python",
   "pygments_lexer": "ipython3",
   "version": "3.8.2"
  }
 },
 "nbformat": 4,
 "nbformat_minor": 2
}
