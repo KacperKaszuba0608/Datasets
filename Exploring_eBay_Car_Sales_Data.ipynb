{
  "cells": [
    {
      "cell_type": "markdown",
      "metadata": {
        "id": "view-in-github",
        "colab_type": "text"
      },
      "source": [
        "<a href=\"https://colab.research.google.com/github/KacperKaszuba0608/Projects/blob/main/Exploring_eBay_Car_Sales_Data.ipynb\" target=\"_parent\"><img src=\"https://colab.research.google.com/assets/colab-badge.svg\" alt=\"Open In Colab\"/></a>"
      ]
    },
    {
      "cell_type": "markdown",
      "metadata": {
        "collapsed": true,
        "id": "79PYToTTiCTe"
      },
      "source": [
        "# Guided Project: Exploring eBay Car Sales Data"
      ]
    },
    {
      "cell_type": "markdown",
      "metadata": {
        "id": "ZsPmBu3tiCTf"
      },
      "source": [
        "In this project we focused on exploring eBay Car Sales Data from Kaggle where the original dataset isn't availble now, but you can find it on [data.word](https://data.world/data-society/used-cars-data). Dataquest team sampled 50000 rows and change some values. They did it because we tried clean missing or understood values and then explore them. Below you have description of columns:\n",
        "\n",
        "* `dateCrawled` - when this ad was first crawled. All field-values are taken from this date\n",
        "* `name` - name of the car\n",
        "* `seller` - private or dealer\n",
        "* `offerType` - the tipe of listing\n",
        "* `price` - the price on the ad to sell the car\n",
        "* `abtest` - whether the listing is included in an A/B test\n",
        "* `vehicleType`\n",
        "* `yearOfRegistration` - at which year the car was first registered\n",
        "* `gearbox` - the transmisson type\n",
        "* `powerPS` - power of the car in PS\n",
        "* `model` - the car model name\n",
        "* `kilometer` - how many kilometers the car has driven\n",
        "* `monthOfRegistration` - at which month the car was first registered\n",
        "* `fuelType`\n",
        "* `brand`\n",
        "* `notRepairedDamage` - if the car has a damage which is not repaired yet\n",
        "* `dateCreated` - the date for which the ad at ebay was created\n",
        "* `nrOfPictures` - number of pictures in the ad\n",
        "* `postalCode` - the postal code for the location of the vehicle\n",
        "* `lastSeen` - when the crawler saw this ad last online"
      ]
    },
    {
      "cell_type": "markdown",
      "metadata": {
        "id": "XX5p4UssiCTg"
      },
      "source": [
        "## Importing libraries and dataset"
      ]
    },
    {
      "cell_type": "code",
      "execution_count": 75,
      "metadata": {
        "id": "eRKSa_jPiCTg"
      },
      "outputs": [],
      "source": [
        "import pandas as pd\n",
        "import numpy as np\n",
        "\n",
        "cars = pd.read_csv('https://query.data.world/s/b7vnijn6k5r4awstrt4xkouqwff3mi', encoding = 'Latin-1')"
      ]
    },
    {
      "cell_type": "code",
      "execution_count": 76,
      "metadata": {
        "colab": {
          "base_uri": "https://localhost:8080/"
        },
        "id": "dwownkm7iCTh",
        "outputId": "2d741c28-0d3d-4d15-8e80-1a68bf10b949"
      },
      "outputs": [
        {
          "output_type": "stream",
          "name": "stdout",
          "text": [
            "<class 'pandas.core.frame.DataFrame'>\n",
            "RangeIndex: 371528 entries, 0 to 371527\n",
            "Data columns (total 20 columns):\n",
            " #   Column               Non-Null Count   Dtype \n",
            "---  ------               --------------   ----- \n",
            " 0   dateCrawled          371528 non-null  object\n",
            " 1   name                 371528 non-null  object\n",
            " 2   seller               371528 non-null  object\n",
            " 3   offerType            371528 non-null  object\n",
            " 4   price                371528 non-null  int64 \n",
            " 5   abtest               371528 non-null  object\n",
            " 6   vehicleType          333659 non-null  object\n",
            " 7   yearOfRegistration   371528 non-null  int64 \n",
            " 8   gearbox              351319 non-null  object\n",
            " 9   powerPS              371528 non-null  int64 \n",
            " 10  model                351044 non-null  object\n",
            " 11  kilometer            371528 non-null  int64 \n",
            " 12  monthOfRegistration  371528 non-null  int64 \n",
            " 13  fuelType             338142 non-null  object\n",
            " 14  brand                371528 non-null  object\n",
            " 15  notRepairedDamage    299468 non-null  object\n",
            " 16  dateCreated          371528 non-null  object\n",
            " 17  nrOfPictures         371528 non-null  int64 \n",
            " 18  postalCode           371528 non-null  int64 \n",
            " 19  lastSeen             371528 non-null  object\n",
            "dtypes: int64(7), object(13)\n",
            "memory usage: 56.7+ MB\n"
          ]
        }
      ],
      "source": [
        "cars.info()"
      ]
    },
    {
      "cell_type": "code",
      "execution_count": 77,
      "metadata": {
        "id": "x8qG_7S5iCTi",
        "outputId": "a7b662b5-6d83-4843-fb87-4dc8bf653eb6",
        "colab": {
          "base_uri": "https://localhost:8080/",
          "height": 444
        }
      },
      "outputs": [
        {
          "output_type": "execute_result",
          "data": {
            "text/plain": [
              "           dateCrawled                            name  seller offerType  \\\n",
              "0  2016-03-24 11:52:17                      Golf_3_1.6  privat   Angebot   \n",
              "1  2016-03-24 10:58:45            A5_Sportback_2.7_Tdi  privat   Angebot   \n",
              "2  2016-03-14 12:52:21  Jeep_Grand_Cherokee_\"Overland\"  privat   Angebot   \n",
              "3  2016-03-17 16:54:04              GOLF_4_1_4__3TÜRER  privat   Angebot   \n",
              "4  2016-03-31 17:25:20  Skoda_Fabia_1.4_TDI_PD_Classic  privat   Angebot   \n",
              "\n",
              "   price abtest vehicleType  yearOfRegistration    gearbox  powerPS  model  \\\n",
              "0    480   test         NaN                1993    manuell        0   golf   \n",
              "1  18300   test       coupe                2011    manuell      190    NaN   \n",
              "2   9800   test         suv                2004  automatik      163  grand   \n",
              "3   1500   test  kleinwagen                2001    manuell       75   golf   \n",
              "4   3600   test  kleinwagen                2008    manuell       69  fabia   \n",
              "\n",
              "   kilometer  monthOfRegistration fuelType       brand notRepairedDamage  \\\n",
              "0     150000                    0   benzin  volkswagen               NaN   \n",
              "1     125000                    5   diesel        audi                ja   \n",
              "2     125000                    8   diesel        jeep               NaN   \n",
              "3     150000                    6   benzin  volkswagen              nein   \n",
              "4      90000                    7   diesel       skoda              nein   \n",
              "\n",
              "           dateCreated  nrOfPictures  postalCode             lastSeen  \n",
              "0  2016-03-24 00:00:00             0       70435  2016-04-07 03:16:57  \n",
              "1  2016-03-24 00:00:00             0       66954  2016-04-07 01:46:50  \n",
              "2  2016-03-14 00:00:00             0       90480  2016-04-05 12:47:46  \n",
              "3  2016-03-17 00:00:00             0       91074  2016-03-17 17:40:17  \n",
              "4  2016-03-31 00:00:00             0       60437  2016-04-06 10:17:21  "
            ],
            "text/html": [
              "\n",
              "  <div id=\"df-a149ed25-1a6d-4c6f-84a1-a41270d0098e\">\n",
              "    <div class=\"colab-df-container\">\n",
              "      <div>\n",
              "<style scoped>\n",
              "    .dataframe tbody tr th:only-of-type {\n",
              "        vertical-align: middle;\n",
              "    }\n",
              "\n",
              "    .dataframe tbody tr th {\n",
              "        vertical-align: top;\n",
              "    }\n",
              "\n",
              "    .dataframe thead th {\n",
              "        text-align: right;\n",
              "    }\n",
              "</style>\n",
              "<table border=\"1\" class=\"dataframe\">\n",
              "  <thead>\n",
              "    <tr style=\"text-align: right;\">\n",
              "      <th></th>\n",
              "      <th>dateCrawled</th>\n",
              "      <th>name</th>\n",
              "      <th>seller</th>\n",
              "      <th>offerType</th>\n",
              "      <th>price</th>\n",
              "      <th>abtest</th>\n",
              "      <th>vehicleType</th>\n",
              "      <th>yearOfRegistration</th>\n",
              "      <th>gearbox</th>\n",
              "      <th>powerPS</th>\n",
              "      <th>model</th>\n",
              "      <th>kilometer</th>\n",
              "      <th>monthOfRegistration</th>\n",
              "      <th>fuelType</th>\n",
              "      <th>brand</th>\n",
              "      <th>notRepairedDamage</th>\n",
              "      <th>dateCreated</th>\n",
              "      <th>nrOfPictures</th>\n",
              "      <th>postalCode</th>\n",
              "      <th>lastSeen</th>\n",
              "    </tr>\n",
              "  </thead>\n",
              "  <tbody>\n",
              "    <tr>\n",
              "      <th>0</th>\n",
              "      <td>2016-03-24 11:52:17</td>\n",
              "      <td>Golf_3_1.6</td>\n",
              "      <td>privat</td>\n",
              "      <td>Angebot</td>\n",
              "      <td>480</td>\n",
              "      <td>test</td>\n",
              "      <td>NaN</td>\n",
              "      <td>1993</td>\n",
              "      <td>manuell</td>\n",
              "      <td>0</td>\n",
              "      <td>golf</td>\n",
              "      <td>150000</td>\n",
              "      <td>0</td>\n",
              "      <td>benzin</td>\n",
              "      <td>volkswagen</td>\n",
              "      <td>NaN</td>\n",
              "      <td>2016-03-24 00:00:00</td>\n",
              "      <td>0</td>\n",
              "      <td>70435</td>\n",
              "      <td>2016-04-07 03:16:57</td>\n",
              "    </tr>\n",
              "    <tr>\n",
              "      <th>1</th>\n",
              "      <td>2016-03-24 10:58:45</td>\n",
              "      <td>A5_Sportback_2.7_Tdi</td>\n",
              "      <td>privat</td>\n",
              "      <td>Angebot</td>\n",
              "      <td>18300</td>\n",
              "      <td>test</td>\n",
              "      <td>coupe</td>\n",
              "      <td>2011</td>\n",
              "      <td>manuell</td>\n",
              "      <td>190</td>\n",
              "      <td>NaN</td>\n",
              "      <td>125000</td>\n",
              "      <td>5</td>\n",
              "      <td>diesel</td>\n",
              "      <td>audi</td>\n",
              "      <td>ja</td>\n",
              "      <td>2016-03-24 00:00:00</td>\n",
              "      <td>0</td>\n",
              "      <td>66954</td>\n",
              "      <td>2016-04-07 01:46:50</td>\n",
              "    </tr>\n",
              "    <tr>\n",
              "      <th>2</th>\n",
              "      <td>2016-03-14 12:52:21</td>\n",
              "      <td>Jeep_Grand_Cherokee_\"Overland\"</td>\n",
              "      <td>privat</td>\n",
              "      <td>Angebot</td>\n",
              "      <td>9800</td>\n",
              "      <td>test</td>\n",
              "      <td>suv</td>\n",
              "      <td>2004</td>\n",
              "      <td>automatik</td>\n",
              "      <td>163</td>\n",
              "      <td>grand</td>\n",
              "      <td>125000</td>\n",
              "      <td>8</td>\n",
              "      <td>diesel</td>\n",
              "      <td>jeep</td>\n",
              "      <td>NaN</td>\n",
              "      <td>2016-03-14 00:00:00</td>\n",
              "      <td>0</td>\n",
              "      <td>90480</td>\n",
              "      <td>2016-04-05 12:47:46</td>\n",
              "    </tr>\n",
              "    <tr>\n",
              "      <th>3</th>\n",
              "      <td>2016-03-17 16:54:04</td>\n",
              "      <td>GOLF_4_1_4__3TÜRER</td>\n",
              "      <td>privat</td>\n",
              "      <td>Angebot</td>\n",
              "      <td>1500</td>\n",
              "      <td>test</td>\n",
              "      <td>kleinwagen</td>\n",
              "      <td>2001</td>\n",
              "      <td>manuell</td>\n",
              "      <td>75</td>\n",
              "      <td>golf</td>\n",
              "      <td>150000</td>\n",
              "      <td>6</td>\n",
              "      <td>benzin</td>\n",
              "      <td>volkswagen</td>\n",
              "      <td>nein</td>\n",
              "      <td>2016-03-17 00:00:00</td>\n",
              "      <td>0</td>\n",
              "      <td>91074</td>\n",
              "      <td>2016-03-17 17:40:17</td>\n",
              "    </tr>\n",
              "    <tr>\n",
              "      <th>4</th>\n",
              "      <td>2016-03-31 17:25:20</td>\n",
              "      <td>Skoda_Fabia_1.4_TDI_PD_Classic</td>\n",
              "      <td>privat</td>\n",
              "      <td>Angebot</td>\n",
              "      <td>3600</td>\n",
              "      <td>test</td>\n",
              "      <td>kleinwagen</td>\n",
              "      <td>2008</td>\n",
              "      <td>manuell</td>\n",
              "      <td>69</td>\n",
              "      <td>fabia</td>\n",
              "      <td>90000</td>\n",
              "      <td>7</td>\n",
              "      <td>diesel</td>\n",
              "      <td>skoda</td>\n",
              "      <td>nein</td>\n",
              "      <td>2016-03-31 00:00:00</td>\n",
              "      <td>0</td>\n",
              "      <td>60437</td>\n",
              "      <td>2016-04-06 10:17:21</td>\n",
              "    </tr>\n",
              "  </tbody>\n",
              "</table>\n",
              "</div>\n",
              "      <button class=\"colab-df-convert\" onclick=\"convertToInteractive('df-a149ed25-1a6d-4c6f-84a1-a41270d0098e')\"\n",
              "              title=\"Convert this dataframe to an interactive table.\"\n",
              "              style=\"display:none;\">\n",
              "        \n",
              "  <svg xmlns=\"http://www.w3.org/2000/svg\" height=\"24px\"viewBox=\"0 0 24 24\"\n",
              "       width=\"24px\">\n",
              "    <path d=\"M0 0h24v24H0V0z\" fill=\"none\"/>\n",
              "    <path d=\"M18.56 5.44l.94 2.06.94-2.06 2.06-.94-2.06-.94-.94-2.06-.94 2.06-2.06.94zm-11 1L8.5 8.5l.94-2.06 2.06-.94-2.06-.94L8.5 2.5l-.94 2.06-2.06.94zm10 10l.94 2.06.94-2.06 2.06-.94-2.06-.94-.94-2.06-.94 2.06-2.06.94z\"/><path d=\"M17.41 7.96l-1.37-1.37c-.4-.4-.92-.59-1.43-.59-.52 0-1.04.2-1.43.59L10.3 9.45l-7.72 7.72c-.78.78-.78 2.05 0 2.83L4 21.41c.39.39.9.59 1.41.59.51 0 1.02-.2 1.41-.59l7.78-7.78 2.81-2.81c.8-.78.8-2.07 0-2.86zM5.41 20L4 18.59l7.72-7.72 1.47 1.35L5.41 20z\"/>\n",
              "  </svg>\n",
              "      </button>\n",
              "      \n",
              "  <style>\n",
              "    .colab-df-container {\n",
              "      display:flex;\n",
              "      flex-wrap:wrap;\n",
              "      gap: 12px;\n",
              "    }\n",
              "\n",
              "    .colab-df-convert {\n",
              "      background-color: #E8F0FE;\n",
              "      border: none;\n",
              "      border-radius: 50%;\n",
              "      cursor: pointer;\n",
              "      display: none;\n",
              "      fill: #1967D2;\n",
              "      height: 32px;\n",
              "      padding: 0 0 0 0;\n",
              "      width: 32px;\n",
              "    }\n",
              "\n",
              "    .colab-df-convert:hover {\n",
              "      background-color: #E2EBFA;\n",
              "      box-shadow: 0px 1px 2px rgba(60, 64, 67, 0.3), 0px 1px 3px 1px rgba(60, 64, 67, 0.15);\n",
              "      fill: #174EA6;\n",
              "    }\n",
              "\n",
              "    [theme=dark] .colab-df-convert {\n",
              "      background-color: #3B4455;\n",
              "      fill: #D2E3FC;\n",
              "    }\n",
              "\n",
              "    [theme=dark] .colab-df-convert:hover {\n",
              "      background-color: #434B5C;\n",
              "      box-shadow: 0px 1px 3px 1px rgba(0, 0, 0, 0.15);\n",
              "      filter: drop-shadow(0px 1px 2px rgba(0, 0, 0, 0.3));\n",
              "      fill: #FFFFFF;\n",
              "    }\n",
              "  </style>\n",
              "\n",
              "      <script>\n",
              "        const buttonEl =\n",
              "          document.querySelector('#df-a149ed25-1a6d-4c6f-84a1-a41270d0098e button.colab-df-convert');\n",
              "        buttonEl.style.display =\n",
              "          google.colab.kernel.accessAllowed ? 'block' : 'none';\n",
              "\n",
              "        async function convertToInteractive(key) {\n",
              "          const element = document.querySelector('#df-a149ed25-1a6d-4c6f-84a1-a41270d0098e');\n",
              "          const dataTable =\n",
              "            await google.colab.kernel.invokeFunction('convertToInteractive',\n",
              "                                                     [key], {});\n",
              "          if (!dataTable) return;\n",
              "\n",
              "          const docLinkHtml = 'Like what you see? Visit the ' +\n",
              "            '<a target=\"_blank\" href=https://colab.research.google.com/notebooks/data_table.ipynb>data table notebook</a>'\n",
              "            + ' to learn more about interactive tables.';\n",
              "          element.innerHTML = '';\n",
              "          dataTable['output_type'] = 'display_data';\n",
              "          await google.colab.output.renderOutput(dataTable, element);\n",
              "          const docLink = document.createElement('div');\n",
              "          docLink.innerHTML = docLinkHtml;\n",
              "          element.appendChild(docLink);\n",
              "        }\n",
              "      </script>\n",
              "    </div>\n",
              "  </div>\n",
              "  "
            ]
          },
          "metadata": {},
          "execution_count": 77
        }
      ],
      "source": [
        "cars.head()"
      ]
    },
    {
      "cell_type": "markdown",
      "metadata": {
        "id": "LxuwvtPliCTi"
      },
      "source": [
        "As we see above the dataset has 50000 rows and 20 columns. Most of them are `object` type and only 5 columns have `int64` type. 5 columns have null values, so we had to clean it and some of column names are no in the same type. That's we changed them below."
      ]
    },
    {
      "cell_type": "markdown",
      "metadata": {
        "id": "ZLn6k-AviCTi"
      },
      "source": [
        "## Cleaning Column Names"
      ]
    },
    {
      "cell_type": "code",
      "execution_count": 78,
      "metadata": {
        "id": "-sJVSTIqiCTi",
        "outputId": "a786118f-a382-4c36-a22e-cbbdcf7766eb",
        "colab": {
          "base_uri": "https://localhost:8080/",
          "height": 444
        }
      },
      "outputs": [
        {
          "output_type": "execute_result",
          "data": {
            "text/plain": [
              "          crawled_date                            name  seller offer_type  \\\n",
              "0  2016-03-24 11:52:17                      Golf_3_1.6  privat    Angebot   \n",
              "1  2016-03-24 10:58:45            A5_Sportback_2.7_Tdi  privat    Angebot   \n",
              "2  2016-03-14 12:52:21  Jeep_Grand_Cherokee_\"Overland\"  privat    Angebot   \n",
              "3  2016-03-17 16:54:04              GOLF_4_1_4__3TÜRER  privat    Angebot   \n",
              "4  2016-03-31 17:25:20  Skoda_Fabia_1.4_TDI_PD_Classic  privat    Angebot   \n",
              "\n",
              "   price abtest vehicle_type  registration_year    gearbox  power_ps  model  \\\n",
              "0    480   test          NaN               1993    manuell         0   golf   \n",
              "1  18300   test        coupe               2011    manuell       190    NaN   \n",
              "2   9800   test          suv               2004  automatik       163  grand   \n",
              "3   1500   test   kleinwagen               2001    manuell        75   golf   \n",
              "4   3600   test   kleinwagen               2008    manuell        69  fabia   \n",
              "\n",
              "   odometer  registration_month fuel_type       brand unrepaired_damage  \\\n",
              "0    150000                   0    benzin  volkswagen               NaN   \n",
              "1    125000                   5    diesel        audi                ja   \n",
              "2    125000                   8    diesel        jeep               NaN   \n",
              "3    150000                   6    benzin  volkswagen              nein   \n",
              "4     90000                   7    diesel       skoda              nein   \n",
              "\n",
              "            ad_created  pictures_num  postal_code            last_seen  \n",
              "0  2016-03-24 00:00:00             0        70435  2016-04-07 03:16:57  \n",
              "1  2016-03-24 00:00:00             0        66954  2016-04-07 01:46:50  \n",
              "2  2016-03-14 00:00:00             0        90480  2016-04-05 12:47:46  \n",
              "3  2016-03-17 00:00:00             0        91074  2016-03-17 17:40:17  \n",
              "4  2016-03-31 00:00:00             0        60437  2016-04-06 10:17:21  "
            ],
            "text/html": [
              "\n",
              "  <div id=\"df-81f1ae64-8527-47ac-b57b-6824de5ac60d\">\n",
              "    <div class=\"colab-df-container\">\n",
              "      <div>\n",
              "<style scoped>\n",
              "    .dataframe tbody tr th:only-of-type {\n",
              "        vertical-align: middle;\n",
              "    }\n",
              "\n",
              "    .dataframe tbody tr th {\n",
              "        vertical-align: top;\n",
              "    }\n",
              "\n",
              "    .dataframe thead th {\n",
              "        text-align: right;\n",
              "    }\n",
              "</style>\n",
              "<table border=\"1\" class=\"dataframe\">\n",
              "  <thead>\n",
              "    <tr style=\"text-align: right;\">\n",
              "      <th></th>\n",
              "      <th>crawled_date</th>\n",
              "      <th>name</th>\n",
              "      <th>seller</th>\n",
              "      <th>offer_type</th>\n",
              "      <th>price</th>\n",
              "      <th>abtest</th>\n",
              "      <th>vehicle_type</th>\n",
              "      <th>registration_year</th>\n",
              "      <th>gearbox</th>\n",
              "      <th>power_ps</th>\n",
              "      <th>model</th>\n",
              "      <th>odometer</th>\n",
              "      <th>registration_month</th>\n",
              "      <th>fuel_type</th>\n",
              "      <th>brand</th>\n",
              "      <th>unrepaired_damage</th>\n",
              "      <th>ad_created</th>\n",
              "      <th>pictures_num</th>\n",
              "      <th>postal_code</th>\n",
              "      <th>last_seen</th>\n",
              "    </tr>\n",
              "  </thead>\n",
              "  <tbody>\n",
              "    <tr>\n",
              "      <th>0</th>\n",
              "      <td>2016-03-24 11:52:17</td>\n",
              "      <td>Golf_3_1.6</td>\n",
              "      <td>privat</td>\n",
              "      <td>Angebot</td>\n",
              "      <td>480</td>\n",
              "      <td>test</td>\n",
              "      <td>NaN</td>\n",
              "      <td>1993</td>\n",
              "      <td>manuell</td>\n",
              "      <td>0</td>\n",
              "      <td>golf</td>\n",
              "      <td>150000</td>\n",
              "      <td>0</td>\n",
              "      <td>benzin</td>\n",
              "      <td>volkswagen</td>\n",
              "      <td>NaN</td>\n",
              "      <td>2016-03-24 00:00:00</td>\n",
              "      <td>0</td>\n",
              "      <td>70435</td>\n",
              "      <td>2016-04-07 03:16:57</td>\n",
              "    </tr>\n",
              "    <tr>\n",
              "      <th>1</th>\n",
              "      <td>2016-03-24 10:58:45</td>\n",
              "      <td>A5_Sportback_2.7_Tdi</td>\n",
              "      <td>privat</td>\n",
              "      <td>Angebot</td>\n",
              "      <td>18300</td>\n",
              "      <td>test</td>\n",
              "      <td>coupe</td>\n",
              "      <td>2011</td>\n",
              "      <td>manuell</td>\n",
              "      <td>190</td>\n",
              "      <td>NaN</td>\n",
              "      <td>125000</td>\n",
              "      <td>5</td>\n",
              "      <td>diesel</td>\n",
              "      <td>audi</td>\n",
              "      <td>ja</td>\n",
              "      <td>2016-03-24 00:00:00</td>\n",
              "      <td>0</td>\n",
              "      <td>66954</td>\n",
              "      <td>2016-04-07 01:46:50</td>\n",
              "    </tr>\n",
              "    <tr>\n",
              "      <th>2</th>\n",
              "      <td>2016-03-14 12:52:21</td>\n",
              "      <td>Jeep_Grand_Cherokee_\"Overland\"</td>\n",
              "      <td>privat</td>\n",
              "      <td>Angebot</td>\n",
              "      <td>9800</td>\n",
              "      <td>test</td>\n",
              "      <td>suv</td>\n",
              "      <td>2004</td>\n",
              "      <td>automatik</td>\n",
              "      <td>163</td>\n",
              "      <td>grand</td>\n",
              "      <td>125000</td>\n",
              "      <td>8</td>\n",
              "      <td>diesel</td>\n",
              "      <td>jeep</td>\n",
              "      <td>NaN</td>\n",
              "      <td>2016-03-14 00:00:00</td>\n",
              "      <td>0</td>\n",
              "      <td>90480</td>\n",
              "      <td>2016-04-05 12:47:46</td>\n",
              "    </tr>\n",
              "    <tr>\n",
              "      <th>3</th>\n",
              "      <td>2016-03-17 16:54:04</td>\n",
              "      <td>GOLF_4_1_4__3TÜRER</td>\n",
              "      <td>privat</td>\n",
              "      <td>Angebot</td>\n",
              "      <td>1500</td>\n",
              "      <td>test</td>\n",
              "      <td>kleinwagen</td>\n",
              "      <td>2001</td>\n",
              "      <td>manuell</td>\n",
              "      <td>75</td>\n",
              "      <td>golf</td>\n",
              "      <td>150000</td>\n",
              "      <td>6</td>\n",
              "      <td>benzin</td>\n",
              "      <td>volkswagen</td>\n",
              "      <td>nein</td>\n",
              "      <td>2016-03-17 00:00:00</td>\n",
              "      <td>0</td>\n",
              "      <td>91074</td>\n",
              "      <td>2016-03-17 17:40:17</td>\n",
              "    </tr>\n",
              "    <tr>\n",
              "      <th>4</th>\n",
              "      <td>2016-03-31 17:25:20</td>\n",
              "      <td>Skoda_Fabia_1.4_TDI_PD_Classic</td>\n",
              "      <td>privat</td>\n",
              "      <td>Angebot</td>\n",
              "      <td>3600</td>\n",
              "      <td>test</td>\n",
              "      <td>kleinwagen</td>\n",
              "      <td>2008</td>\n",
              "      <td>manuell</td>\n",
              "      <td>69</td>\n",
              "      <td>fabia</td>\n",
              "      <td>90000</td>\n",
              "      <td>7</td>\n",
              "      <td>diesel</td>\n",
              "      <td>skoda</td>\n",
              "      <td>nein</td>\n",
              "      <td>2016-03-31 00:00:00</td>\n",
              "      <td>0</td>\n",
              "      <td>60437</td>\n",
              "      <td>2016-04-06 10:17:21</td>\n",
              "    </tr>\n",
              "  </tbody>\n",
              "</table>\n",
              "</div>\n",
              "      <button class=\"colab-df-convert\" onclick=\"convertToInteractive('df-81f1ae64-8527-47ac-b57b-6824de5ac60d')\"\n",
              "              title=\"Convert this dataframe to an interactive table.\"\n",
              "              style=\"display:none;\">\n",
              "        \n",
              "  <svg xmlns=\"http://www.w3.org/2000/svg\" height=\"24px\"viewBox=\"0 0 24 24\"\n",
              "       width=\"24px\">\n",
              "    <path d=\"M0 0h24v24H0V0z\" fill=\"none\"/>\n",
              "    <path d=\"M18.56 5.44l.94 2.06.94-2.06 2.06-.94-2.06-.94-.94-2.06-.94 2.06-2.06.94zm-11 1L8.5 8.5l.94-2.06 2.06-.94-2.06-.94L8.5 2.5l-.94 2.06-2.06.94zm10 10l.94 2.06.94-2.06 2.06-.94-2.06-.94-.94-2.06-.94 2.06-2.06.94z\"/><path d=\"M17.41 7.96l-1.37-1.37c-.4-.4-.92-.59-1.43-.59-.52 0-1.04.2-1.43.59L10.3 9.45l-7.72 7.72c-.78.78-.78 2.05 0 2.83L4 21.41c.39.39.9.59 1.41.59.51 0 1.02-.2 1.41-.59l7.78-7.78 2.81-2.81c.8-.78.8-2.07 0-2.86zM5.41 20L4 18.59l7.72-7.72 1.47 1.35L5.41 20z\"/>\n",
              "  </svg>\n",
              "      </button>\n",
              "      \n",
              "  <style>\n",
              "    .colab-df-container {\n",
              "      display:flex;\n",
              "      flex-wrap:wrap;\n",
              "      gap: 12px;\n",
              "    }\n",
              "\n",
              "    .colab-df-convert {\n",
              "      background-color: #E8F0FE;\n",
              "      border: none;\n",
              "      border-radius: 50%;\n",
              "      cursor: pointer;\n",
              "      display: none;\n",
              "      fill: #1967D2;\n",
              "      height: 32px;\n",
              "      padding: 0 0 0 0;\n",
              "      width: 32px;\n",
              "    }\n",
              "\n",
              "    .colab-df-convert:hover {\n",
              "      background-color: #E2EBFA;\n",
              "      box-shadow: 0px 1px 2px rgba(60, 64, 67, 0.3), 0px 1px 3px 1px rgba(60, 64, 67, 0.15);\n",
              "      fill: #174EA6;\n",
              "    }\n",
              "\n",
              "    [theme=dark] .colab-df-convert {\n",
              "      background-color: #3B4455;\n",
              "      fill: #D2E3FC;\n",
              "    }\n",
              "\n",
              "    [theme=dark] .colab-df-convert:hover {\n",
              "      background-color: #434B5C;\n",
              "      box-shadow: 0px 1px 3px 1px rgba(0, 0, 0, 0.15);\n",
              "      filter: drop-shadow(0px 1px 2px rgba(0, 0, 0, 0.3));\n",
              "      fill: #FFFFFF;\n",
              "    }\n",
              "  </style>\n",
              "\n",
              "      <script>\n",
              "        const buttonEl =\n",
              "          document.querySelector('#df-81f1ae64-8527-47ac-b57b-6824de5ac60d button.colab-df-convert');\n",
              "        buttonEl.style.display =\n",
              "          google.colab.kernel.accessAllowed ? 'block' : 'none';\n",
              "\n",
              "        async function convertToInteractive(key) {\n",
              "          const element = document.querySelector('#df-81f1ae64-8527-47ac-b57b-6824de5ac60d');\n",
              "          const dataTable =\n",
              "            await google.colab.kernel.invokeFunction('convertToInteractive',\n",
              "                                                     [key], {});\n",
              "          if (!dataTable) return;\n",
              "\n",
              "          const docLinkHtml = 'Like what you see? Visit the ' +\n",
              "            '<a target=\"_blank\" href=https://colab.research.google.com/notebooks/data_table.ipynb>data table notebook</a>'\n",
              "            + ' to learn more about interactive tables.';\n",
              "          element.innerHTML = '';\n",
              "          dataTable['output_type'] = 'display_data';\n",
              "          await google.colab.output.renderOutput(dataTable, element);\n",
              "          const docLink = document.createElement('div');\n",
              "          docLink.innerHTML = docLinkHtml;\n",
              "          element.appendChild(docLink);\n",
              "        }\n",
              "      </script>\n",
              "    </div>\n",
              "  </div>\n",
              "  "
            ]
          },
          "metadata": {},
          "execution_count": 78
        }
      ],
      "source": [
        "cars.columns = ['crawled_date', 'name', 'seller', 'offer_type', 'price', 'abtest',\n",
        "       'vehicle_type', 'registration_year', 'gearbox', 'power_ps', 'model',\n",
        "       'odometer', 'registration_month', 'fuel_type', 'brand',\n",
        "       'unrepaired_damage', 'ad_created', 'pictures_num', 'postal_code',\n",
        "       'last_seen']\n",
        "cars.head()"
      ]
    },
    {
      "cell_type": "markdown",
      "metadata": {
        "id": "FTbo3viOiCTj"
      },
      "source": [
        "Now, column names are more simple and understood. We created list of new column names and asigned it to `cars.columns` function from pandas."
      ]
    },
    {
      "cell_type": "markdown",
      "metadata": {
        "id": "XXHkufdhiCTj"
      },
      "source": [
        "## Exploration and Cleaning"
      ]
    },
    {
      "cell_type": "code",
      "execution_count": 79,
      "metadata": {
        "id": "hiMGmQXgiCTj",
        "outputId": "c859afde-58fd-40b3-bc8d-025e10bd4ae2",
        "colab": {
          "base_uri": "https://localhost:8080/",
          "height": 493
        }
      },
      "outputs": [
        {
          "output_type": "execute_result",
          "data": {
            "text/plain": [
              "               crawled_date         name  seller offer_type         price  \\\n",
              "count                371528       371528  371528     371528  3.715280e+05   \n",
              "unique               280500       233531       2          2           NaN   \n",
              "top     2016-03-24 14:49:47  Ford_Fiesta  privat    Angebot           NaN   \n",
              "freq                      7          657  371525     371516           NaN   \n",
              "mean                    NaN          NaN     NaN        NaN  1.729514e+04   \n",
              "std                     NaN          NaN     NaN        NaN  3.587954e+06   \n",
              "min                     NaN          NaN     NaN        NaN  0.000000e+00   \n",
              "25%                     NaN          NaN     NaN        NaN  1.150000e+03   \n",
              "50%                     NaN          NaN     NaN        NaN  2.950000e+03   \n",
              "75%                     NaN          NaN     NaN        NaN  7.200000e+03   \n",
              "max                     NaN          NaN     NaN        NaN  2.147484e+09   \n",
              "\n",
              "        abtest vehicle_type  registration_year  gearbox       power_ps  \\\n",
              "count   371528       333659      371528.000000   351319  371528.000000   \n",
              "unique       2            8                NaN        2            NaN   \n",
              "top       test    limousine                NaN  manuell            NaN   \n",
              "freq    192585        95894                NaN   274214            NaN   \n",
              "mean       NaN          NaN        2004.577997      NaN     115.549477   \n",
              "std        NaN          NaN          92.866598      NaN     192.139578   \n",
              "min        NaN          NaN        1000.000000      NaN       0.000000   \n",
              "25%        NaN          NaN        1999.000000      NaN      70.000000   \n",
              "50%        NaN          NaN        2003.000000      NaN     105.000000   \n",
              "75%        NaN          NaN        2008.000000      NaN     150.000000   \n",
              "max        NaN          NaN        9999.000000      NaN   20000.000000   \n",
              "\n",
              "         model       odometer  registration_month fuel_type       brand  \\\n",
              "count   351044  371528.000000       371528.000000    338142      371528   \n",
              "unique     251            NaN                 NaN         7          40   \n",
              "top       golf            NaN                 NaN    benzin  volkswagen   \n",
              "freq     30070            NaN                 NaN    223857       79640   \n",
              "mean       NaN  125618.688228            5.734445       NaN         NaN   \n",
              "std        NaN   40112.337051            3.712412       NaN         NaN   \n",
              "min        NaN    5000.000000            0.000000       NaN         NaN   \n",
              "25%        NaN  125000.000000            3.000000       NaN         NaN   \n",
              "50%        NaN  150000.000000            6.000000       NaN         NaN   \n",
              "75%        NaN  150000.000000            9.000000       NaN         NaN   \n",
              "max        NaN  150000.000000           12.000000       NaN         NaN   \n",
              "\n",
              "       unrepaired_damage           ad_created  pictures_num   postal_code  \\\n",
              "count             299468               371528      371528.0  371528.00000   \n",
              "unique                 2                  114           NaN           NaN   \n",
              "top                 nein  2016-04-03 00:00:00           NaN           NaN   \n",
              "freq              263182                14450           NaN           NaN   \n",
              "mean                 NaN                  NaN           0.0   50820.66764   \n",
              "std                  NaN                  NaN           0.0   25799.08247   \n",
              "min                  NaN                  NaN           0.0    1067.00000   \n",
              "25%                  NaN                  NaN           0.0   30459.00000   \n",
              "50%                  NaN                  NaN           0.0   49610.00000   \n",
              "75%                  NaN                  NaN           0.0   71546.00000   \n",
              "max                  NaN                  NaN           0.0   99998.00000   \n",
              "\n",
              "                  last_seen  \n",
              "count                371528  \n",
              "unique               182806  \n",
              "top     2016-04-07 06:45:59  \n",
              "freq                     17  \n",
              "mean                    NaN  \n",
              "std                     NaN  \n",
              "min                     NaN  \n",
              "25%                     NaN  \n",
              "50%                     NaN  \n",
              "75%                     NaN  \n",
              "max                     NaN  "
            ],
            "text/html": [
              "\n",
              "  <div id=\"df-d9571567-7583-4c31-9c22-15bf527e659d\">\n",
              "    <div class=\"colab-df-container\">\n",
              "      <div>\n",
              "<style scoped>\n",
              "    .dataframe tbody tr th:only-of-type {\n",
              "        vertical-align: middle;\n",
              "    }\n",
              "\n",
              "    .dataframe tbody tr th {\n",
              "        vertical-align: top;\n",
              "    }\n",
              "\n",
              "    .dataframe thead th {\n",
              "        text-align: right;\n",
              "    }\n",
              "</style>\n",
              "<table border=\"1\" class=\"dataframe\">\n",
              "  <thead>\n",
              "    <tr style=\"text-align: right;\">\n",
              "      <th></th>\n",
              "      <th>crawled_date</th>\n",
              "      <th>name</th>\n",
              "      <th>seller</th>\n",
              "      <th>offer_type</th>\n",
              "      <th>price</th>\n",
              "      <th>abtest</th>\n",
              "      <th>vehicle_type</th>\n",
              "      <th>registration_year</th>\n",
              "      <th>gearbox</th>\n",
              "      <th>power_ps</th>\n",
              "      <th>model</th>\n",
              "      <th>odometer</th>\n",
              "      <th>registration_month</th>\n",
              "      <th>fuel_type</th>\n",
              "      <th>brand</th>\n",
              "      <th>unrepaired_damage</th>\n",
              "      <th>ad_created</th>\n",
              "      <th>pictures_num</th>\n",
              "      <th>postal_code</th>\n",
              "      <th>last_seen</th>\n",
              "    </tr>\n",
              "  </thead>\n",
              "  <tbody>\n",
              "    <tr>\n",
              "      <th>count</th>\n",
              "      <td>371528</td>\n",
              "      <td>371528</td>\n",
              "      <td>371528</td>\n",
              "      <td>371528</td>\n",
              "      <td>3.715280e+05</td>\n",
              "      <td>371528</td>\n",
              "      <td>333659</td>\n",
              "      <td>371528.000000</td>\n",
              "      <td>351319</td>\n",
              "      <td>371528.000000</td>\n",
              "      <td>351044</td>\n",
              "      <td>371528.000000</td>\n",
              "      <td>371528.000000</td>\n",
              "      <td>338142</td>\n",
              "      <td>371528</td>\n",
              "      <td>299468</td>\n",
              "      <td>371528</td>\n",
              "      <td>371528.0</td>\n",
              "      <td>371528.00000</td>\n",
              "      <td>371528</td>\n",
              "    </tr>\n",
              "    <tr>\n",
              "      <th>unique</th>\n",
              "      <td>280500</td>\n",
              "      <td>233531</td>\n",
              "      <td>2</td>\n",
              "      <td>2</td>\n",
              "      <td>NaN</td>\n",
              "      <td>2</td>\n",
              "      <td>8</td>\n",
              "      <td>NaN</td>\n",
              "      <td>2</td>\n",
              "      <td>NaN</td>\n",
              "      <td>251</td>\n",
              "      <td>NaN</td>\n",
              "      <td>NaN</td>\n",
              "      <td>7</td>\n",
              "      <td>40</td>\n",
              "      <td>2</td>\n",
              "      <td>114</td>\n",
              "      <td>NaN</td>\n",
              "      <td>NaN</td>\n",
              "      <td>182806</td>\n",
              "    </tr>\n",
              "    <tr>\n",
              "      <th>top</th>\n",
              "      <td>2016-03-24 14:49:47</td>\n",
              "      <td>Ford_Fiesta</td>\n",
              "      <td>privat</td>\n",
              "      <td>Angebot</td>\n",
              "      <td>NaN</td>\n",
              "      <td>test</td>\n",
              "      <td>limousine</td>\n",
              "      <td>NaN</td>\n",
              "      <td>manuell</td>\n",
              "      <td>NaN</td>\n",
              "      <td>golf</td>\n",
              "      <td>NaN</td>\n",
              "      <td>NaN</td>\n",
              "      <td>benzin</td>\n",
              "      <td>volkswagen</td>\n",
              "      <td>nein</td>\n",
              "      <td>2016-04-03 00:00:00</td>\n",
              "      <td>NaN</td>\n",
              "      <td>NaN</td>\n",
              "      <td>2016-04-07 06:45:59</td>\n",
              "    </tr>\n",
              "    <tr>\n",
              "      <th>freq</th>\n",
              "      <td>7</td>\n",
              "      <td>657</td>\n",
              "      <td>371525</td>\n",
              "      <td>371516</td>\n",
              "      <td>NaN</td>\n",
              "      <td>192585</td>\n",
              "      <td>95894</td>\n",
              "      <td>NaN</td>\n",
              "      <td>274214</td>\n",
              "      <td>NaN</td>\n",
              "      <td>30070</td>\n",
              "      <td>NaN</td>\n",
              "      <td>NaN</td>\n",
              "      <td>223857</td>\n",
              "      <td>79640</td>\n",
              "      <td>263182</td>\n",
              "      <td>14450</td>\n",
              "      <td>NaN</td>\n",
              "      <td>NaN</td>\n",
              "      <td>17</td>\n",
              "    </tr>\n",
              "    <tr>\n",
              "      <th>mean</th>\n",
              "      <td>NaN</td>\n",
              "      <td>NaN</td>\n",
              "      <td>NaN</td>\n",
              "      <td>NaN</td>\n",
              "      <td>1.729514e+04</td>\n",
              "      <td>NaN</td>\n",
              "      <td>NaN</td>\n",
              "      <td>2004.577997</td>\n",
              "      <td>NaN</td>\n",
              "      <td>115.549477</td>\n",
              "      <td>NaN</td>\n",
              "      <td>125618.688228</td>\n",
              "      <td>5.734445</td>\n",
              "      <td>NaN</td>\n",
              "      <td>NaN</td>\n",
              "      <td>NaN</td>\n",
              "      <td>NaN</td>\n",
              "      <td>0.0</td>\n",
              "      <td>50820.66764</td>\n",
              "      <td>NaN</td>\n",
              "    </tr>\n",
              "    <tr>\n",
              "      <th>std</th>\n",
              "      <td>NaN</td>\n",
              "      <td>NaN</td>\n",
              "      <td>NaN</td>\n",
              "      <td>NaN</td>\n",
              "      <td>3.587954e+06</td>\n",
              "      <td>NaN</td>\n",
              "      <td>NaN</td>\n",
              "      <td>92.866598</td>\n",
              "      <td>NaN</td>\n",
              "      <td>192.139578</td>\n",
              "      <td>NaN</td>\n",
              "      <td>40112.337051</td>\n",
              "      <td>3.712412</td>\n",
              "      <td>NaN</td>\n",
              "      <td>NaN</td>\n",
              "      <td>NaN</td>\n",
              "      <td>NaN</td>\n",
              "      <td>0.0</td>\n",
              "      <td>25799.08247</td>\n",
              "      <td>NaN</td>\n",
              "    </tr>\n",
              "    <tr>\n",
              "      <th>min</th>\n",
              "      <td>NaN</td>\n",
              "      <td>NaN</td>\n",
              "      <td>NaN</td>\n",
              "      <td>NaN</td>\n",
              "      <td>0.000000e+00</td>\n",
              "      <td>NaN</td>\n",
              "      <td>NaN</td>\n",
              "      <td>1000.000000</td>\n",
              "      <td>NaN</td>\n",
              "      <td>0.000000</td>\n",
              "      <td>NaN</td>\n",
              "      <td>5000.000000</td>\n",
              "      <td>0.000000</td>\n",
              "      <td>NaN</td>\n",
              "      <td>NaN</td>\n",
              "      <td>NaN</td>\n",
              "      <td>NaN</td>\n",
              "      <td>0.0</td>\n",
              "      <td>1067.00000</td>\n",
              "      <td>NaN</td>\n",
              "    </tr>\n",
              "    <tr>\n",
              "      <th>25%</th>\n",
              "      <td>NaN</td>\n",
              "      <td>NaN</td>\n",
              "      <td>NaN</td>\n",
              "      <td>NaN</td>\n",
              "      <td>1.150000e+03</td>\n",
              "      <td>NaN</td>\n",
              "      <td>NaN</td>\n",
              "      <td>1999.000000</td>\n",
              "      <td>NaN</td>\n",
              "      <td>70.000000</td>\n",
              "      <td>NaN</td>\n",
              "      <td>125000.000000</td>\n",
              "      <td>3.000000</td>\n",
              "      <td>NaN</td>\n",
              "      <td>NaN</td>\n",
              "      <td>NaN</td>\n",
              "      <td>NaN</td>\n",
              "      <td>0.0</td>\n",
              "      <td>30459.00000</td>\n",
              "      <td>NaN</td>\n",
              "    </tr>\n",
              "    <tr>\n",
              "      <th>50%</th>\n",
              "      <td>NaN</td>\n",
              "      <td>NaN</td>\n",
              "      <td>NaN</td>\n",
              "      <td>NaN</td>\n",
              "      <td>2.950000e+03</td>\n",
              "      <td>NaN</td>\n",
              "      <td>NaN</td>\n",
              "      <td>2003.000000</td>\n",
              "      <td>NaN</td>\n",
              "      <td>105.000000</td>\n",
              "      <td>NaN</td>\n",
              "      <td>150000.000000</td>\n",
              "      <td>6.000000</td>\n",
              "      <td>NaN</td>\n",
              "      <td>NaN</td>\n",
              "      <td>NaN</td>\n",
              "      <td>NaN</td>\n",
              "      <td>0.0</td>\n",
              "      <td>49610.00000</td>\n",
              "      <td>NaN</td>\n",
              "    </tr>\n",
              "    <tr>\n",
              "      <th>75%</th>\n",
              "      <td>NaN</td>\n",
              "      <td>NaN</td>\n",
              "      <td>NaN</td>\n",
              "      <td>NaN</td>\n",
              "      <td>7.200000e+03</td>\n",
              "      <td>NaN</td>\n",
              "      <td>NaN</td>\n",
              "      <td>2008.000000</td>\n",
              "      <td>NaN</td>\n",
              "      <td>150.000000</td>\n",
              "      <td>NaN</td>\n",
              "      <td>150000.000000</td>\n",
              "      <td>9.000000</td>\n",
              "      <td>NaN</td>\n",
              "      <td>NaN</td>\n",
              "      <td>NaN</td>\n",
              "      <td>NaN</td>\n",
              "      <td>0.0</td>\n",
              "      <td>71546.00000</td>\n",
              "      <td>NaN</td>\n",
              "    </tr>\n",
              "    <tr>\n",
              "      <th>max</th>\n",
              "      <td>NaN</td>\n",
              "      <td>NaN</td>\n",
              "      <td>NaN</td>\n",
              "      <td>NaN</td>\n",
              "      <td>2.147484e+09</td>\n",
              "      <td>NaN</td>\n",
              "      <td>NaN</td>\n",
              "      <td>9999.000000</td>\n",
              "      <td>NaN</td>\n",
              "      <td>20000.000000</td>\n",
              "      <td>NaN</td>\n",
              "      <td>150000.000000</td>\n",
              "      <td>12.000000</td>\n",
              "      <td>NaN</td>\n",
              "      <td>NaN</td>\n",
              "      <td>NaN</td>\n",
              "      <td>NaN</td>\n",
              "      <td>0.0</td>\n",
              "      <td>99998.00000</td>\n",
              "      <td>NaN</td>\n",
              "    </tr>\n",
              "  </tbody>\n",
              "</table>\n",
              "</div>\n",
              "      <button class=\"colab-df-convert\" onclick=\"convertToInteractive('df-d9571567-7583-4c31-9c22-15bf527e659d')\"\n",
              "              title=\"Convert this dataframe to an interactive table.\"\n",
              "              style=\"display:none;\">\n",
              "        \n",
              "  <svg xmlns=\"http://www.w3.org/2000/svg\" height=\"24px\"viewBox=\"0 0 24 24\"\n",
              "       width=\"24px\">\n",
              "    <path d=\"M0 0h24v24H0V0z\" fill=\"none\"/>\n",
              "    <path d=\"M18.56 5.44l.94 2.06.94-2.06 2.06-.94-2.06-.94-.94-2.06-.94 2.06-2.06.94zm-11 1L8.5 8.5l.94-2.06 2.06-.94-2.06-.94L8.5 2.5l-.94 2.06-2.06.94zm10 10l.94 2.06.94-2.06 2.06-.94-2.06-.94-.94-2.06-.94 2.06-2.06.94z\"/><path d=\"M17.41 7.96l-1.37-1.37c-.4-.4-.92-.59-1.43-.59-.52 0-1.04.2-1.43.59L10.3 9.45l-7.72 7.72c-.78.78-.78 2.05 0 2.83L4 21.41c.39.39.9.59 1.41.59.51 0 1.02-.2 1.41-.59l7.78-7.78 2.81-2.81c.8-.78.8-2.07 0-2.86zM5.41 20L4 18.59l7.72-7.72 1.47 1.35L5.41 20z\"/>\n",
              "  </svg>\n",
              "      </button>\n",
              "      \n",
              "  <style>\n",
              "    .colab-df-container {\n",
              "      display:flex;\n",
              "      flex-wrap:wrap;\n",
              "      gap: 12px;\n",
              "    }\n",
              "\n",
              "    .colab-df-convert {\n",
              "      background-color: #E8F0FE;\n",
              "      border: none;\n",
              "      border-radius: 50%;\n",
              "      cursor: pointer;\n",
              "      display: none;\n",
              "      fill: #1967D2;\n",
              "      height: 32px;\n",
              "      padding: 0 0 0 0;\n",
              "      width: 32px;\n",
              "    }\n",
              "\n",
              "    .colab-df-convert:hover {\n",
              "      background-color: #E2EBFA;\n",
              "      box-shadow: 0px 1px 2px rgba(60, 64, 67, 0.3), 0px 1px 3px 1px rgba(60, 64, 67, 0.15);\n",
              "      fill: #174EA6;\n",
              "    }\n",
              "\n",
              "    [theme=dark] .colab-df-convert {\n",
              "      background-color: #3B4455;\n",
              "      fill: #D2E3FC;\n",
              "    }\n",
              "\n",
              "    [theme=dark] .colab-df-convert:hover {\n",
              "      background-color: #434B5C;\n",
              "      box-shadow: 0px 1px 3px 1px rgba(0, 0, 0, 0.15);\n",
              "      filter: drop-shadow(0px 1px 2px rgba(0, 0, 0, 0.3));\n",
              "      fill: #FFFFFF;\n",
              "    }\n",
              "  </style>\n",
              "\n",
              "      <script>\n",
              "        const buttonEl =\n",
              "          document.querySelector('#df-d9571567-7583-4c31-9c22-15bf527e659d button.colab-df-convert');\n",
              "        buttonEl.style.display =\n",
              "          google.colab.kernel.accessAllowed ? 'block' : 'none';\n",
              "\n",
              "        async function convertToInteractive(key) {\n",
              "          const element = document.querySelector('#df-d9571567-7583-4c31-9c22-15bf527e659d');\n",
              "          const dataTable =\n",
              "            await google.colab.kernel.invokeFunction('convertToInteractive',\n",
              "                                                     [key], {});\n",
              "          if (!dataTable) return;\n",
              "\n",
              "          const docLinkHtml = 'Like what you see? Visit the ' +\n",
              "            '<a target=\"_blank\" href=https://colab.research.google.com/notebooks/data_table.ipynb>data table notebook</a>'\n",
              "            + ' to learn more about interactive tables.';\n",
              "          element.innerHTML = '';\n",
              "          dataTable['output_type'] = 'display_data';\n",
              "          await google.colab.output.renderOutput(dataTable, element);\n",
              "          const docLink = document.createElement('div');\n",
              "          docLink.innerHTML = docLinkHtml;\n",
              "          element.appendChild(docLink);\n",
              "        }\n",
              "      </script>\n",
              "    </div>\n",
              "  </div>\n",
              "  "
            ]
          },
          "metadata": {},
          "execution_count": 79
        }
      ],
      "source": [
        "cars.describe(include = 'all')"
      ]
    },
    {
      "cell_type": "markdown",
      "metadata": {
        "id": "_db5GJwziCTj"
      },
      "source": [
        "Description of columns tels us that 2 columns: `odometer` and `price` have combination of string and number. That's why we had to found a pattern and cleaned it. Column `registration_year` has a strange maximum value equal 9999. It's probably wrong value because 9999 year is a future. Column `power_ps` has unbelievable maximum value qual 177700 ps. None car has power like this one. Column `registration_month` has minimum value 0.00, month 0 doesn't exist so it's misstake too. We colud remove columns which every value were the same. It happened in columns: `seller`, `offer_type` and `pictures_num`. They told us nothing so we could remove it. What we did at first."
      ]
    },
    {
      "cell_type": "code",
      "execution_count": 80,
      "metadata": {
        "id": "6amlafkjiCTj",
        "outputId": "efab3360-f959-44da-9e37-bd9c4d7d902e",
        "colab": {
          "base_uri": "https://localhost:8080/"
        }
      },
      "outputs": [
        {
          "output_type": "execute_result",
          "data": {
            "text/plain": [
              "(371528, 17)"
            ]
          },
          "metadata": {},
          "execution_count": 80
        }
      ],
      "source": [
        "cars = cars.drop(['seller', 'offer_type', 'pictures_num'], axis = 1)\n",
        "cars.shape"
      ]
    },
    {
      "cell_type": "code",
      "source": [
        "cars['price']"
      ],
      "metadata": {
        "colab": {
          "base_uri": "https://localhost:8080/"
        },
        "id": "9XGrjzhaSRf-",
        "outputId": "14276fb9-e32d-4691-c1f6-b7752d7e081f"
      },
      "execution_count": 81,
      "outputs": [
        {
          "output_type": "execute_result",
          "data": {
            "text/plain": [
              "0           480\n",
              "1         18300\n",
              "2          9800\n",
              "3          1500\n",
              "4          3600\n",
              "          ...  \n",
              "371523     2200\n",
              "371524     1199\n",
              "371525     9200\n",
              "371526     3400\n",
              "371527    28990\n",
              "Name: price, Length: 371528, dtype: int64"
            ]
          },
          "metadata": {},
          "execution_count": 81
        }
      ]
    },
    {
      "cell_type": "markdown",
      "source": [
        "Data which we use in this project from Dataquest has signs: \"$\", commas or dots\". So we had to replace it. In data from data.world we didn't have to do this because columns `price` and `odometer` had have already numeric type."
      ],
      "metadata": {
        "id": "C2KVvHrKTxsk"
      }
    },
    {
      "cell_type": "code",
      "execution_count": 82,
      "metadata": {
        "id": "j8ZH5mq3iCTk"
      },
      "outputs": [],
      "source": [
        "#cars['price'] = cars['price'].str.replace('$', '').str.replace(',', '')\n",
        "#cars['price'] = cars['price'].astype(int)"
      ]
    },
    {
      "cell_type": "code",
      "execution_count": 83,
      "metadata": {
        "id": "XA8I95bEiCTk"
      },
      "outputs": [],
      "source": [
        "#cars['odometer'] = cars['odometer'].str.replace('km', '').str.replace(',', '')\n",
        "#cars['odometer'] = cars['odometer'].astype(int)"
      ]
    },
    {
      "cell_type": "code",
      "execution_count": 84,
      "metadata": {
        "id": "ezvHuXgtiCTk"
      },
      "outputs": [],
      "source": [
        "cars.rename({'odometer' : 'odometer_km', 'price' : 'price_dol'}, \n",
        "            inplace = True, axis = 1)"
      ]
    },
    {
      "cell_type": "markdown",
      "metadata": {
        "id": "eoq-lUG_iCTk"
      },
      "source": [
        "## Exploring and cleaning prices"
      ]
    },
    {
      "cell_type": "code",
      "execution_count": 85,
      "metadata": {
        "id": "vVF4zsuliCTk",
        "outputId": "67badd7d-e686-41f1-d799-4374017eb68a",
        "colab": {
          "base_uri": "https://localhost:8080/"
        }
      },
      "outputs": [
        {
          "output_type": "execute_result",
          "data": {
            "text/plain": [
              "count    3.715280e+05\n",
              "mean     1.729514e+04\n",
              "std      3.587954e+06\n",
              "min      0.000000e+00\n",
              "25%      1.150000e+03\n",
              "50%      2.950000e+03\n",
              "75%      7.200000e+03\n",
              "max      2.147484e+09\n",
              "Name: price_dol, dtype: float64"
            ]
          },
          "metadata": {},
          "execution_count": 85
        }
      ],
      "source": [
        "cars['price_dol'].describe()"
      ]
    },
    {
      "cell_type": "code",
      "execution_count": 86,
      "metadata": {
        "id": "BrhojsCViCTk",
        "outputId": "ff4cfba5-19d3-46da-dd3f-8acfbad9aaff",
        "colab": {
          "base_uri": "https://localhost:8080/"
        }
      },
      "outputs": [
        {
          "output_type": "execute_result",
          "data": {
            "text/plain": [
              "2147483647     1\n",
              "99999999      15\n",
              "99000000       1\n",
              "74185296       1\n",
              "32545461       1\n",
              "27322222       1\n",
              "14000500       1\n",
              "12345678       9\n",
              "11111111      10\n",
              "10010011       1\n",
              "10000000       8\n",
              "9999999        3\n",
              "3895000        1\n",
              "3890000        1\n",
              "2995000        1\n",
              "2795000        1\n",
              "1600000        2\n",
              "1300000        1\n",
              "1250000        2\n",
              "1234566        1\n",
              "Name: price_dol, dtype: int64"
            ]
          },
          "metadata": {},
          "execution_count": 86
        }
      ],
      "source": [
        "cars['price_dol'].value_counts().sort_index(ascending = False).head(20)"
      ]
    },
    {
      "cell_type": "code",
      "execution_count": 87,
      "metadata": {
        "id": "wwX8Bl5QiCTl",
        "outputId": "00a8c08c-d575-4b08-c341-7a00cb7627bb",
        "colab": {
          "base_uri": "https://localhost:8080/"
        }
      },
      "outputs": [
        {
          "output_type": "execute_result",
          "data": {
            "text/plain": [
              "0     10778\n",
              "1      1189\n",
              "2        12\n",
              "3         8\n",
              "4         1\n",
              "5        26\n",
              "7         3\n",
              "8         9\n",
              "9         8\n",
              "10       84\n",
              "11        5\n",
              "12        8\n",
              "13        7\n",
              "14        5\n",
              "15       27\n",
              "16        2\n",
              "17        5\n",
              "18        3\n",
              "19        3\n",
              "20       51\n",
              "Name: price_dol, dtype: int64"
            ]
          },
          "metadata": {},
          "execution_count": 87
        }
      ],
      "source": [
        "cars['price_dol'].value_counts().sort_index(ascending = True).head(20)"
      ]
    },
    {
      "cell_type": "markdown",
      "metadata": {
        "id": "vX2_Df92iCTl"
      },
      "source": [
        "As we see above we have cars which cost 0\\\\$ and cars which cost 999990$ and more. That's why we chose cars' prices between 1\\\\$ and 350001\\\\$. We did it below."
      ]
    },
    {
      "cell_type": "code",
      "execution_count": 88,
      "metadata": {
        "id": "SzdN4qwpiCTl",
        "outputId": "78d649f2-7a3a-4eaf-be21-e59c47e6f83f",
        "colab": {
          "base_uri": "https://localhost:8080/"
        }
      },
      "outputs": [
        {
          "output_type": "execute_result",
          "data": {
            "text/plain": [
              "count    360635.000000\n",
              "mean       5898.671956\n",
              "std        8866.359669\n",
              "min           1.000000\n",
              "25%        1250.000000\n",
              "50%        3000.000000\n",
              "75%        7490.000000\n",
              "max      350000.000000\n",
              "Name: price_dol, dtype: float64"
            ]
          },
          "metadata": {},
          "execution_count": 88
        }
      ],
      "source": [
        "cars = cars[cars['price_dol'].between(1, 350001)]\n",
        "cars['price_dol'].describe()"
      ]
    },
    {
      "cell_type": "markdown",
      "metadata": {
        "id": "w_g66x6CiCTl"
      },
      "source": [
        "## Exploring and cleaning odometer_km"
      ]
    },
    {
      "cell_type": "code",
      "execution_count": 89,
      "metadata": {
        "id": "ltf0RUjIiCTl",
        "outputId": "a16c8154-e9a6-4ed8-c742-91ef978ef284",
        "colab": {
          "base_uri": "https://localhost:8080/"
        }
      },
      "outputs": [
        {
          "output_type": "execute_result",
          "data": {
            "text/plain": [
              "count    360635.000000\n",
              "mean     125675.364288\n",
              "std       39818.609118\n",
              "min        5000.000000\n",
              "25%      100000.000000\n",
              "50%      150000.000000\n",
              "75%      150000.000000\n",
              "max      150000.000000\n",
              "Name: odometer_km, dtype: float64"
            ]
          },
          "metadata": {},
          "execution_count": 89
        }
      ],
      "source": [
        "cars['odometer_km'].describe()"
      ]
    },
    {
      "cell_type": "markdown",
      "metadata": {
        "id": "B4x1kwKkiCTl"
      },
      "source": [
        "As we see odometer column is rounded and we decided that nothing in it is mistake and we didn't have to change anything."
      ]
    },
    {
      "cell_type": "markdown",
      "metadata": {
        "id": "5dYZkgciiCTm"
      },
      "source": [
        "## Exploring and cleaning registration_year and month"
      ]
    },
    {
      "cell_type": "code",
      "execution_count": 90,
      "metadata": {
        "id": "uMpaAW8piCTm",
        "outputId": "cfee76f1-9cb2-4830-ac2a-93ec04a65f62",
        "colab": {
          "base_uri": "https://localhost:8080/"
        }
      },
      "outputs": [
        {
          "output_type": "execute_result",
          "data": {
            "text/plain": [
              "count    360635.000000\n",
              "mean       2004.433133\n",
              "std          81.016977\n",
              "min        1000.000000\n",
              "25%        1999.000000\n",
              "50%        2004.000000\n",
              "75%        2008.000000\n",
              "max        9999.000000\n",
              "Name: registration_year, dtype: float64"
            ]
          },
          "metadata": {},
          "execution_count": 90
        }
      ],
      "source": [
        "cars['registration_year'].describe()"
      ]
    },
    {
      "cell_type": "markdown",
      "metadata": {
        "id": "IfyJStatiCTm"
      },
      "source": [
        "Above, maximum years is 9999 and it's imposible. Minimum value is 1000 and it historically imposible too. That's we had to find registration year between 1886 (date of creation first car) and now (2022)."
      ]
    },
    {
      "cell_type": "code",
      "execution_count": 91,
      "metadata": {
        "id": "GBD7O7MhiCTm"
      },
      "outputs": [],
      "source": [
        "cars = cars[cars['registration_year'].between(1886, 2022)]"
      ]
    },
    {
      "cell_type": "code",
      "execution_count": 92,
      "metadata": {
        "id": "mbhe-w0DiCTm",
        "outputId": "58a33b6c-09b4-4668-fd81-7d32e3e793b8",
        "colab": {
          "base_uri": "https://localhost:8080/"
        }
      },
      "outputs": [
        {
          "output_type": "execute_result",
          "data": {
            "text/plain": [
              "count    360487.000000\n",
              "mean       2003.448124\n",
              "std           7.622978\n",
              "min        1910.000000\n",
              "25%        1999.000000\n",
              "50%        2004.000000\n",
              "75%        2008.000000\n",
              "max        2019.000000\n",
              "Name: registration_year, dtype: float64"
            ]
          },
          "metadata": {},
          "execution_count": 92
        }
      ],
      "source": [
        "cars['registration_year'].describe()"
      ]
    },
    {
      "cell_type": "code",
      "execution_count": 93,
      "metadata": {
        "id": "msNun9BeiCTm",
        "outputId": "d8333b32-2002-462a-e5b1-76a36102f322",
        "colab": {
          "base_uri": "https://localhost:8080/"
        }
      },
      "outputs": [
        {
          "output_type": "execute_result",
          "data": {
            "text/plain": [
              "count    360487.000000\n",
              "mean          5.797885\n",
              "std           3.683600\n",
              "min           0.000000\n",
              "25%           3.000000\n",
              "50%           6.000000\n",
              "75%           9.000000\n",
              "max          12.000000\n",
              "Name: registration_month, dtype: float64"
            ]
          },
          "metadata": {},
          "execution_count": 93
        }
      ],
      "source": [
        "cars['registration_month'].describe()"
      ]
    },
    {
      "cell_type": "code",
      "execution_count": 94,
      "metadata": {
        "id": "UQojetnBiCTm",
        "outputId": "be79ea95-5184-4453-d3f8-b128214761ee",
        "colab": {
          "base_uri": "https://localhost:8080/"
        }
      },
      "outputs": [
        {
          "output_type": "execute_result",
          "data": {
            "text/plain": [
              "0    33052\n",
              "Name: registration_month, dtype: int64"
            ]
          },
          "metadata": {},
          "execution_count": 94
        }
      ],
      "source": [
        "cars.loc[cars['registration_month'] == 0, 'registration_month'].value_counts()"
      ]
    },
    {
      "cell_type": "markdown",
      "metadata": {
        "id": "yKUbqxRgiCTn"
      },
      "source": [
        "`registration_month` column has one mistake. It has values equal 0. All know that months numbers are 1 to 12, so we had to drop rows with 0. There were 4468 of these values."
      ]
    },
    {
      "cell_type": "code",
      "execution_count": 95,
      "metadata": {
        "scrolled": true,
        "id": "T9D39TJyiCTn"
      },
      "outputs": [],
      "source": [
        "cars = cars[cars['registration_month'].between(1,12)]"
      ]
    },
    {
      "cell_type": "code",
      "execution_count": 96,
      "metadata": {
        "scrolled": true,
        "id": "btdBP4ZjiCTn",
        "outputId": "3772b3b5-4718-447a-ea5a-b1063af56273",
        "colab": {
          "base_uri": "https://localhost:8080/"
        }
      },
      "outputs": [
        {
          "output_type": "execute_result",
          "data": {
            "text/plain": [
              "count    327435.000000\n",
              "mean          6.383136\n",
              "std           3.347064\n",
              "min           1.000000\n",
              "25%           4.000000\n",
              "50%           6.000000\n",
              "75%           9.000000\n",
              "max          12.000000\n",
              "Name: registration_month, dtype: float64"
            ]
          },
          "metadata": {},
          "execution_count": 96
        }
      ],
      "source": [
        "cars['registration_month'].describe()"
      ]
    },
    {
      "cell_type": "code",
      "execution_count": 97,
      "metadata": {
        "id": "OQ8xVjjgiCTn",
        "outputId": "22d832b9-df6c-457e-8dc4-3f10d1bebcd3",
        "colab": {
          "base_uri": "https://localhost:8080/"
        }
      },
      "outputs": [
        {
          "output_type": "execute_result",
          "data": {
            "text/plain": [
              "1999    19810\n",
              "2005    19806\n",
              "2006    19245\n",
              "2000    19070\n",
              "2004    18590\n",
              "2003    18544\n",
              "2001    18170\n",
              "2002    17658\n",
              "2007    16956\n",
              "2008    15565\n",
              "1998    15239\n",
              "2009    15128\n",
              "1997    12239\n",
              "2010    12047\n",
              "2011    11830\n",
              "Name: registration_year, dtype: int64"
            ]
          },
          "metadata": {},
          "execution_count": 97
        }
      ],
      "source": [
        "(cars['registration_year'].value_counts()\n",
        "                          .sort_values(ascending = False)\n",
        "                          .head(15))"
      ]
    },
    {
      "cell_type": "markdown",
      "metadata": {
        "id": "rAVFEOyniCTn"
      },
      "source": [
        "The most cars registrated 20 years ago"
      ]
    },
    {
      "cell_type": "markdown",
      "metadata": {
        "id": "DtQl3NQeiCTn"
      },
      "source": [
        "## Exploring and cleaning power_ps"
      ]
    },
    {
      "cell_type": "code",
      "execution_count": 98,
      "metadata": {
        "id": "ZEx2dvOziCTn",
        "outputId": "6c600cfe-3236-4e45-9bba-f24ca5a94ca6",
        "colab": {
          "base_uri": "https://localhost:8080/"
        }
      },
      "outputs": [
        {
          "output_type": "execute_result",
          "data": {
            "text/plain": [
              "count    327435.000000\n",
              "mean        120.874302\n",
              "std         181.855225\n",
              "min           0.000000\n",
              "25%          75.000000\n",
              "50%         110.000000\n",
              "75%         150.000000\n",
              "max       20000.000000\n",
              "Name: power_ps, dtype: float64"
            ]
          },
          "metadata": {},
          "execution_count": 98
        }
      ],
      "source": [
        "cars['power_ps'].describe()"
      ]
    },
    {
      "cell_type": "markdown",
      "metadata": {
        "id": "f16gWGqZiCTn"
      },
      "source": [
        "The fastest car in the world has 1600ps, so this to upper limit of ps value, that why every value over it has to be remove. The car can't have power qual 0, so we had to check it too."
      ]
    },
    {
      "cell_type": "code",
      "execution_count": 99,
      "metadata": {
        "id": "-G0ZCjgLiCTo",
        "outputId": "2a59dba1-c20c-4424-f785-97e6b0e3b124",
        "colab": {
          "base_uri": "https://localhost:8080/"
        }
      },
      "outputs": [
        {
          "output_type": "execute_result",
          "data": {
            "text/plain": [
              "0     24002\n",
              "1        22\n",
              "2         7\n",
              "3         8\n",
              "4        28\n",
              "5        89\n",
              "6        11\n",
              "7        10\n",
              "8         7\n",
              "9         3\n",
              "10       14\n",
              "11       27\n",
              "12       16\n",
              "13        6\n",
              "14       18\n",
              "15       12\n",
              "16        5\n",
              "17        7\n",
              "18       48\n",
              "19       11\n",
              "Name: power_ps, dtype: int64"
            ]
          },
          "metadata": {},
          "execution_count": 99
        }
      ],
      "source": [
        "cars['power_ps'].value_counts().sort_index().head(20)"
      ]
    },
    {
      "cell_type": "code",
      "execution_count": 100,
      "metadata": {
        "id": "T_9nryo_iCTo",
        "outputId": "e92f1592-e79d-4bd4-8a83-270456881d47",
        "colab": {
          "base_uri": "https://localhost:8080/"
        }
      },
      "outputs": [
        {
          "output_type": "execute_result",
          "data": {
            "text/plain": [
              "144"
            ]
          },
          "metadata": {},
          "execution_count": 100
        }
      ],
      "source": [
        "cars.loc[cars['power_ps'] > 1600, 'power_ps'].value_counts().sum()"
      ]
    },
    {
      "cell_type": "code",
      "execution_count": 101,
      "metadata": {
        "id": "by408KIPiCTo"
      },
      "outputs": [],
      "source": [
        "cars = cars[cars['power_ps'].between(1, 1601)]"
      ]
    },
    {
      "cell_type": "code",
      "execution_count": 102,
      "metadata": {
        "id": "4n-m8rVTiCTo",
        "outputId": "a552d05d-ab2f-4cf3-f009-7d5658761e37",
        "colab": {
          "base_uri": "https://localhost:8080/"
        }
      },
      "outputs": [
        {
          "output_type": "execute_result",
          "data": {
            "text/plain": [
              "count    303289.000000\n",
              "mean        127.563400\n",
              "std          66.665768\n",
              "min           1.000000\n",
              "25%          80.000000\n",
              "50%         116.000000\n",
              "75%         150.000000\n",
              "max        1600.000000\n",
              "Name: power_ps, dtype: float64"
            ]
          },
          "metadata": {},
          "execution_count": 102
        }
      ],
      "source": [
        "cars['power_ps'].describe()"
      ]
    },
    {
      "cell_type": "code",
      "execution_count": 103,
      "metadata": {
        "scrolled": true,
        "id": "Ouo7g11CiCTo",
        "outputId": "761fb0f9-2e50-4ca3-eef2-3a003e4cea9f",
        "colab": {
          "base_uri": "https://localhost:8080/"
        }
      },
      "outputs": [
        {
          "output_type": "execute_result",
          "data": {
            "text/plain": [
              "75     21122\n",
              "60     13975\n",
              "150    13972\n",
              "140    12957\n",
              "101    11948\n",
              "116    11201\n",
              "90     11077\n",
              "170    10289\n",
              "105     9928\n",
              "136     6379\n",
              "Name: power_ps, dtype: int64"
            ]
          },
          "metadata": {},
          "execution_count": 103
        }
      ],
      "source": [
        "cars['power_ps'].value_counts().sort_values(ascending = False).head(10)"
      ]
    },
    {
      "cell_type": "markdown",
      "metadata": {
        "id": "m4VfqdFgiCTo"
      },
      "source": [
        "The most cars have power between 60 and 150 ps."
      ]
    },
    {
      "cell_type": "markdown",
      "metadata": {
        "id": "nGcAv7A0iCTo"
      },
      "source": [
        "## Exploring the date columns"
      ]
    },
    {
      "cell_type": "code",
      "execution_count": 104,
      "metadata": {
        "id": "YETYmkiWiCTo",
        "outputId": "9986a4e3-94d1-4af0-f0d2-44d24576794b",
        "colab": {
          "base_uri": "https://localhost:8080/",
          "height": 206
        }
      },
      "outputs": [
        {
          "output_type": "execute_result",
          "data": {
            "text/plain": [
              "          crawled_date           ad_created            last_seen\n",
              "1  2016-03-24 10:58:45  2016-03-24 00:00:00  2016-04-07 01:46:50\n",
              "2  2016-03-14 12:52:21  2016-03-14 00:00:00  2016-04-05 12:47:46\n",
              "3  2016-03-17 16:54:04  2016-03-17 00:00:00  2016-03-17 17:40:17\n",
              "4  2016-03-31 17:25:20  2016-03-31 00:00:00  2016-04-06 10:17:21\n",
              "5  2016-04-04 17:36:23  2016-04-04 00:00:00  2016-04-06 19:17:07"
            ],
            "text/html": [
              "\n",
              "  <div id=\"df-098b5941-f0b6-4d7b-91b1-38216895af10\">\n",
              "    <div class=\"colab-df-container\">\n",
              "      <div>\n",
              "<style scoped>\n",
              "    .dataframe tbody tr th:only-of-type {\n",
              "        vertical-align: middle;\n",
              "    }\n",
              "\n",
              "    .dataframe tbody tr th {\n",
              "        vertical-align: top;\n",
              "    }\n",
              "\n",
              "    .dataframe thead th {\n",
              "        text-align: right;\n",
              "    }\n",
              "</style>\n",
              "<table border=\"1\" class=\"dataframe\">\n",
              "  <thead>\n",
              "    <tr style=\"text-align: right;\">\n",
              "      <th></th>\n",
              "      <th>crawled_date</th>\n",
              "      <th>ad_created</th>\n",
              "      <th>last_seen</th>\n",
              "    </tr>\n",
              "  </thead>\n",
              "  <tbody>\n",
              "    <tr>\n",
              "      <th>1</th>\n",
              "      <td>2016-03-24 10:58:45</td>\n",
              "      <td>2016-03-24 00:00:00</td>\n",
              "      <td>2016-04-07 01:46:50</td>\n",
              "    </tr>\n",
              "    <tr>\n",
              "      <th>2</th>\n",
              "      <td>2016-03-14 12:52:21</td>\n",
              "      <td>2016-03-14 00:00:00</td>\n",
              "      <td>2016-04-05 12:47:46</td>\n",
              "    </tr>\n",
              "    <tr>\n",
              "      <th>3</th>\n",
              "      <td>2016-03-17 16:54:04</td>\n",
              "      <td>2016-03-17 00:00:00</td>\n",
              "      <td>2016-03-17 17:40:17</td>\n",
              "    </tr>\n",
              "    <tr>\n",
              "      <th>4</th>\n",
              "      <td>2016-03-31 17:25:20</td>\n",
              "      <td>2016-03-31 00:00:00</td>\n",
              "      <td>2016-04-06 10:17:21</td>\n",
              "    </tr>\n",
              "    <tr>\n",
              "      <th>5</th>\n",
              "      <td>2016-04-04 17:36:23</td>\n",
              "      <td>2016-04-04 00:00:00</td>\n",
              "      <td>2016-04-06 19:17:07</td>\n",
              "    </tr>\n",
              "  </tbody>\n",
              "</table>\n",
              "</div>\n",
              "      <button class=\"colab-df-convert\" onclick=\"convertToInteractive('df-098b5941-f0b6-4d7b-91b1-38216895af10')\"\n",
              "              title=\"Convert this dataframe to an interactive table.\"\n",
              "              style=\"display:none;\">\n",
              "        \n",
              "  <svg xmlns=\"http://www.w3.org/2000/svg\" height=\"24px\"viewBox=\"0 0 24 24\"\n",
              "       width=\"24px\">\n",
              "    <path d=\"M0 0h24v24H0V0z\" fill=\"none\"/>\n",
              "    <path d=\"M18.56 5.44l.94 2.06.94-2.06 2.06-.94-2.06-.94-.94-2.06-.94 2.06-2.06.94zm-11 1L8.5 8.5l.94-2.06 2.06-.94-2.06-.94L8.5 2.5l-.94 2.06-2.06.94zm10 10l.94 2.06.94-2.06 2.06-.94-2.06-.94-.94-2.06-.94 2.06-2.06.94z\"/><path d=\"M17.41 7.96l-1.37-1.37c-.4-.4-.92-.59-1.43-.59-.52 0-1.04.2-1.43.59L10.3 9.45l-7.72 7.72c-.78.78-.78 2.05 0 2.83L4 21.41c.39.39.9.59 1.41.59.51 0 1.02-.2 1.41-.59l7.78-7.78 2.81-2.81c.8-.78.8-2.07 0-2.86zM5.41 20L4 18.59l7.72-7.72 1.47 1.35L5.41 20z\"/>\n",
              "  </svg>\n",
              "      </button>\n",
              "      \n",
              "  <style>\n",
              "    .colab-df-container {\n",
              "      display:flex;\n",
              "      flex-wrap:wrap;\n",
              "      gap: 12px;\n",
              "    }\n",
              "\n",
              "    .colab-df-convert {\n",
              "      background-color: #E8F0FE;\n",
              "      border: none;\n",
              "      border-radius: 50%;\n",
              "      cursor: pointer;\n",
              "      display: none;\n",
              "      fill: #1967D2;\n",
              "      height: 32px;\n",
              "      padding: 0 0 0 0;\n",
              "      width: 32px;\n",
              "    }\n",
              "\n",
              "    .colab-df-convert:hover {\n",
              "      background-color: #E2EBFA;\n",
              "      box-shadow: 0px 1px 2px rgba(60, 64, 67, 0.3), 0px 1px 3px 1px rgba(60, 64, 67, 0.15);\n",
              "      fill: #174EA6;\n",
              "    }\n",
              "\n",
              "    [theme=dark] .colab-df-convert {\n",
              "      background-color: #3B4455;\n",
              "      fill: #D2E3FC;\n",
              "    }\n",
              "\n",
              "    [theme=dark] .colab-df-convert:hover {\n",
              "      background-color: #434B5C;\n",
              "      box-shadow: 0px 1px 3px 1px rgba(0, 0, 0, 0.15);\n",
              "      filter: drop-shadow(0px 1px 2px rgba(0, 0, 0, 0.3));\n",
              "      fill: #FFFFFF;\n",
              "    }\n",
              "  </style>\n",
              "\n",
              "      <script>\n",
              "        const buttonEl =\n",
              "          document.querySelector('#df-098b5941-f0b6-4d7b-91b1-38216895af10 button.colab-df-convert');\n",
              "        buttonEl.style.display =\n",
              "          google.colab.kernel.accessAllowed ? 'block' : 'none';\n",
              "\n",
              "        async function convertToInteractive(key) {\n",
              "          const element = document.querySelector('#df-098b5941-f0b6-4d7b-91b1-38216895af10');\n",
              "          const dataTable =\n",
              "            await google.colab.kernel.invokeFunction('convertToInteractive',\n",
              "                                                     [key], {});\n",
              "          if (!dataTable) return;\n",
              "\n",
              "          const docLinkHtml = 'Like what you see? Visit the ' +\n",
              "            '<a target=\"_blank\" href=https://colab.research.google.com/notebooks/data_table.ipynb>data table notebook</a>'\n",
              "            + ' to learn more about interactive tables.';\n",
              "          element.innerHTML = '';\n",
              "          dataTable['output_type'] = 'display_data';\n",
              "          await google.colab.output.renderOutput(dataTable, element);\n",
              "          const docLink = document.createElement('div');\n",
              "          docLink.innerHTML = docLinkHtml;\n",
              "          element.appendChild(docLink);\n",
              "        }\n",
              "      </script>\n",
              "    </div>\n",
              "  </div>\n",
              "  "
            ]
          },
          "metadata": {},
          "execution_count": 104
        }
      ],
      "source": [
        "cars[['crawled_date','ad_created','last_seen']][0:5]"
      ]
    },
    {
      "cell_type": "code",
      "execution_count": 105,
      "metadata": {
        "id": "aOvqCs4NiCTp",
        "outputId": "538c45a6-fa9d-4385-f02d-ebceeea04a77",
        "colab": {
          "base_uri": "https://localhost:8080/"
        }
      },
      "outputs": [
        {
          "output_type": "execute_result",
          "data": {
            "text/plain": [
              "2016-03-05    0.026068\n",
              "2016-03-06    0.014616\n",
              "2016-03-07    0.035867\n",
              "2016-03-08    0.033285\n",
              "2016-03-09    0.033875\n",
              "2016-03-10    0.032164\n",
              "2016-03-11    0.032425\n",
              "2016-03-12    0.036774\n",
              "2016-03-13    0.016051\n",
              "2016-03-14    0.036140\n",
              "2016-03-15    0.032906\n",
              "2016-03-16    0.029876\n",
              "2016-03-17    0.031340\n",
              "2016-03-18    0.013070\n",
              "2016-03-19    0.035128\n",
              "2016-03-20    0.036553\n",
              "2016-03-21    0.035455\n",
              "2016-03-22    0.032190\n",
              "2016-03-23    0.031884\n",
              "2016-03-24    0.029731\n",
              "2016-03-25    0.032761\n",
              "2016-03-26    0.032312\n",
              "2016-03-27    0.030304\n",
              "2016-03-28    0.035554\n",
              "2016-03-29    0.033961\n",
              "2016-03-30    0.033433\n",
              "2016-03-31    0.031884\n",
              "2016-04-01    0.034433\n",
              "2016-04-02    0.035247\n",
              "2016-04-03    0.039444\n",
              "2016-04-04    0.037904\n",
              "2016-04-05    0.012533\n",
              "2016-04-06    0.003211\n",
              "2016-04-07    0.001622\n",
              "Name: crawled_date, dtype: float64"
            ]
          },
          "metadata": {},
          "execution_count": 105
        }
      ],
      "source": [
        "(cars['crawled_date'].str[:10]\n",
        "                     .value_counts(normalize = True, dropna = False)\n",
        "                     .sort_index())"
      ]
    },
    {
      "cell_type": "code",
      "execution_count": 106,
      "metadata": {
        "id": "913un8iqiCTp",
        "outputId": "832aa743-3ece-49f4-8026-b7ad17793d29",
        "colab": {
          "base_uri": "https://localhost:8080/"
        }
      },
      "outputs": [
        {
          "output_type": "execute_result",
          "data": {
            "text/plain": [
              "2016-03-05    0.001213\n",
              "2016-03-06    0.003993\n",
              "2016-03-07    0.005028\n",
              "2016-03-08    0.007442\n",
              "2016-03-09    0.009367\n",
              "2016-03-10    0.010970\n",
              "2016-03-11    0.012463\n",
              "2016-03-12    0.022896\n",
              "2016-03-13    0.008098\n",
              "2016-03-14    0.011873\n",
              "2016-03-15    0.015780\n",
              "2016-03-16    0.016011\n",
              "2016-03-17    0.027993\n",
              "2016-03-18    0.006782\n",
              "2016-03-19    0.015731\n",
              "2016-03-20    0.019529\n",
              "2016-03-21    0.019473\n",
              "2016-03-22    0.020073\n",
              "2016-03-23    0.017620\n",
              "2016-03-24    0.018685\n",
              "2016-03-25    0.018458\n",
              "2016-03-26    0.015540\n",
              "2016-03-27    0.016347\n",
              "2016-03-28    0.021920\n",
              "2016-03-29    0.022866\n",
              "2016-03-30    0.023390\n",
              "2016-03-31    0.023901\n",
              "2016-04-01    0.023730\n",
              "2016-04-02    0.024841\n",
              "2016-04-03    0.025075\n",
              "2016-04-04    0.025289\n",
              "2016-04-05    0.129748\n",
              "2016-04-06    0.223968\n",
              "2016-04-07    0.133905\n",
              "Name: last_seen, dtype: float64"
            ]
          },
          "metadata": {},
          "execution_count": 106
        }
      ],
      "source": [
        "(cars['last_seen'].str[:10]\n",
        "                     .value_counts(normalize = True, dropna = False)\n",
        "                     .sort_index())"
      ]
    },
    {
      "cell_type": "markdown",
      "metadata": {
        "id": "D7u1RZfjiCTp"
      },
      "source": [
        "As we see above, columns `crawled_date` and `last_seen` are percentages similar. The ads were crawled day by day for two months (March and April). Three last rows in `last_seen` column are diferent and disturb the rest of distribution. This values are higher than earlier but it's not because of sale many car, but probably bacause ending the crawled."
      ]
    },
    {
      "cell_type": "code",
      "execution_count": 107,
      "metadata": {
        "id": "Y4ga3esiiCTp",
        "outputId": "d97a057a-a186-49fc-8465-3e131dd71464",
        "colab": {
          "base_uri": "https://localhost:8080/"
        }
      },
      "outputs": [
        {
          "output_type": "execute_result",
          "data": {
            "text/plain": [
              "2015-08-07    0.000003\n",
              "2015-08-10    0.000003\n",
              "2015-09-04    0.000007\n",
              "2015-09-09    0.000003\n",
              "2015-10-14    0.000003\n",
              "                ...   \n",
              "2016-04-03    0.039619\n",
              "2016-04-04    0.037980\n",
              "2016-04-05    0.011375\n",
              "2016-04-06    0.003202\n",
              "2016-04-07    0.001553\n",
              "Name: ad_created, Length: 110, dtype: float64"
            ]
          },
          "metadata": {},
          "execution_count": 107
        }
      ],
      "source": [
        "(cars['ad_created'].str[:10]\n",
        "                     .value_counts(normalize = True, dropna = False)\n",
        "                     .sort_index())"
      ]
    },
    {
      "cell_type": "markdown",
      "metadata": {
        "id": "ficdkc1OiCTp"
      },
      "source": [
        "The most ads were created in two months (March and April) and that months tally with `crawled_date` and `last_seen` columns. But in `ad_created` column we saw records which had ads created 9 month earlier than first record in `crawled_date` column."
      ]
    },
    {
      "cell_type": "markdown",
      "metadata": {
        "id": "T_030C9aiCTp"
      },
      "source": [
        "## Exploring Price by brand"
      ]
    },
    {
      "cell_type": "markdown",
      "metadata": {
        "id": "UfrtzG1hiCTp"
      },
      "source": [
        "We chose top 20 brands and explore mean price of car."
      ]
    },
    {
      "cell_type": "code",
      "execution_count": 108,
      "metadata": {
        "id": "9zQZ3A6liCTq"
      },
      "outputs": [],
      "source": [
        "def means_by_brand(dataset, brand_column, mean_column):\n",
        "    '''\n",
        "    dataset - variable with data (dataframe)\n",
        "    brand_column - name of column with brands (string)\n",
        "    mean_column - name of column witch we want calcuate mean (string)\n",
        "    '''\n",
        "    mean_by_brands = {}\n",
        "    \n",
        "    brands = dataset[brand_column].value_counts(normalize = True).head(20).index\n",
        "    \n",
        "    for brand in brands:\n",
        "        one_brand = dataset[dataset[brand_column] == brand]\n",
        "        mean_value = one_brand[mean_column].mean()\n",
        "        mean_by_brands[brand] = int(mean_value)\n",
        "        \n",
        "    return mean_by_brands"
      ]
    },
    {
      "cell_type": "code",
      "execution_count": 109,
      "metadata": {
        "id": "sZ_vcYQ8iCTq",
        "outputId": "020fb76c-3ed8-482c-9da2-890a8706415c",
        "colab": {
          "base_uri": "https://localhost:8080/"
        }
      },
      "outputs": [
        {
          "output_type": "execute_result",
          "data": {
            "text/plain": [
              "{'volkswagen': 5849,\n",
              " 'bmw': 8922,\n",
              " 'opel': 3280,\n",
              " 'mercedes_benz': 9023,\n",
              " 'audi': 9646,\n",
              " 'ford': 4063,\n",
              " 'renault': 2718,\n",
              " 'peugeot': 3498,\n",
              " 'fiat': 3185,\n",
              " 'seat': 4847,\n",
              " 'skoda': 6840,\n",
              " 'mazda': 4439,\n",
              " 'smart': 3777,\n",
              " 'citroen': 3991,\n",
              " 'toyota': 5535,\n",
              " 'nissan': 5157,\n",
              " 'mini': 10088,\n",
              " 'hyundai': 5894,\n",
              " 'volvo': 5630,\n",
              " 'mitsubishi': 3704}"
            ]
          },
          "metadata": {},
          "execution_count": 109
        }
      ],
      "source": [
        "mean_price = means_by_brand(cars, 'brand', 'price_dol')\n",
        "mean_price"
      ]
    },
    {
      "cell_type": "markdown",
      "metadata": {
        "id": "SY9YKjaeiCTq"
      },
      "source": [
        "Top 5 most expensive cars are:\n",
        "1. mini\n",
        "2. audi\n",
        "3. mercedes_benz\n",
        "4. bmw\n",
        "5. skoda\n",
        "\n",
        "So we can conclude that:\n",
        "* Audi, mercedes and bwm are expensive and luxury cars. \n",
        "* Opel and ford are chipper cars but still good.\n",
        "* Skoda and volkswagen are the best option for both fiancial status. \n",
        "\n",
        "We deduct some brands in conclusion because some of them has low value of percentage of the total values."
      ]
    },
    {
      "cell_type": "markdown",
      "metadata": {
        "id": "jmHE1ofFiCTq"
      },
      "source": [
        "## Storing Aggregate Data in a DataFrame"
      ]
    },
    {
      "cell_type": "markdown",
      "metadata": {
        "id": "sJoZ5mVkiCTq"
      },
      "source": [
        "Below we created new data frame which store aggraagate data about mean price and mean mileage for top 20 brands."
      ]
    },
    {
      "cell_type": "code",
      "execution_count": 110,
      "metadata": {
        "id": "_R7Eenv2iCTq"
      },
      "outputs": [],
      "source": [
        "mileage = means_by_brand(cars, 'brand', 'odometer_km')"
      ]
    },
    {
      "cell_type": "code",
      "execution_count": 111,
      "metadata": {
        "id": "2Wb9a4HqiCTq"
      },
      "outputs": [],
      "source": [
        "brand_info = pd.DataFrame(pd.Series(mean_price), \n",
        "                          columns=['mean_price'])\n",
        "brand_info['mileage'] = pd.Series(mileage)"
      ]
    },
    {
      "cell_type": "code",
      "execution_count": 112,
      "metadata": {
        "id": "MO4xyWs9iCTq",
        "outputId": "2f4c20ae-b7eb-4b40-fd34-e881391298cd",
        "colab": {
          "base_uri": "https://localhost:8080/",
          "height": 676
        }
      },
      "outputs": [
        {
          "output_type": "execute_result",
          "data": {
            "text/plain": [
              "               mean_price  mileage\n",
              "volkswagen           5849   127649\n",
              "bmw                  8922   132648\n",
              "opel                 3280   127886\n",
              "mercedes_benz        9023   130356\n",
              "audi                 9646   128608\n",
              "ford                 4063   123202\n",
              "renault              2718   126540\n",
              "peugeot              3498   123347\n",
              "fiat                 3185   115396\n",
              "seat                 4847   119162\n",
              "skoda                6840   112733\n",
              "mazda                4439   124527\n",
              "smart                3777    98225\n",
              "citroen              3991   119497\n",
              "toyota               5535   116363\n",
              "nissan               5157   117896\n",
              "mini                10088    94027\n",
              "hyundai              5894   102561\n",
              "volvo                5630   138010\n",
              "mitsubishi           3704   125522"
            ],
            "text/html": [
              "\n",
              "  <div id=\"df-e507331c-c953-4bc0-8c66-afc0ad73eec8\">\n",
              "    <div class=\"colab-df-container\">\n",
              "      <div>\n",
              "<style scoped>\n",
              "    .dataframe tbody tr th:only-of-type {\n",
              "        vertical-align: middle;\n",
              "    }\n",
              "\n",
              "    .dataframe tbody tr th {\n",
              "        vertical-align: top;\n",
              "    }\n",
              "\n",
              "    .dataframe thead th {\n",
              "        text-align: right;\n",
              "    }\n",
              "</style>\n",
              "<table border=\"1\" class=\"dataframe\">\n",
              "  <thead>\n",
              "    <tr style=\"text-align: right;\">\n",
              "      <th></th>\n",
              "      <th>mean_price</th>\n",
              "      <th>mileage</th>\n",
              "    </tr>\n",
              "  </thead>\n",
              "  <tbody>\n",
              "    <tr>\n",
              "      <th>volkswagen</th>\n",
              "      <td>5849</td>\n",
              "      <td>127649</td>\n",
              "    </tr>\n",
              "    <tr>\n",
              "      <th>bmw</th>\n",
              "      <td>8922</td>\n",
              "      <td>132648</td>\n",
              "    </tr>\n",
              "    <tr>\n",
              "      <th>opel</th>\n",
              "      <td>3280</td>\n",
              "      <td>127886</td>\n",
              "    </tr>\n",
              "    <tr>\n",
              "      <th>mercedes_benz</th>\n",
              "      <td>9023</td>\n",
              "      <td>130356</td>\n",
              "    </tr>\n",
              "    <tr>\n",
              "      <th>audi</th>\n",
              "      <td>9646</td>\n",
              "      <td>128608</td>\n",
              "    </tr>\n",
              "    <tr>\n",
              "      <th>ford</th>\n",
              "      <td>4063</td>\n",
              "      <td>123202</td>\n",
              "    </tr>\n",
              "    <tr>\n",
              "      <th>renault</th>\n",
              "      <td>2718</td>\n",
              "      <td>126540</td>\n",
              "    </tr>\n",
              "    <tr>\n",
              "      <th>peugeot</th>\n",
              "      <td>3498</td>\n",
              "      <td>123347</td>\n",
              "    </tr>\n",
              "    <tr>\n",
              "      <th>fiat</th>\n",
              "      <td>3185</td>\n",
              "      <td>115396</td>\n",
              "    </tr>\n",
              "    <tr>\n",
              "      <th>seat</th>\n",
              "      <td>4847</td>\n",
              "      <td>119162</td>\n",
              "    </tr>\n",
              "    <tr>\n",
              "      <th>skoda</th>\n",
              "      <td>6840</td>\n",
              "      <td>112733</td>\n",
              "    </tr>\n",
              "    <tr>\n",
              "      <th>mazda</th>\n",
              "      <td>4439</td>\n",
              "      <td>124527</td>\n",
              "    </tr>\n",
              "    <tr>\n",
              "      <th>smart</th>\n",
              "      <td>3777</td>\n",
              "      <td>98225</td>\n",
              "    </tr>\n",
              "    <tr>\n",
              "      <th>citroen</th>\n",
              "      <td>3991</td>\n",
              "      <td>119497</td>\n",
              "    </tr>\n",
              "    <tr>\n",
              "      <th>toyota</th>\n",
              "      <td>5535</td>\n",
              "      <td>116363</td>\n",
              "    </tr>\n",
              "    <tr>\n",
              "      <th>nissan</th>\n",
              "      <td>5157</td>\n",
              "      <td>117896</td>\n",
              "    </tr>\n",
              "    <tr>\n",
              "      <th>mini</th>\n",
              "      <td>10088</td>\n",
              "      <td>94027</td>\n",
              "    </tr>\n",
              "    <tr>\n",
              "      <th>hyundai</th>\n",
              "      <td>5894</td>\n",
              "      <td>102561</td>\n",
              "    </tr>\n",
              "    <tr>\n",
              "      <th>volvo</th>\n",
              "      <td>5630</td>\n",
              "      <td>138010</td>\n",
              "    </tr>\n",
              "    <tr>\n",
              "      <th>mitsubishi</th>\n",
              "      <td>3704</td>\n",
              "      <td>125522</td>\n",
              "    </tr>\n",
              "  </tbody>\n",
              "</table>\n",
              "</div>\n",
              "      <button class=\"colab-df-convert\" onclick=\"convertToInteractive('df-e507331c-c953-4bc0-8c66-afc0ad73eec8')\"\n",
              "              title=\"Convert this dataframe to an interactive table.\"\n",
              "              style=\"display:none;\">\n",
              "        \n",
              "  <svg xmlns=\"http://www.w3.org/2000/svg\" height=\"24px\"viewBox=\"0 0 24 24\"\n",
              "       width=\"24px\">\n",
              "    <path d=\"M0 0h24v24H0V0z\" fill=\"none\"/>\n",
              "    <path d=\"M18.56 5.44l.94 2.06.94-2.06 2.06-.94-2.06-.94-.94-2.06-.94 2.06-2.06.94zm-11 1L8.5 8.5l.94-2.06 2.06-.94-2.06-.94L8.5 2.5l-.94 2.06-2.06.94zm10 10l.94 2.06.94-2.06 2.06-.94-2.06-.94-.94-2.06-.94 2.06-2.06.94z\"/><path d=\"M17.41 7.96l-1.37-1.37c-.4-.4-.92-.59-1.43-.59-.52 0-1.04.2-1.43.59L10.3 9.45l-7.72 7.72c-.78.78-.78 2.05 0 2.83L4 21.41c.39.39.9.59 1.41.59.51 0 1.02-.2 1.41-.59l7.78-7.78 2.81-2.81c.8-.78.8-2.07 0-2.86zM5.41 20L4 18.59l7.72-7.72 1.47 1.35L5.41 20z\"/>\n",
              "  </svg>\n",
              "      </button>\n",
              "      \n",
              "  <style>\n",
              "    .colab-df-container {\n",
              "      display:flex;\n",
              "      flex-wrap:wrap;\n",
              "      gap: 12px;\n",
              "    }\n",
              "\n",
              "    .colab-df-convert {\n",
              "      background-color: #E8F0FE;\n",
              "      border: none;\n",
              "      border-radius: 50%;\n",
              "      cursor: pointer;\n",
              "      display: none;\n",
              "      fill: #1967D2;\n",
              "      height: 32px;\n",
              "      padding: 0 0 0 0;\n",
              "      width: 32px;\n",
              "    }\n",
              "\n",
              "    .colab-df-convert:hover {\n",
              "      background-color: #E2EBFA;\n",
              "      box-shadow: 0px 1px 2px rgba(60, 64, 67, 0.3), 0px 1px 3px 1px rgba(60, 64, 67, 0.15);\n",
              "      fill: #174EA6;\n",
              "    }\n",
              "\n",
              "    [theme=dark] .colab-df-convert {\n",
              "      background-color: #3B4455;\n",
              "      fill: #D2E3FC;\n",
              "    }\n",
              "\n",
              "    [theme=dark] .colab-df-convert:hover {\n",
              "      background-color: #434B5C;\n",
              "      box-shadow: 0px 1px 3px 1px rgba(0, 0, 0, 0.15);\n",
              "      filter: drop-shadow(0px 1px 2px rgba(0, 0, 0, 0.3));\n",
              "      fill: #FFFFFF;\n",
              "    }\n",
              "  </style>\n",
              "\n",
              "      <script>\n",
              "        const buttonEl =\n",
              "          document.querySelector('#df-e507331c-c953-4bc0-8c66-afc0ad73eec8 button.colab-df-convert');\n",
              "        buttonEl.style.display =\n",
              "          google.colab.kernel.accessAllowed ? 'block' : 'none';\n",
              "\n",
              "        async function convertToInteractive(key) {\n",
              "          const element = document.querySelector('#df-e507331c-c953-4bc0-8c66-afc0ad73eec8');\n",
              "          const dataTable =\n",
              "            await google.colab.kernel.invokeFunction('convertToInteractive',\n",
              "                                                     [key], {});\n",
              "          if (!dataTable) return;\n",
              "\n",
              "          const docLinkHtml = 'Like what you see? Visit the ' +\n",
              "            '<a target=\"_blank\" href=https://colab.research.google.com/notebooks/data_table.ipynb>data table notebook</a>'\n",
              "            + ' to learn more about interactive tables.';\n",
              "          element.innerHTML = '';\n",
              "          dataTable['output_type'] = 'display_data';\n",
              "          await google.colab.output.renderOutput(dataTable, element);\n",
              "          const docLink = document.createElement('div');\n",
              "          docLink.innerHTML = docLinkHtml;\n",
              "          element.appendChild(docLink);\n",
              "        }\n",
              "      </script>\n",
              "    </div>\n",
              "  </div>\n",
              "  "
            ]
          },
          "metadata": {},
          "execution_count": 112
        }
      ],
      "source": [
        "brand_info"
      ]
    },
    {
      "cell_type": "markdown",
      "metadata": {
        "id": "uPpPuDL5iCTr"
      },
      "source": [
        "As we see above, all cars have similar mileage what confirm our earlier conclusion. And at the end of this project we can say that opel and ford are cheap cars with same mileage like 'luxury' cars (mean bmw, audi and mercedes_benz). Namely skoda and volkswagen are for both clients with high standrads and low. We can ad that skoda has lower mileage than volkswagen but volkswagen is cheaper. So, something for something."
      ]
    },
    {
      "cell_type": "markdown",
      "metadata": {
        "id": "b6AWd9EUiCTr"
      },
      "source": [
        "## Translating german words to english eqivalent"
      ]
    },
    {
      "cell_type": "code",
      "execution_count": 113,
      "metadata": {
        "id": "9kWYXf7DiCTr",
        "outputId": "5135dce9-b0ed-4f52-8216-86caf046cae1",
        "colab": {
          "base_uri": "https://localhost:8080/",
          "height": 363
        }
      },
      "outputs": [
        {
          "output_type": "execute_result",
          "data": {
            "text/plain": [
              "   vehicle_type    gearbox    model fuel_type unrepaired_damage\n",
              "1         coupe    manuell      NaN    diesel                ja\n",
              "2           suv  automatik    grand    diesel               NaN\n",
              "3    kleinwagen    manuell     golf    benzin              nein\n",
              "4    kleinwagen    manuell    fabia    diesel              nein\n",
              "5     limousine    manuell      3er    benzin                ja\n",
              "6        cabrio    manuell  2_reihe    benzin              nein\n",
              "8           bus    manuell    c_max    benzin               NaN\n",
              "10    limousine    manuell  3_reihe    benzin              nein\n",
              "11        kombi    manuell   passat    diesel                ja\n",
              "12        kombi    manuell   passat    benzin               NaN"
            ],
            "text/html": [
              "\n",
              "  <div id=\"df-ef9f1759-21eb-4042-a55f-7a95cb33ba66\">\n",
              "    <div class=\"colab-df-container\">\n",
              "      <div>\n",
              "<style scoped>\n",
              "    .dataframe tbody tr th:only-of-type {\n",
              "        vertical-align: middle;\n",
              "    }\n",
              "\n",
              "    .dataframe tbody tr th {\n",
              "        vertical-align: top;\n",
              "    }\n",
              "\n",
              "    .dataframe thead th {\n",
              "        text-align: right;\n",
              "    }\n",
              "</style>\n",
              "<table border=\"1\" class=\"dataframe\">\n",
              "  <thead>\n",
              "    <tr style=\"text-align: right;\">\n",
              "      <th></th>\n",
              "      <th>vehicle_type</th>\n",
              "      <th>gearbox</th>\n",
              "      <th>model</th>\n",
              "      <th>fuel_type</th>\n",
              "      <th>unrepaired_damage</th>\n",
              "    </tr>\n",
              "  </thead>\n",
              "  <tbody>\n",
              "    <tr>\n",
              "      <th>1</th>\n",
              "      <td>coupe</td>\n",
              "      <td>manuell</td>\n",
              "      <td>NaN</td>\n",
              "      <td>diesel</td>\n",
              "      <td>ja</td>\n",
              "    </tr>\n",
              "    <tr>\n",
              "      <th>2</th>\n",
              "      <td>suv</td>\n",
              "      <td>automatik</td>\n",
              "      <td>grand</td>\n",
              "      <td>diesel</td>\n",
              "      <td>NaN</td>\n",
              "    </tr>\n",
              "    <tr>\n",
              "      <th>3</th>\n",
              "      <td>kleinwagen</td>\n",
              "      <td>manuell</td>\n",
              "      <td>golf</td>\n",
              "      <td>benzin</td>\n",
              "      <td>nein</td>\n",
              "    </tr>\n",
              "    <tr>\n",
              "      <th>4</th>\n",
              "      <td>kleinwagen</td>\n",
              "      <td>manuell</td>\n",
              "      <td>fabia</td>\n",
              "      <td>diesel</td>\n",
              "      <td>nein</td>\n",
              "    </tr>\n",
              "    <tr>\n",
              "      <th>5</th>\n",
              "      <td>limousine</td>\n",
              "      <td>manuell</td>\n",
              "      <td>3er</td>\n",
              "      <td>benzin</td>\n",
              "      <td>ja</td>\n",
              "    </tr>\n",
              "    <tr>\n",
              "      <th>6</th>\n",
              "      <td>cabrio</td>\n",
              "      <td>manuell</td>\n",
              "      <td>2_reihe</td>\n",
              "      <td>benzin</td>\n",
              "      <td>nein</td>\n",
              "    </tr>\n",
              "    <tr>\n",
              "      <th>8</th>\n",
              "      <td>bus</td>\n",
              "      <td>manuell</td>\n",
              "      <td>c_max</td>\n",
              "      <td>benzin</td>\n",
              "      <td>NaN</td>\n",
              "    </tr>\n",
              "    <tr>\n",
              "      <th>10</th>\n",
              "      <td>limousine</td>\n",
              "      <td>manuell</td>\n",
              "      <td>3_reihe</td>\n",
              "      <td>benzin</td>\n",
              "      <td>nein</td>\n",
              "    </tr>\n",
              "    <tr>\n",
              "      <th>11</th>\n",
              "      <td>kombi</td>\n",
              "      <td>manuell</td>\n",
              "      <td>passat</td>\n",
              "      <td>diesel</td>\n",
              "      <td>ja</td>\n",
              "    </tr>\n",
              "    <tr>\n",
              "      <th>12</th>\n",
              "      <td>kombi</td>\n",
              "      <td>manuell</td>\n",
              "      <td>passat</td>\n",
              "      <td>benzin</td>\n",
              "      <td>NaN</td>\n",
              "    </tr>\n",
              "  </tbody>\n",
              "</table>\n",
              "</div>\n",
              "      <button class=\"colab-df-convert\" onclick=\"convertToInteractive('df-ef9f1759-21eb-4042-a55f-7a95cb33ba66')\"\n",
              "              title=\"Convert this dataframe to an interactive table.\"\n",
              "              style=\"display:none;\">\n",
              "        \n",
              "  <svg xmlns=\"http://www.w3.org/2000/svg\" height=\"24px\"viewBox=\"0 0 24 24\"\n",
              "       width=\"24px\">\n",
              "    <path d=\"M0 0h24v24H0V0z\" fill=\"none\"/>\n",
              "    <path d=\"M18.56 5.44l.94 2.06.94-2.06 2.06-.94-2.06-.94-.94-2.06-.94 2.06-2.06.94zm-11 1L8.5 8.5l.94-2.06 2.06-.94-2.06-.94L8.5 2.5l-.94 2.06-2.06.94zm10 10l.94 2.06.94-2.06 2.06-.94-2.06-.94-.94-2.06-.94 2.06-2.06.94z\"/><path d=\"M17.41 7.96l-1.37-1.37c-.4-.4-.92-.59-1.43-.59-.52 0-1.04.2-1.43.59L10.3 9.45l-7.72 7.72c-.78.78-.78 2.05 0 2.83L4 21.41c.39.39.9.59 1.41.59.51 0 1.02-.2 1.41-.59l7.78-7.78 2.81-2.81c.8-.78.8-2.07 0-2.86zM5.41 20L4 18.59l7.72-7.72 1.47 1.35L5.41 20z\"/>\n",
              "  </svg>\n",
              "      </button>\n",
              "      \n",
              "  <style>\n",
              "    .colab-df-container {\n",
              "      display:flex;\n",
              "      flex-wrap:wrap;\n",
              "      gap: 12px;\n",
              "    }\n",
              "\n",
              "    .colab-df-convert {\n",
              "      background-color: #E8F0FE;\n",
              "      border: none;\n",
              "      border-radius: 50%;\n",
              "      cursor: pointer;\n",
              "      display: none;\n",
              "      fill: #1967D2;\n",
              "      height: 32px;\n",
              "      padding: 0 0 0 0;\n",
              "      width: 32px;\n",
              "    }\n",
              "\n",
              "    .colab-df-convert:hover {\n",
              "      background-color: #E2EBFA;\n",
              "      box-shadow: 0px 1px 2px rgba(60, 64, 67, 0.3), 0px 1px 3px 1px rgba(60, 64, 67, 0.15);\n",
              "      fill: #174EA6;\n",
              "    }\n",
              "\n",
              "    [theme=dark] .colab-df-convert {\n",
              "      background-color: #3B4455;\n",
              "      fill: #D2E3FC;\n",
              "    }\n",
              "\n",
              "    [theme=dark] .colab-df-convert:hover {\n",
              "      background-color: #434B5C;\n",
              "      box-shadow: 0px 1px 3px 1px rgba(0, 0, 0, 0.15);\n",
              "      filter: drop-shadow(0px 1px 2px rgba(0, 0, 0, 0.3));\n",
              "      fill: #FFFFFF;\n",
              "    }\n",
              "  </style>\n",
              "\n",
              "      <script>\n",
              "        const buttonEl =\n",
              "          document.querySelector('#df-ef9f1759-21eb-4042-a55f-7a95cb33ba66 button.colab-df-convert');\n",
              "        buttonEl.style.display =\n",
              "          google.colab.kernel.accessAllowed ? 'block' : 'none';\n",
              "\n",
              "        async function convertToInteractive(key) {\n",
              "          const element = document.querySelector('#df-ef9f1759-21eb-4042-a55f-7a95cb33ba66');\n",
              "          const dataTable =\n",
              "            await google.colab.kernel.invokeFunction('convertToInteractive',\n",
              "                                                     [key], {});\n",
              "          if (!dataTable) return;\n",
              "\n",
              "          const docLinkHtml = 'Like what you see? Visit the ' +\n",
              "            '<a target=\"_blank\" href=https://colab.research.google.com/notebooks/data_table.ipynb>data table notebook</a>'\n",
              "            + ' to learn more about interactive tables.';\n",
              "          element.innerHTML = '';\n",
              "          dataTable['output_type'] = 'display_data';\n",
              "          await google.colab.output.renderOutput(dataTable, element);\n",
              "          const docLink = document.createElement('div');\n",
              "          docLink.innerHTML = docLinkHtml;\n",
              "          element.appendChild(docLink);\n",
              "        }\n",
              "      </script>\n",
              "    </div>\n",
              "  </div>\n",
              "  "
            ]
          },
          "metadata": {},
          "execution_count": 113
        }
      ],
      "source": [
        "cars[['vehicle_type', 'gearbox', \n",
        "      'model', 'fuel_type', 'unrepaired_damage']].head(10)"
      ]
    },
    {
      "cell_type": "markdown",
      "metadata": {
        "id": "7vBoXlFaiCTr"
      },
      "source": [
        "As we see, columns above shows strings in german. Our chalange were translating this words to english eqivalent. We did it below."
      ]
    },
    {
      "cell_type": "markdown",
      "metadata": {
        "id": "HZFLdvfOiCTr"
      },
      "source": [
        "### Vehicle_type\n",
        "\n",
        "In this column we had to change only two german words:\n",
        "* kleinwagen to small cars\n",
        "* andere to other"
      ]
    },
    {
      "cell_type": "code",
      "execution_count": 114,
      "metadata": {
        "id": "KndvGQkViCTr",
        "outputId": "24acc8a7-461f-475e-bda2-0a1f1db96bef",
        "colab": {
          "base_uri": "https://localhost:8080/"
        }
      },
      "outputs": [
        {
          "output_type": "execute_result",
          "data": {
            "text/plain": [
              "array(['coupe', 'suv', 'kleinwagen', 'limousine', 'cabrio', 'bus',\n",
              "       'kombi', nan, 'andere'], dtype=object)"
            ]
          },
          "metadata": {},
          "execution_count": 114
        }
      ],
      "source": [
        "cars['vehicle_type'].unique()"
      ]
    },
    {
      "cell_type": "code",
      "execution_count": 115,
      "metadata": {
        "id": "Bxg9kJYhiCTr"
      },
      "outputs": [],
      "source": [
        "cars.loc[cars['vehicle_type'] == 'kleinwagen', 'vehicle_type'] = 'small car'\n",
        "cars.loc[cars['vehicle_type'] == 'andere', 'vehicle_type'] = 'other'"
      ]
    },
    {
      "cell_type": "code",
      "execution_count": 116,
      "metadata": {
        "id": "vO6RM47niCTr",
        "outputId": "26655c8b-85d2-4e92-abbe-0a22347c30e8",
        "colab": {
          "base_uri": "https://localhost:8080/"
        }
      },
      "outputs": [
        {
          "output_type": "execute_result",
          "data": {
            "text/plain": [
              "array(['coupe', 'suv', 'small car', 'limousine', 'cabrio', 'bus', 'kombi',\n",
              "       nan, 'other'], dtype=object)"
            ]
          },
          "metadata": {},
          "execution_count": 116
        }
      ],
      "source": [
        "cars['vehicle_type'].unique()"
      ]
    },
    {
      "cell_type": "markdown",
      "metadata": {
        "id": "J6TYzSFCiCTs"
      },
      "source": [
        "### Gearbox\n",
        "\n",
        "Here, we had to change all words to english:\n",
        "* manuell to manual\n",
        "* automatik to automatic"
      ]
    },
    {
      "cell_type": "code",
      "execution_count": 117,
      "metadata": {
        "id": "leCSsSDNiCTs",
        "outputId": "a0d47506-7fdd-4631-b833-496f20f74529",
        "colab": {
          "base_uri": "https://localhost:8080/"
        }
      },
      "outputs": [
        {
          "output_type": "execute_result",
          "data": {
            "text/plain": [
              "array(['manuell', 'automatik', nan], dtype=object)"
            ]
          },
          "metadata": {},
          "execution_count": 117
        }
      ],
      "source": [
        "cars['gearbox'].unique()"
      ]
    },
    {
      "cell_type": "code",
      "execution_count": 118,
      "metadata": {
        "id": "9KfgSXe7iCTs"
      },
      "outputs": [],
      "source": [
        "cars.loc[cars['gearbox'] == 'manuell', 'gearbox'] = 'manual'\n",
        "cars.loc[cars['gearbox'] == 'automatik', 'gearbox'] = 'automatic'"
      ]
    },
    {
      "cell_type": "code",
      "execution_count": 119,
      "metadata": {
        "id": "QvDQAk2tiCTs",
        "outputId": "b4a8b31c-2bb8-4b41-f340-64f1cd078f38",
        "colab": {
          "base_uri": "https://localhost:8080/"
        }
      },
      "outputs": [
        {
          "output_type": "execute_result",
          "data": {
            "text/plain": [
              "array(['manual', 'automatic', nan], dtype=object)"
            ]
          },
          "metadata": {},
          "execution_count": 119
        }
      ],
      "source": [
        "cars['gearbox'].unique()"
      ]
    },
    {
      "cell_type": "markdown",
      "metadata": {
        "id": "GXX8RXbLiCTs"
      },
      "source": [
        "### Car model\n",
        "\n",
        "In this column german words are \"andere\" which we had to change to \"other\". Of course dataset has more german words but changing them will be difficult and very monotonous."
      ]
    },
    {
      "cell_type": "code",
      "execution_count": 120,
      "metadata": {
        "id": "mQ5oOTNfiCTs"
      },
      "outputs": [],
      "source": [
        "cars.loc[cars['model'] == 'andere', 'model'] = 'other'"
      ]
    },
    {
      "cell_type": "markdown",
      "metadata": {
        "id": "Rp6qqIoqiCTs"
      },
      "source": [
        "### Fuel type\n",
        "\n",
        "Here, we had the same situation like above and we just change 'andere' word."
      ]
    },
    {
      "cell_type": "code",
      "execution_count": 121,
      "metadata": {
        "id": "zPGxIOWuiCTs",
        "outputId": "556df14c-a0b4-4ca2-83fc-8722619713a6",
        "colab": {
          "base_uri": "https://localhost:8080/"
        }
      },
      "outputs": [
        {
          "output_type": "execute_result",
          "data": {
            "text/plain": [
              "array(['diesel', 'benzin', nan, 'lpg', 'andere', 'hybrid', 'cng',\n",
              "       'elektro'], dtype=object)"
            ]
          },
          "metadata": {},
          "execution_count": 121
        }
      ],
      "source": [
        "cars['fuel_type'].unique()"
      ]
    },
    {
      "cell_type": "code",
      "execution_count": 122,
      "metadata": {
        "id": "5wocPAlfiCTs"
      },
      "outputs": [],
      "source": [
        "cars.loc[cars['fuel_type'] == 'andere', 'fuel_type'] = 'other'"
      ]
    },
    {
      "cell_type": "code",
      "execution_count": 123,
      "metadata": {
        "id": "kEsD0RbliCTt",
        "outputId": "1bbb7ac5-4597-4c42-f48b-74370740cdc3",
        "colab": {
          "base_uri": "https://localhost:8080/"
        }
      },
      "outputs": [
        {
          "output_type": "execute_result",
          "data": {
            "text/plain": [
              "array(['diesel', 'benzin', nan, 'lpg', 'other', 'hybrid', 'cng',\n",
              "       'elektro'], dtype=object)"
            ]
          },
          "metadata": {},
          "execution_count": 123
        }
      ],
      "source": [
        "cars['fuel_type'].unique()"
      ]
    },
    {
      "cell_type": "markdown",
      "metadata": {
        "id": "KjYc4Y6KiCTt"
      },
      "source": [
        "### Unrepaired damage\n",
        "\n",
        "This column has two german words (\"nein\", \"ja\"). We changed it to english \"no\" and \"yes\"."
      ]
    },
    {
      "cell_type": "code",
      "execution_count": 124,
      "metadata": {
        "id": "tNAsvtDdiCTt",
        "outputId": "34666fc0-c242-40fc-cf8b-f5970a646de2",
        "colab": {
          "base_uri": "https://localhost:8080/"
        }
      },
      "outputs": [
        {
          "output_type": "execute_result",
          "data": {
            "text/plain": [
              "array(['ja', nan, 'nein'], dtype=object)"
            ]
          },
          "metadata": {},
          "execution_count": 124
        }
      ],
      "source": [
        "cars['unrepaired_damage'].unique()"
      ]
    },
    {
      "cell_type": "code",
      "execution_count": 125,
      "metadata": {
        "id": "iUcjQ67TiCTt"
      },
      "outputs": [],
      "source": [
        "cars.loc[cars['unrepaired_damage'] == 'ja', 'unrepaired_damage'] = 'yes'\n",
        "cars.loc[cars['unrepaired_damage'] == 'nein', 'unrepaired_damage'] = 'no'"
      ]
    },
    {
      "cell_type": "code",
      "execution_count": 126,
      "metadata": {
        "id": "59kMPMZZiCTt",
        "outputId": "069819ad-8012-4287-c198-516cafa7fb0c",
        "colab": {
          "base_uri": "https://localhost:8080/"
        }
      },
      "outputs": [
        {
          "output_type": "execute_result",
          "data": {
            "text/plain": [
              "array(['yes', nan, 'no'], dtype=object)"
            ]
          },
          "metadata": {},
          "execution_count": 126
        }
      ],
      "source": [
        "cars['unrepaired_damage'].unique()"
      ]
    },
    {
      "cell_type": "markdown",
      "metadata": {
        "id": "rqVBZTjUiCTt"
      },
      "source": [
        "## How much cheaper are cars with damage than their non-damaged counterparts?"
      ]
    },
    {
      "cell_type": "code",
      "execution_count": 127,
      "metadata": {
        "id": "diz-5uxMiCTt",
        "outputId": "22a36ae7-a50f-44fb-9997-1ba44804ae40",
        "colab": {
          "base_uri": "https://localhost:8080/"
        }
      },
      "outputs": [
        {
          "output_type": "stream",
          "name": "stdout",
          "text": [
            "Damged cars cost 2476.2696$\n",
            "Non-damaged cars cost 7342.3203$\n"
          ]
        }
      ],
      "source": [
        "damaged_cars_price = round(cars.loc[cars['unrepaired_damage'] == 'yes',\n",
        "                              'price_dol'].mean(), 4)\n",
        "non_damaged_cars_price = round(cars.loc[cars['unrepaired_damage'] == 'no',\n",
        "                              'price_dol'].mean(), 4)\n",
        "\n",
        "print(f'Damged cars cost {damaged_cars_price}$\\nNon-damaged cars cost {non_damaged_cars_price}$')"
      ]
    },
    {
      "cell_type": "markdown",
      "metadata": {
        "id": "f-8dfFQtiCTt"
      },
      "source": [
        "Based on average of prices, concluding is non-damaged cars are expensive 3 times more"
      ]
    }
  ],
  "metadata": {
    "kernelspec": {
      "display_name": "Python 3",
      "language": "python",
      "name": "python3"
    },
    "language_info": {
      "codemirror_mode": {
        "name": "ipython",
        "version": 3
      },
      "file_extension": ".py",
      "mimetype": "text/x-python",
      "name": "python",
      "nbconvert_exporter": "python",
      "pygments_lexer": "ipython3",
      "version": "3.8.2"
    },
    "colab": {
      "provenance": [],
      "toc_visible": true,
      "include_colab_link": true
    }
  },
  "nbformat": 4,
  "nbformat_minor": 0
}